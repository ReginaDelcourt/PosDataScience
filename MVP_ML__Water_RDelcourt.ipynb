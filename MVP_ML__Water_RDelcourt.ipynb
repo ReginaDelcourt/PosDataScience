{
  "nbformat": 4,
  "nbformat_minor": 0,
  "metadata": {
    "colab": {
      "provenance": [],
      "toc_visible": true,
      "include_colab_link": true
    },
    "kernelspec": {
      "name": "python3",
      "display_name": "Python 3"
    },
    "language_info": {
      "name": "python"
    }
  },
  "cells": [
    {
      "cell_type": "markdown",
      "metadata": {
        "id": "view-in-github",
        "colab_type": "text"
      },
      "source": [
        "<a href=\"https://colab.research.google.com/github/ReginaDelcourt/PosDataScience/blob/main/MVP_ML__Water_RDelcourt.ipynb\" target=\"_parent\"><img src=\"https://colab.research.google.com/assets/colab-badge.svg\" alt=\"Open In Colab\"/></a>"
      ]
    },
    {
      "cell_type": "markdown",
      "source": [
        "## **MVP - Sprint II - Machine Learning**\n",
        "## **Regina Delcourt**\n",
        "\n",
        "### Problema de Classificação\n",
        "\n"
      ],
      "metadata": {
        "id": "XRGmOwGF5VBu"
      }
    },
    {
      "cell_type": "markdown",
      "source": [
        "####**Estrutura**\n",
        "#####O notebook está dividido da seguinte maneira:\n",
        "#####1.   Definição do Problema\n",
        "#####1.1 - Configuração\n",
        "#####1.2 - Carregamento do Dataset\n",
        "#####2. Preparação dos Dados\n",
        "#####2.1 - Fazendo um pré-tratamento dos dados\n",
        "#####2.2 - Definição de atributos e classes\n",
        "#####2.3 - Seleção de Atributos\n",
        "#####2.4 - Separação em conjunto de treino e teste\n",
        "#####3. Modelagem e Inferência\n",
        "#####3.1 - Criação e avaliação de modelos: linha base\n",
        "#####3.2 - Criação e Avaliação de modelos: dados padronizados e normalizados\n",
        "#####3.3 - Otimização dos hiperparâmetros\n",
        "#####4. Finalização do Modelo e Avaliação de Resultados\n",
        "#####5. Simulando a Aplicação do Modelo em Dados Não Vistos\n",
        "#####6. Conclusão\n",
        "\n",
        "####**Créditos**\n",
        "#####O notebook foi adaptado do material de aula e documentado por: **Regina Delcourt**\n"
      ],
      "metadata": {
        "id": "XX_QcZU9XH5o"
      }
    },
    {
      "cell_type": "markdown",
      "source": [
        "####**1. Definição do Problema**\n",
        "#####*Objetivo*: Resolver um problema de classificação, onde, por meio de dados de parâmetros de qualidade da água, seja possível indicar se o consumo da água é seguro ou não seguro.\n",
        "#####*Definição do problema*: Um modelo de aprendizado de máquina relacionado à qualidade da água pode permitir, por exemplo, que as concessionárias de água monitorem a qualidade da água de forma a garantir que a água seja segura para consumo e outros usos, reduzindo o risco de contaminação e doenças, bem como melhorando a qualidade de vida geral daqueles que dependem da água para suas necessidades diárias.\n",
        "#####*Sobre o Dataset*: O conjunto de dados utilizados no presente trabalho, foi criado a partir de dados imaginários da qualidade da água em um ambiente urbano e obtido no repositório Kaggle (https://www.kaggle.com/datasets/mssmartypants/water-quality).\n",
        "#####A base de dados é composta por 20 atributos, relacionados à parâmetros da água, mais um atributo de classe. Todos os atributos são variáveis numéricas e considerados perigosos à saúde humana conforme indicado: alumínio (> 2,8); amônia (> 32,5); arsênico (> 0,01); bário (> 2); cádmio (> 0,005); cloramina (> 4); cromo (> 0,1); cobre (> 1,3); fluoreto (> 1,5); bactérias (> 0); vírus (> 0); chumbo (> 0,015); nitratos (> 10); nitritos (> 1); mercúrio (> 0,002); perclorato (> 56); rádio (> 5); selênio (> 0,5); prata (> 0,1); urânio (> 0,3); is_safe - atributo de classe {0 - não seguro, 1 - seguro}.\n",
        "\n",
        "\n"
      ],
      "metadata": {
        "id": "phiDZZ5bljB9"
      }
    },
    {
      "cell_type": "markdown",
      "source": [
        "####1.1 - Configuração para que os warnings não sejam exibidos importação dos pacotes utilizados neste notebook"
      ],
      "metadata": {
        "id": "S1gb2e3AcBmq"
      }
    },
    {
      "cell_type": "code",
      "execution_count": 1,
      "metadata": {
        "id": "sDfGzJRa28iT"
      },
      "outputs": [],
      "source": [
        "# Configuração para não exibir os warnings\n",
        "import warnings\n",
        "warnings.filterwarnings(\"ignore\")\n",
        "\n",
        "# Imports necessários\n",
        "import pandas as pd\n",
        "import numpy as np\n",
        "\n",
        "import matplotlib.pyplot as plt\n",
        "from sklearn.model_selection import train_test_split # para particionar em bases de treino e teste (holdout)\n",
        "\n",
        "# Imports para problemas de classificação\n",
        "\n",
        "from sklearn.model_selection import KFold # para preparar os folds da validação cruzada\n",
        "from sklearn.model_selection import cross_val_score # para executar a validação cruzada\n",
        "from sklearn.metrics import accuracy_score # para a exibição da acurácia do modelo\n",
        "from sklearn.neighbors import KNeighborsClassifier # algoritmo KNN\n",
        "from sklearn.tree import DecisionTreeClassifier # algoritmo Árvore de Classificação\n",
        "from sklearn.naive_bayes import GaussianNB # algoritmo Naive Bayes\n",
        "from sklearn.svm import SVC # algoritmo SVM\n",
        "\n",
        "from sklearn.preprocessing import StandardScaler\n",
        "from sklearn.preprocessing import MinMaxScaler\n",
        "from sklearn.model_selection import train_test_split\n",
        "from sklearn.model_selection import KFold\n",
        "from sklearn.model_selection import StratifiedKFold\n",
        "from sklearn.model_selection import cross_val_score\n",
        "from sklearn.model_selection import GridSearchCV\n",
        "from sklearn.metrics import accuracy_score\n",
        "from sklearn.pipeline import Pipeline\n",
        "from sklearn.linear_model import LogisticRegression\n",
        "from sklearn.tree import DecisionTreeClassifier\n",
        "from sklearn.neighbors import KNeighborsClassifier\n",
        "from sklearn.naive_bayes import GaussianNB\n",
        "from sklearn.svm import SVC\n",
        "from sklearn.ensemble import BaggingClassifier\n",
        "from sklearn.ensemble import RandomForestClassifier\n",
        "from sklearn.ensemble import ExtraTreesClassifier\n",
        "from sklearn.ensemble import VotingClassifier\n",
        "from sklearn.ensemble import AdaBoostClassifier\n",
        "from sklearn.ensemble import GradientBoostingClassifier\n",
        "\n",
        "\n",
        "# Imports dos Recursos Avançados Aplicados ao Aprendizado Supervisionado\n",
        "\n",
        "from sklearn.ensemble import ExtraTreesClassifier # ExtraTrees, para a Importância de Atributos\n",
        "from sklearn.feature_selection import SelectKBest # para a Seleção Univariada\n",
        "from sklearn.feature_selection import f_classif # para o teste ANOVA da Seleção Univariada\n",
        "from sklearn.feature_selection import RFE # para a Eliminação Recursiva de Atributos\n",
        "from sklearn.linear_model import LogisticRegression # Regressão Logística, para a Eliminação Recursiva de Atributos"
      ]
    },
    {
      "cell_type": "markdown",
      "source": [
        "####1.2 - Carregamento do dataset a partir de um arquivo disponível no git-hub e exibição das primeiras linhas do dataset"
      ],
      "metadata": {
        "id": "8uQhzlSCcOxP"
      }
    },
    {
      "cell_type": "code",
      "source": [
        "# carga do dataset através de um arquivo\n",
        "# url a importar\n",
        "url_dados = 'https://raw.githubusercontent.com/ReginaDelcourt/PosDataScience/main/waterQuality1.csv'\n",
        "\n",
        "# carga do dataset através do csv\n",
        "water = pd.read_csv(url_dados)\n",
        "\n",
        "# exibe as 5 primeiras linhas\n",
        "water.head()\n"
      ],
      "metadata": {
        "colab": {
          "base_uri": "https://localhost:8080/",
          "height": 299
        },
        "id": "awghaAZH3AbE",
        "outputId": "d8b194bb-3a70-4192-8e79-fad4ee5e2c17"
      },
      "execution_count": 2,
      "outputs": [
        {
          "output_type": "execute_result",
          "data": {
            "text/plain": [
              "   aluminium ammonia  arsenic  barium  cadmium  chloramine  chromium  copper  \\\n",
              "0       1.65    9.08     0.04    2.85    0.007        0.35      0.83    0.17   \n",
              "1       2.32   21.16     0.01    3.31    0.002        5.28      0.68    0.66   \n",
              "2       1.01   14.02     0.04    0.58    0.008        4.24      0.53    0.02   \n",
              "3       1.36   11.33     0.04    2.96    0.001        7.23      0.03    1.66   \n",
              "4       0.92   24.33     0.03    0.20    0.006        2.67      0.69    0.57   \n",
              "\n",
              "   flouride  bacteria  ...   lead  nitrates  nitrites  mercury  perchlorate  \\\n",
              "0      0.05      0.20  ...  0.054     16.08      1.13    0.007        37.75   \n",
              "1      0.90      0.65  ...  0.100      2.01      1.93    0.003        32.26   \n",
              "2      0.99      0.05  ...  0.078     14.16      1.11    0.006        50.28   \n",
              "3      1.08      0.71  ...  0.016      1.41      1.29    0.004         9.12   \n",
              "4      0.61      0.13  ...  0.117      6.74      1.11    0.003        16.90   \n",
              "\n",
              "   radium  selenium  silver  uranium  is_safe  \n",
              "0    6.78      0.08    0.34     0.02        1  \n",
              "1    3.21      0.08    0.27     0.05        1  \n",
              "2    7.07      0.07    0.44     0.01        0  \n",
              "3    1.72      0.02    0.45     0.05        1  \n",
              "4    2.41      0.02    0.06     0.02        1  \n",
              "\n",
              "[5 rows x 21 columns]"
            ],
            "text/html": [
              "\n",
              "\n",
              "  <div id=\"df-8482f975-6818-4825-8e7e-e29c17e969fd\">\n",
              "    <div class=\"colab-df-container\">\n",
              "      <div>\n",
              "<style scoped>\n",
              "    .dataframe tbody tr th:only-of-type {\n",
              "        vertical-align: middle;\n",
              "    }\n",
              "\n",
              "    .dataframe tbody tr th {\n",
              "        vertical-align: top;\n",
              "    }\n",
              "\n",
              "    .dataframe thead th {\n",
              "        text-align: right;\n",
              "    }\n",
              "</style>\n",
              "<table border=\"1\" class=\"dataframe\">\n",
              "  <thead>\n",
              "    <tr style=\"text-align: right;\">\n",
              "      <th></th>\n",
              "      <th>aluminium</th>\n",
              "      <th>ammonia</th>\n",
              "      <th>arsenic</th>\n",
              "      <th>barium</th>\n",
              "      <th>cadmium</th>\n",
              "      <th>chloramine</th>\n",
              "      <th>chromium</th>\n",
              "      <th>copper</th>\n",
              "      <th>flouride</th>\n",
              "      <th>bacteria</th>\n",
              "      <th>...</th>\n",
              "      <th>lead</th>\n",
              "      <th>nitrates</th>\n",
              "      <th>nitrites</th>\n",
              "      <th>mercury</th>\n",
              "      <th>perchlorate</th>\n",
              "      <th>radium</th>\n",
              "      <th>selenium</th>\n",
              "      <th>silver</th>\n",
              "      <th>uranium</th>\n",
              "      <th>is_safe</th>\n",
              "    </tr>\n",
              "  </thead>\n",
              "  <tbody>\n",
              "    <tr>\n",
              "      <th>0</th>\n",
              "      <td>1.65</td>\n",
              "      <td>9.08</td>\n",
              "      <td>0.04</td>\n",
              "      <td>2.85</td>\n",
              "      <td>0.007</td>\n",
              "      <td>0.35</td>\n",
              "      <td>0.83</td>\n",
              "      <td>0.17</td>\n",
              "      <td>0.05</td>\n",
              "      <td>0.20</td>\n",
              "      <td>...</td>\n",
              "      <td>0.054</td>\n",
              "      <td>16.08</td>\n",
              "      <td>1.13</td>\n",
              "      <td>0.007</td>\n",
              "      <td>37.75</td>\n",
              "      <td>6.78</td>\n",
              "      <td>0.08</td>\n",
              "      <td>0.34</td>\n",
              "      <td>0.02</td>\n",
              "      <td>1</td>\n",
              "    </tr>\n",
              "    <tr>\n",
              "      <th>1</th>\n",
              "      <td>2.32</td>\n",
              "      <td>21.16</td>\n",
              "      <td>0.01</td>\n",
              "      <td>3.31</td>\n",
              "      <td>0.002</td>\n",
              "      <td>5.28</td>\n",
              "      <td>0.68</td>\n",
              "      <td>0.66</td>\n",
              "      <td>0.90</td>\n",
              "      <td>0.65</td>\n",
              "      <td>...</td>\n",
              "      <td>0.100</td>\n",
              "      <td>2.01</td>\n",
              "      <td>1.93</td>\n",
              "      <td>0.003</td>\n",
              "      <td>32.26</td>\n",
              "      <td>3.21</td>\n",
              "      <td>0.08</td>\n",
              "      <td>0.27</td>\n",
              "      <td>0.05</td>\n",
              "      <td>1</td>\n",
              "    </tr>\n",
              "    <tr>\n",
              "      <th>2</th>\n",
              "      <td>1.01</td>\n",
              "      <td>14.02</td>\n",
              "      <td>0.04</td>\n",
              "      <td>0.58</td>\n",
              "      <td>0.008</td>\n",
              "      <td>4.24</td>\n",
              "      <td>0.53</td>\n",
              "      <td>0.02</td>\n",
              "      <td>0.99</td>\n",
              "      <td>0.05</td>\n",
              "      <td>...</td>\n",
              "      <td>0.078</td>\n",
              "      <td>14.16</td>\n",
              "      <td>1.11</td>\n",
              "      <td>0.006</td>\n",
              "      <td>50.28</td>\n",
              "      <td>7.07</td>\n",
              "      <td>0.07</td>\n",
              "      <td>0.44</td>\n",
              "      <td>0.01</td>\n",
              "      <td>0</td>\n",
              "    </tr>\n",
              "    <tr>\n",
              "      <th>3</th>\n",
              "      <td>1.36</td>\n",
              "      <td>11.33</td>\n",
              "      <td>0.04</td>\n",
              "      <td>2.96</td>\n",
              "      <td>0.001</td>\n",
              "      <td>7.23</td>\n",
              "      <td>0.03</td>\n",
              "      <td>1.66</td>\n",
              "      <td>1.08</td>\n",
              "      <td>0.71</td>\n",
              "      <td>...</td>\n",
              "      <td>0.016</td>\n",
              "      <td>1.41</td>\n",
              "      <td>1.29</td>\n",
              "      <td>0.004</td>\n",
              "      <td>9.12</td>\n",
              "      <td>1.72</td>\n",
              "      <td>0.02</td>\n",
              "      <td>0.45</td>\n",
              "      <td>0.05</td>\n",
              "      <td>1</td>\n",
              "    </tr>\n",
              "    <tr>\n",
              "      <th>4</th>\n",
              "      <td>0.92</td>\n",
              "      <td>24.33</td>\n",
              "      <td>0.03</td>\n",
              "      <td>0.20</td>\n",
              "      <td>0.006</td>\n",
              "      <td>2.67</td>\n",
              "      <td>0.69</td>\n",
              "      <td>0.57</td>\n",
              "      <td>0.61</td>\n",
              "      <td>0.13</td>\n",
              "      <td>...</td>\n",
              "      <td>0.117</td>\n",
              "      <td>6.74</td>\n",
              "      <td>1.11</td>\n",
              "      <td>0.003</td>\n",
              "      <td>16.90</td>\n",
              "      <td>2.41</td>\n",
              "      <td>0.02</td>\n",
              "      <td>0.06</td>\n",
              "      <td>0.02</td>\n",
              "      <td>1</td>\n",
              "    </tr>\n",
              "  </tbody>\n",
              "</table>\n",
              "<p>5 rows × 21 columns</p>\n",
              "</div>\n",
              "      <button class=\"colab-df-convert\" onclick=\"convertToInteractive('df-8482f975-6818-4825-8e7e-e29c17e969fd')\"\n",
              "              title=\"Convert this dataframe to an interactive table.\"\n",
              "              style=\"display:none;\">\n",
              "\n",
              "  <svg xmlns=\"http://www.w3.org/2000/svg\" height=\"24px\"viewBox=\"0 0 24 24\"\n",
              "       width=\"24px\">\n",
              "    <path d=\"M0 0h24v24H0V0z\" fill=\"none\"/>\n",
              "    <path d=\"M18.56 5.44l.94 2.06.94-2.06 2.06-.94-2.06-.94-.94-2.06-.94 2.06-2.06.94zm-11 1L8.5 8.5l.94-2.06 2.06-.94-2.06-.94L8.5 2.5l-.94 2.06-2.06.94zm10 10l.94 2.06.94-2.06 2.06-.94-2.06-.94-.94-2.06-.94 2.06-2.06.94z\"/><path d=\"M17.41 7.96l-1.37-1.37c-.4-.4-.92-.59-1.43-.59-.52 0-1.04.2-1.43.59L10.3 9.45l-7.72 7.72c-.78.78-.78 2.05 0 2.83L4 21.41c.39.39.9.59 1.41.59.51 0 1.02-.2 1.41-.59l7.78-7.78 2.81-2.81c.8-.78.8-2.07 0-2.86zM5.41 20L4 18.59l7.72-7.72 1.47 1.35L5.41 20z\"/>\n",
              "  </svg>\n",
              "      </button>\n",
              "\n",
              "\n",
              "\n",
              "    <div id=\"df-d0ac4a83-eb03-4279-8650-a6e1c29adbff\">\n",
              "      <button class=\"colab-df-quickchart\" onclick=\"quickchart('df-d0ac4a83-eb03-4279-8650-a6e1c29adbff')\"\n",
              "              title=\"Suggest charts.\"\n",
              "              style=\"display:none;\">\n",
              "\n",
              "<svg xmlns=\"http://www.w3.org/2000/svg\" height=\"24px\"viewBox=\"0 0 24 24\"\n",
              "     width=\"24px\">\n",
              "    <g>\n",
              "        <path d=\"M19 3H5c-1.1 0-2 .9-2 2v14c0 1.1.9 2 2 2h14c1.1 0 2-.9 2-2V5c0-1.1-.9-2-2-2zM9 17H7v-7h2v7zm4 0h-2V7h2v10zm4 0h-2v-4h2v4z\"/>\n",
              "    </g>\n",
              "</svg>\n",
              "      </button>\n",
              "    </div>\n",
              "\n",
              "<style>\n",
              "  .colab-df-quickchart {\n",
              "    background-color: #E8F0FE;\n",
              "    border: none;\n",
              "    border-radius: 50%;\n",
              "    cursor: pointer;\n",
              "    display: none;\n",
              "    fill: #1967D2;\n",
              "    height: 32px;\n",
              "    padding: 0 0 0 0;\n",
              "    width: 32px;\n",
              "  }\n",
              "\n",
              "  .colab-df-quickchart:hover {\n",
              "    background-color: #E2EBFA;\n",
              "    box-shadow: 0px 1px 2px rgba(60, 64, 67, 0.3), 0px 1px 3px 1px rgba(60, 64, 67, 0.15);\n",
              "    fill: #174EA6;\n",
              "  }\n",
              "\n",
              "  [theme=dark] .colab-df-quickchart {\n",
              "    background-color: #3B4455;\n",
              "    fill: #D2E3FC;\n",
              "  }\n",
              "\n",
              "  [theme=dark] .colab-df-quickchart:hover {\n",
              "    background-color: #434B5C;\n",
              "    box-shadow: 0px 1px 3px 1px rgba(0, 0, 0, 0.15);\n",
              "    filter: drop-shadow(0px 1px 2px rgba(0, 0, 0, 0.3));\n",
              "    fill: #FFFFFF;\n",
              "  }\n",
              "</style>\n",
              "\n",
              "    <script>\n",
              "      async function quickchart(key) {\n",
              "        const containerElement = document.querySelector('#' + key);\n",
              "        const charts = await google.colab.kernel.invokeFunction(\n",
              "            'suggestCharts', [key], {});\n",
              "      }\n",
              "    </script>\n",
              "\n",
              "      <script>\n",
              "\n",
              "function displayQuickchartButton(domScope) {\n",
              "  let quickchartButtonEl =\n",
              "    domScope.querySelector('#df-d0ac4a83-eb03-4279-8650-a6e1c29adbff button.colab-df-quickchart');\n",
              "  quickchartButtonEl.style.display =\n",
              "    google.colab.kernel.accessAllowed ? 'block' : 'none';\n",
              "}\n",
              "\n",
              "        displayQuickchartButton(document);\n",
              "      </script>\n",
              "      <style>\n",
              "    .colab-df-container {\n",
              "      display:flex;\n",
              "      flex-wrap:wrap;\n",
              "      gap: 12px;\n",
              "    }\n",
              "\n",
              "    .colab-df-convert {\n",
              "      background-color: #E8F0FE;\n",
              "      border: none;\n",
              "      border-radius: 50%;\n",
              "      cursor: pointer;\n",
              "      display: none;\n",
              "      fill: #1967D2;\n",
              "      height: 32px;\n",
              "      padding: 0 0 0 0;\n",
              "      width: 32px;\n",
              "    }\n",
              "\n",
              "    .colab-df-convert:hover {\n",
              "      background-color: #E2EBFA;\n",
              "      box-shadow: 0px 1px 2px rgba(60, 64, 67, 0.3), 0px 1px 3px 1px rgba(60, 64, 67, 0.15);\n",
              "      fill: #174EA6;\n",
              "    }\n",
              "\n",
              "    [theme=dark] .colab-df-convert {\n",
              "      background-color: #3B4455;\n",
              "      fill: #D2E3FC;\n",
              "    }\n",
              "\n",
              "    [theme=dark] .colab-df-convert:hover {\n",
              "      background-color: #434B5C;\n",
              "      box-shadow: 0px 1px 3px 1px rgba(0, 0, 0, 0.15);\n",
              "      filter: drop-shadow(0px 1px 2px rgba(0, 0, 0, 0.3));\n",
              "      fill: #FFFFFF;\n",
              "    }\n",
              "  </style>\n",
              "\n",
              "      <script>\n",
              "        const buttonEl =\n",
              "          document.querySelector('#df-8482f975-6818-4825-8e7e-e29c17e969fd button.colab-df-convert');\n",
              "        buttonEl.style.display =\n",
              "          google.colab.kernel.accessAllowed ? 'block' : 'none';\n",
              "\n",
              "        async function convertToInteractive(key) {\n",
              "          const element = document.querySelector('#df-8482f975-6818-4825-8e7e-e29c17e969fd');\n",
              "          const dataTable =\n",
              "            await google.colab.kernel.invokeFunction('convertToInteractive',\n",
              "                                                     [key], {});\n",
              "          if (!dataTable) return;\n",
              "\n",
              "          const docLinkHtml = 'Like what you see? Visit the ' +\n",
              "            '<a target=\"_blank\" href=https://colab.research.google.com/notebooks/data_table.ipynb>data table notebook</a>'\n",
              "            + ' to learn more about interactive tables.';\n",
              "          element.innerHTML = '';\n",
              "          dataTable['output_type'] = 'display_data';\n",
              "          await google.colab.output.renderOutput(dataTable, element);\n",
              "          const docLink = document.createElement('div');\n",
              "          docLink.innerHTML = docLinkHtml;\n",
              "          element.appendChild(docLink);\n",
              "        }\n",
              "      </script>\n",
              "    </div>\n",
              "  </div>\n"
            ]
          },
          "metadata": {},
          "execution_count": 2
        }
      ]
    },
    {
      "cell_type": "markdown",
      "source": [
        "####**2. Preparação dos Dados**\n",
        "#####*Objetivo*: Realizar operações de preparação dos dados.\n",
        "\n"
      ],
      "metadata": {
        "id": "dmM2XaBnvDks"
      }
    },
    {
      "cell_type": "markdown",
      "source": [
        "####2.1 - Fazendo um pré-tratamento dos dados: verificando presença de objetos, eliminando linhas que tenham algum valor missing, com erro, e convertendo objetos em números inteiros."
      ],
      "metadata": {
        "id": "Ldnxxvm-cju9"
      }
    },
    {
      "cell_type": "code",
      "source": [
        "#verificando a presença de objetos\n",
        "water.info()\n",
        "\n",
        "# Imprimindo Alteração no Console\n",
        "print(water)\n",
        "\n",
        "#verificando a presença de dados vazios\n",
        "print(f'Number of NaNs values: {water.isna().sum().sum()}')"
      ],
      "metadata": {
        "colab": {
          "base_uri": "https://localhost:8080/"
        },
        "id": "4eJpioP5PtvS",
        "outputId": "095b9bf5-4716-4d17-f8c5-fec1338e1a7e"
      },
      "execution_count": 3,
      "outputs": [
        {
          "output_type": "stream",
          "name": "stdout",
          "text": [
            "<class 'pandas.core.frame.DataFrame'>\n",
            "RangeIndex: 7999 entries, 0 to 7998\n",
            "Data columns (total 21 columns):\n",
            " #   Column       Non-Null Count  Dtype  \n",
            "---  ------       --------------  -----  \n",
            " 0   aluminium    7999 non-null   float64\n",
            " 1   ammonia      7999 non-null   object \n",
            " 2   arsenic      7999 non-null   float64\n",
            " 3   barium       7999 non-null   float64\n",
            " 4   cadmium      7999 non-null   float64\n",
            " 5   chloramine   7999 non-null   float64\n",
            " 6   chromium     7999 non-null   float64\n",
            " 7   copper       7999 non-null   float64\n",
            " 8   flouride     7999 non-null   float64\n",
            " 9   bacteria     7999 non-null   float64\n",
            " 10  viruses      7999 non-null   float64\n",
            " 11  lead         7999 non-null   float64\n",
            " 12  nitrates     7999 non-null   float64\n",
            " 13  nitrites     7999 non-null   float64\n",
            " 14  mercury      7999 non-null   float64\n",
            " 15  perchlorate  7999 non-null   float64\n",
            " 16  radium       7999 non-null   float64\n",
            " 17  selenium     7999 non-null   float64\n",
            " 18  silver       7999 non-null   float64\n",
            " 19  uranium      7999 non-null   float64\n",
            " 20  is_safe      7999 non-null   object \n",
            "dtypes: float64(19), object(2)\n",
            "memory usage: 1.3+ MB\n",
            "      aluminium ammonia  arsenic  barium  cadmium  chloramine  chromium  \\\n",
            "0          1.65    9.08     0.04    2.85    0.007        0.35      0.83   \n",
            "1          2.32   21.16     0.01    3.31    0.002        5.28      0.68   \n",
            "2          1.01   14.02     0.04    0.58    0.008        4.24      0.53   \n",
            "3          1.36   11.33     0.04    2.96    0.001        7.23      0.03   \n",
            "4          0.92   24.33     0.03    0.20    0.006        2.67      0.69   \n",
            "...         ...     ...      ...     ...      ...         ...       ...   \n",
            "7994       0.05    7.78     0.00    1.95    0.040        0.10      0.03   \n",
            "7995       0.05   24.22     0.02    0.59    0.010        0.45      0.02   \n",
            "7996       0.09    6.85     0.00    0.61    0.030        0.05      0.05   \n",
            "7997       0.01      10     0.01    2.00    0.000        2.00      0.00   \n",
            "7998       0.04    6.85     0.01    0.70    0.030        0.05      0.01   \n",
            "\n",
            "      copper  flouride  bacteria  ...   lead  nitrates  nitrites  mercury  \\\n",
            "0       0.17      0.05      0.20  ...  0.054     16.08      1.13    0.007   \n",
            "1       0.66      0.90      0.65  ...  0.100      2.01      1.93    0.003   \n",
            "2       0.02      0.99      0.05  ...  0.078     14.16      1.11    0.006   \n",
            "3       1.66      1.08      0.71  ...  0.016      1.41      1.29    0.004   \n",
            "4       0.57      0.61      0.13  ...  0.117      6.74      1.11    0.003   \n",
            "...      ...       ...       ...  ...    ...       ...       ...      ...   \n",
            "7994    0.03      1.37      0.00  ...  0.197     14.29      1.00    0.005   \n",
            "7995    0.02      1.48      0.00  ...  0.031     10.27      1.00    0.001   \n",
            "7996    0.02      0.91      0.00  ...  0.182     15.92      1.00    0.000   \n",
            "7997    0.09      0.00      0.00  ...  0.000      0.00      0.00    0.000   \n",
            "7998    0.03      1.00      0.00  ...  0.182     15.92      1.00    0.000   \n",
            "\n",
            "      perchlorate  radium  selenium  silver  uranium  is_safe  \n",
            "0           37.75    6.78      0.08    0.34     0.02        1  \n",
            "1           32.26    3.21      0.08    0.27     0.05        1  \n",
            "2           50.28    7.07      0.07    0.44     0.01        0  \n",
            "3            9.12    1.72      0.02    0.45     0.05        1  \n",
            "4           16.90    2.41      0.02    0.06     0.02        1  \n",
            "...           ...     ...       ...     ...      ...      ...  \n",
            "7994         3.57    2.13      0.09    0.06     0.03        1  \n",
            "7995         1.48    1.11      0.09    0.10     0.08        1  \n",
            "7996         1.35    4.84      0.00    0.04     0.05        1  \n",
            "7997         0.00    0.00      0.00    0.00     0.00        1  \n",
            "7998         1.35    4.84      0.00    0.04     0.05        1  \n",
            "\n",
            "[7999 rows x 21 columns]\n",
            "Number of NaNs values: 0\n"
          ]
        }
      ]
    },
    {
      "cell_type": "code",
      "source": [
        "# eliminando linhas que tenham algum valor missing, com erro, e convertendo objetos em int\n",
        "water = water.replace(['#NUM!'], 0)\n",
        "water['ammonia'] = water['ammonia'].astype(float)\n",
        "water['is_safe'] = water['is_safe'].astype(int)\n",
        "water = water.dropna(how='any')\n",
        "water = water.replace(np.nan, 0)"
      ],
      "metadata": {
        "id": "s3nddlFnRf54"
      },
      "execution_count": 4,
      "outputs": []
    },
    {
      "cell_type": "markdown",
      "source": [
        "####2.2 - Definição de atributos e classes\n"
      ],
      "metadata": {
        "id": "w82LBkJld-j9"
      }
    },
    {
      "cell_type": "code",
      "source": [
        "# tamanho do conjunto de teste\n",
        "#test_size = 0.30\n",
        "#seed = 7 # semente aleatória\n",
        "\n",
        "# Separação em bases de treino e teste (holdout)\n",
        "array = water.values\n",
        "X = array[:,0:20] # atributos\n",
        "y = array[:,20] # classe (is_safe)"
      ],
      "metadata": {
        "id": "ZHhrO6jNptL-"
      },
      "execution_count": 5,
      "outputs": []
    },
    {
      "cell_type": "markdown",
      "source": [
        "####2.3 - Seleção de Atributos (Feature Selection)\n",
        "#####Objetivo: Refinar a quantidade de atributos de nossa base.\n"
      ],
      "metadata": {
        "id": "QJDB0QAme95Q"
      }
    },
    {
      "cell_type": "code",
      "source": [
        "# Importância de Atributos com ExtraTrees\n",
        "\n",
        "# Criação do modelo para seleção de atributos\n",
        "modelo = ExtraTreesClassifier(n_estimators=100)\n",
        "modelo.fit(X,y)\n",
        "\n",
        "# Exibe os atributos orginais\n",
        "print(\"\\nAtributos Originais:\", water.columns[0:20])\n",
        "\n",
        "# Exibe a pontuação de importância para cada atributo (quanto maior a pontuação, mais importante é o atributo).\n",
        "print(modelo.feature_importances_)"
      ],
      "metadata": {
        "id": "LWVd7qCXfQSg",
        "colab": {
          "base_uri": "https://localhost:8080/"
        },
        "outputId": "c6cc8c2a-2df6-439c-d099-973e5393394c"
      },
      "execution_count": 6,
      "outputs": [
        {
          "output_type": "stream",
          "name": "stdout",
          "text": [
            "\n",
            "Atributos Originais: Index(['aluminium', 'ammonia', 'arsenic', 'barium', 'cadmium', 'chloramine',\n",
            "       'chromium', 'copper', 'flouride', 'bacteria', 'viruses', 'lead',\n",
            "       'nitrates', 'nitrites', 'mercury', 'perchlorate', 'radium', 'selenium',\n",
            "       'silver', 'uranium'],\n",
            "      dtype='object')\n",
            "[0.2362222  0.03809593 0.07745024 0.02947522 0.08630763 0.04630019\n",
            " 0.04254007 0.02573933 0.02360885 0.03646862 0.03733981 0.02546441\n",
            " 0.03399781 0.03184147 0.0243734  0.07675416 0.02908949 0.0237711\n",
            " 0.04124684 0.03391324]\n"
          ]
        }
      ]
    },
    {
      "cell_type": "markdown",
      "source": [
        "#####Realizando-se a seleção de atributos com o método ExtraTrees, observou-se 4 atributos com maior pontuação. Dessa forma, para os outros métodos de seleção de atributos (SelectKBest e Eliminação Recursiva) serão considerados apenas 4 atributos."
      ],
      "metadata": {
        "id": "P-U4qyHMnybI"
      }
    },
    {
      "cell_type": "code",
      "source": [
        "# SelectKBest\n",
        "\n",
        "# Seleção de atributos com SelectKBest\n",
        "best_var = SelectKBest(score_func=f_classif, k=4)\n",
        "\n",
        "# Executa a função de pontuação em (X, y) e obtém os atributos selecionados\n",
        "fit = best_var.fit(X, y)\n",
        "\n",
        "# Reduz X para os atributos selecionados\n",
        "features = fit.transform(X)\n",
        "\n",
        "# Resultados\n",
        "print('\\nNúmero original de atributos:', X.shape[1])\n",
        "print('\\nNúmero reduzido de atributos:', features.shape[1])\n",
        "\n",
        "# Exibe os atributos orginais\n",
        "print(\"\\nAtributos Originais:\", water.columns[0:20])\n",
        "\n",
        "# Exibe as pontuações de cada atributos e os 4 escolhidas (com as pontuações mais altas)\n",
        "np.set_printoptions(precision=3) # 3 casas decimais\n",
        "print(\"\\nScores dos Atributos Originais:\", fit.scores_)\n",
        "print(\"\\nAtributos Selecionados:\", best_var.get_feature_names_out(input_features = water.columns[0:20]))"
      ],
      "metadata": {
        "id": "zKp6W1aLfEa8",
        "colab": {
          "base_uri": "https://localhost:8080/"
        },
        "outputId": "265a1b29-fc5f-4474-a448-401f9503752a"
      },
      "execution_count": 7,
      "outputs": [
        {
          "output_type": "stream",
          "name": "stdout",
          "text": [
            "\n",
            "Número original de atributos: 20\n",
            "\n",
            "Número reduzido de atributos: 4\n",
            "\n",
            "Atributos Originais: Index(['aluminium', 'ammonia', 'arsenic', 'barium', 'cadmium', 'chloramine',\n",
            "       'chromium', 'copper', 'flouride', 'bacteria', 'viruses', 'lead',\n",
            "       'nitrates', 'nitrites', 'mercury', 'perchlorate', 'radium', 'selenium',\n",
            "       'silver', 'uranium'],\n",
            "      dtype='object')\n",
            "\n",
            "Scores dos Atributos Originais: [1.004e+03 4.120e+00 1.235e+02 6.665e+01 5.609e+02 2.891e+02 2.752e+02\n",
            " 6.985e+00 3.501e-01 3.880e+00 7.581e+01 8.131e-01 4.175e+01 1.764e+01\n",
            " 1.093e+01 4.625e+01 3.357e+01 7.661e+00 8.555e+01 4.599e+01]\n",
            "\n",
            "Atributos Selecionados: ['aluminium' 'cadmium' 'chloramine' 'chromium']\n"
          ]
        }
      ]
    },
    {
      "cell_type": "code",
      "source": [
        "# Eliminação Recursiva de Atributos\n",
        "\n",
        "# Criação do modelo\n",
        "modelo = LogisticRegression(max_iter=200)\n",
        "\n",
        "# Eliminação Recursiva de Atributos\n",
        "rfe = RFE(modelo, n_features_to_select=4)\n",
        "fit = rfe.fit(X, y)\n",
        "\n",
        "# Print dos resultados\n",
        "print(\"Atributos Originais:\", water.columns[0:20])\n",
        "\n",
        "# Exibe os atributos selecionados (marcados como True em \"Atributos Selecionados\"\n",
        "# e com valor 1 em \"Ranking dos Atributos\")\n",
        "print(\"\\nAtributos Selecionados: %s\" % fit.support_)\n",
        "print(\"\\nRanking de atributos: %s\" % fit.ranking_)\n",
        "print(\"\\nQtd de melhores Atributos: %d\" % fit.n_features_)\n",
        "print(\"\\nNomes dos Atributos Selecionados: %s\" % fit.get_feature_names_out(input_features=water.columns[0:20]))"
      ],
      "metadata": {
        "id": "93G4ulT_fKeI",
        "colab": {
          "base_uri": "https://localhost:8080/"
        },
        "outputId": "49b93ccf-b125-45d6-dbd0-9154f6d39418"
      },
      "execution_count": 8,
      "outputs": [
        {
          "output_type": "stream",
          "name": "stdout",
          "text": [
            "Atributos Originais: Index(['aluminium', 'ammonia', 'arsenic', 'barium', 'cadmium', 'chloramine',\n",
            "       'chromium', 'copper', 'flouride', 'bacteria', 'viruses', 'lead',\n",
            "       'nitrates', 'nitrites', 'mercury', 'perchlorate', 'radium', 'selenium',\n",
            "       'silver', 'uranium'],\n",
            "      dtype='object')\n",
            "\n",
            "Atributos Selecionados: [False False  True False  True False  True False False False False False\n",
            " False False False False False False False  True]\n",
            "\n",
            "Ranking de atributos: [ 5 15  1 12  1 11  1  8 17  7  3  4 14 10  9 16 13  2  6  1]\n",
            "\n",
            "Qtd de melhores Atributos: 4\n",
            "\n",
            "Nomes dos Atributos Selecionados: ['arsenic' 'cadmium' 'chromium' 'uranium']\n"
          ]
        }
      ]
    },
    {
      "cell_type": "markdown",
      "source": [
        "#####Considerando-se os três métodos utilizados de Feature Selection, foram considerados os seguintes atributos como mais relevantes: aluminium, arsenic, cadmium e chromium. Dessa forma, removeremos todos os outros atributos de nossa base."
      ],
      "metadata": {
        "id": "rlKAnTVnoT_6"
      }
    },
    {
      "cell_type": "code",
      "source": [
        "water_fs = water.drop(columns=['ammonia', 'barium','chloramine',\n",
        "       'copper', 'flouride', 'bacteria', 'viruses', 'lead',\n",
        "       'nitrates', 'nitrites', 'mercury', 'perchlorate', 'radium', 'selenium',\n",
        "       'silver', 'uranium'])\n",
        "\n",
        "water_fs.head()"
      ],
      "metadata": {
        "colab": {
          "base_uri": "https://localhost:8080/",
          "height": 206
        },
        "id": "LaDwgNgpglAW",
        "outputId": "7b52ce6b-e94c-4980-97dc-6497abb9a2af"
      },
      "execution_count": 9,
      "outputs": [
        {
          "output_type": "execute_result",
          "data": {
            "text/plain": [
              "   aluminium  arsenic  cadmium  chromium  is_safe\n",
              "0       1.65     0.04    0.007      0.83        1\n",
              "1       2.32     0.01    0.002      0.68        1\n",
              "2       1.01     0.04    0.008      0.53        0\n",
              "3       1.36     0.04    0.001      0.03        1\n",
              "4       0.92     0.03    0.006      0.69        1"
            ],
            "text/html": [
              "\n",
              "\n",
              "  <div id=\"df-e235e6cd-a223-4405-834c-72ff1d9e2010\">\n",
              "    <div class=\"colab-df-container\">\n",
              "      <div>\n",
              "<style scoped>\n",
              "    .dataframe tbody tr th:only-of-type {\n",
              "        vertical-align: middle;\n",
              "    }\n",
              "\n",
              "    .dataframe tbody tr th {\n",
              "        vertical-align: top;\n",
              "    }\n",
              "\n",
              "    .dataframe thead th {\n",
              "        text-align: right;\n",
              "    }\n",
              "</style>\n",
              "<table border=\"1\" class=\"dataframe\">\n",
              "  <thead>\n",
              "    <tr style=\"text-align: right;\">\n",
              "      <th></th>\n",
              "      <th>aluminium</th>\n",
              "      <th>arsenic</th>\n",
              "      <th>cadmium</th>\n",
              "      <th>chromium</th>\n",
              "      <th>is_safe</th>\n",
              "    </tr>\n",
              "  </thead>\n",
              "  <tbody>\n",
              "    <tr>\n",
              "      <th>0</th>\n",
              "      <td>1.65</td>\n",
              "      <td>0.04</td>\n",
              "      <td>0.007</td>\n",
              "      <td>0.83</td>\n",
              "      <td>1</td>\n",
              "    </tr>\n",
              "    <tr>\n",
              "      <th>1</th>\n",
              "      <td>2.32</td>\n",
              "      <td>0.01</td>\n",
              "      <td>0.002</td>\n",
              "      <td>0.68</td>\n",
              "      <td>1</td>\n",
              "    </tr>\n",
              "    <tr>\n",
              "      <th>2</th>\n",
              "      <td>1.01</td>\n",
              "      <td>0.04</td>\n",
              "      <td>0.008</td>\n",
              "      <td>0.53</td>\n",
              "      <td>0</td>\n",
              "    </tr>\n",
              "    <tr>\n",
              "      <th>3</th>\n",
              "      <td>1.36</td>\n",
              "      <td>0.04</td>\n",
              "      <td>0.001</td>\n",
              "      <td>0.03</td>\n",
              "      <td>1</td>\n",
              "    </tr>\n",
              "    <tr>\n",
              "      <th>4</th>\n",
              "      <td>0.92</td>\n",
              "      <td>0.03</td>\n",
              "      <td>0.006</td>\n",
              "      <td>0.69</td>\n",
              "      <td>1</td>\n",
              "    </tr>\n",
              "  </tbody>\n",
              "</table>\n",
              "</div>\n",
              "      <button class=\"colab-df-convert\" onclick=\"convertToInteractive('df-e235e6cd-a223-4405-834c-72ff1d9e2010')\"\n",
              "              title=\"Convert this dataframe to an interactive table.\"\n",
              "              style=\"display:none;\">\n",
              "\n",
              "  <svg xmlns=\"http://www.w3.org/2000/svg\" height=\"24px\"viewBox=\"0 0 24 24\"\n",
              "       width=\"24px\">\n",
              "    <path d=\"M0 0h24v24H0V0z\" fill=\"none\"/>\n",
              "    <path d=\"M18.56 5.44l.94 2.06.94-2.06 2.06-.94-2.06-.94-.94-2.06-.94 2.06-2.06.94zm-11 1L8.5 8.5l.94-2.06 2.06-.94-2.06-.94L8.5 2.5l-.94 2.06-2.06.94zm10 10l.94 2.06.94-2.06 2.06-.94-2.06-.94-.94-2.06-.94 2.06-2.06.94z\"/><path d=\"M17.41 7.96l-1.37-1.37c-.4-.4-.92-.59-1.43-.59-.52 0-1.04.2-1.43.59L10.3 9.45l-7.72 7.72c-.78.78-.78 2.05 0 2.83L4 21.41c.39.39.9.59 1.41.59.51 0 1.02-.2 1.41-.59l7.78-7.78 2.81-2.81c.8-.78.8-2.07 0-2.86zM5.41 20L4 18.59l7.72-7.72 1.47 1.35L5.41 20z\"/>\n",
              "  </svg>\n",
              "      </button>\n",
              "\n",
              "\n",
              "\n",
              "    <div id=\"df-c61042cd-a73c-48d6-b0a9-c177f4c47e85\">\n",
              "      <button class=\"colab-df-quickchart\" onclick=\"quickchart('df-c61042cd-a73c-48d6-b0a9-c177f4c47e85')\"\n",
              "              title=\"Suggest charts.\"\n",
              "              style=\"display:none;\">\n",
              "\n",
              "<svg xmlns=\"http://www.w3.org/2000/svg\" height=\"24px\"viewBox=\"0 0 24 24\"\n",
              "     width=\"24px\">\n",
              "    <g>\n",
              "        <path d=\"M19 3H5c-1.1 0-2 .9-2 2v14c0 1.1.9 2 2 2h14c1.1 0 2-.9 2-2V5c0-1.1-.9-2-2-2zM9 17H7v-7h2v7zm4 0h-2V7h2v10zm4 0h-2v-4h2v4z\"/>\n",
              "    </g>\n",
              "</svg>\n",
              "      </button>\n",
              "    </div>\n",
              "\n",
              "<style>\n",
              "  .colab-df-quickchart {\n",
              "    background-color: #E8F0FE;\n",
              "    border: none;\n",
              "    border-radius: 50%;\n",
              "    cursor: pointer;\n",
              "    display: none;\n",
              "    fill: #1967D2;\n",
              "    height: 32px;\n",
              "    padding: 0 0 0 0;\n",
              "    width: 32px;\n",
              "  }\n",
              "\n",
              "  .colab-df-quickchart:hover {\n",
              "    background-color: #E2EBFA;\n",
              "    box-shadow: 0px 1px 2px rgba(60, 64, 67, 0.3), 0px 1px 3px 1px rgba(60, 64, 67, 0.15);\n",
              "    fill: #174EA6;\n",
              "  }\n",
              "\n",
              "  [theme=dark] .colab-df-quickchart {\n",
              "    background-color: #3B4455;\n",
              "    fill: #D2E3FC;\n",
              "  }\n",
              "\n",
              "  [theme=dark] .colab-df-quickchart:hover {\n",
              "    background-color: #434B5C;\n",
              "    box-shadow: 0px 1px 3px 1px rgba(0, 0, 0, 0.15);\n",
              "    filter: drop-shadow(0px 1px 2px rgba(0, 0, 0, 0.3));\n",
              "    fill: #FFFFFF;\n",
              "  }\n",
              "</style>\n",
              "\n",
              "    <script>\n",
              "      async function quickchart(key) {\n",
              "        const containerElement = document.querySelector('#' + key);\n",
              "        const charts = await google.colab.kernel.invokeFunction(\n",
              "            'suggestCharts', [key], {});\n",
              "      }\n",
              "    </script>\n",
              "\n",
              "      <script>\n",
              "\n",
              "function displayQuickchartButton(domScope) {\n",
              "  let quickchartButtonEl =\n",
              "    domScope.querySelector('#df-c61042cd-a73c-48d6-b0a9-c177f4c47e85 button.colab-df-quickchart');\n",
              "  quickchartButtonEl.style.display =\n",
              "    google.colab.kernel.accessAllowed ? 'block' : 'none';\n",
              "}\n",
              "\n",
              "        displayQuickchartButton(document);\n",
              "      </script>\n",
              "      <style>\n",
              "    .colab-df-container {\n",
              "      display:flex;\n",
              "      flex-wrap:wrap;\n",
              "      gap: 12px;\n",
              "    }\n",
              "\n",
              "    .colab-df-convert {\n",
              "      background-color: #E8F0FE;\n",
              "      border: none;\n",
              "      border-radius: 50%;\n",
              "      cursor: pointer;\n",
              "      display: none;\n",
              "      fill: #1967D2;\n",
              "      height: 32px;\n",
              "      padding: 0 0 0 0;\n",
              "      width: 32px;\n",
              "    }\n",
              "\n",
              "    .colab-df-convert:hover {\n",
              "      background-color: #E2EBFA;\n",
              "      box-shadow: 0px 1px 2px rgba(60, 64, 67, 0.3), 0px 1px 3px 1px rgba(60, 64, 67, 0.15);\n",
              "      fill: #174EA6;\n",
              "    }\n",
              "\n",
              "    [theme=dark] .colab-df-convert {\n",
              "      background-color: #3B4455;\n",
              "      fill: #D2E3FC;\n",
              "    }\n",
              "\n",
              "    [theme=dark] .colab-df-convert:hover {\n",
              "      background-color: #434B5C;\n",
              "      box-shadow: 0px 1px 3px 1px rgba(0, 0, 0, 0.15);\n",
              "      filter: drop-shadow(0px 1px 2px rgba(0, 0, 0, 0.3));\n",
              "      fill: #FFFFFF;\n",
              "    }\n",
              "  </style>\n",
              "\n",
              "      <script>\n",
              "        const buttonEl =\n",
              "          document.querySelector('#df-e235e6cd-a223-4405-834c-72ff1d9e2010 button.colab-df-convert');\n",
              "        buttonEl.style.display =\n",
              "          google.colab.kernel.accessAllowed ? 'block' : 'none';\n",
              "\n",
              "        async function convertToInteractive(key) {\n",
              "          const element = document.querySelector('#df-e235e6cd-a223-4405-834c-72ff1d9e2010');\n",
              "          const dataTable =\n",
              "            await google.colab.kernel.invokeFunction('convertToInteractive',\n",
              "                                                     [key], {});\n",
              "          if (!dataTable) return;\n",
              "\n",
              "          const docLinkHtml = 'Like what you see? Visit the ' +\n",
              "            '<a target=\"_blank\" href=https://colab.research.google.com/notebooks/data_table.ipynb>data table notebook</a>'\n",
              "            + ' to learn more about interactive tables.';\n",
              "          element.innerHTML = '';\n",
              "          dataTable['output_type'] = 'display_data';\n",
              "          await google.colab.output.renderOutput(dataTable, element);\n",
              "          const docLink = document.createElement('div');\n",
              "          docLink.innerHTML = docLinkHtml;\n",
              "          element.appendChild(docLink);\n",
              "        }\n",
              "      </script>\n",
              "    </div>\n",
              "  </div>\n"
            ]
          },
          "metadata": {},
          "execution_count": 9
        }
      ]
    },
    {
      "cell_type": "markdown",
      "source": [
        "#####Ressalta-se, aqui, que foi realizada a modelagem considerando apenas os 4 atributos selecionados. Porém, conforme demonstrado abaixo, foi obtida uma acurácia de 100%, possivelmente relacionada a um overfitting. Dessa forma, para efeito do presente trabalho, foram mantidos todos os atributos originais de nossa base, para a etapa de modelagem e inferência dos modelos.\n"
      ],
      "metadata": {
        "id": "Tyv2HWX0iVHv"
      }
    },
    {
      "cell_type": "markdown",
      "source": [
        "![ML FS.jpg](data:image/jpeg;base64,/9j/4AAQSkZJRgABAQEAkACQAAD/4RCyRXhpZgAATU0AKgAAAAgAAodpAAQAAAABAAAIMuocAAcAAAgMAAAAJgAAAAAc6gAAAAgAAAAAAAAAAAAAAAAAAAAAAAAAAAAAAAAAAAAAAAAAAAAAAAAAAAAAAAAAAAAAAAAAAAAAAAAAAAAAAAAAAAAAAAAAAAAAAAAAAAAAAAAAAAAAAAAAAAAAAAAAAAAAAAAAAAAAAAAAAAAAAAAAAAAAAAAAAAAAAAAAAAAAAAAAAAAAAAAAAAAAAAAAAAAAAAAAAAAAAAAAAAAAAAAAAAAAAAAAAAAAAAAAAAAAAAAAAAAAAAAAAAAAAAAAAAAAAAAAAAAAAAAAAAAAAAAAAAAAAAAAAAAAAAAAAAAAAAAAAAAAAAAAAAAAAAAAAAAAAAAAAAAAAAAAAAAAAAAAAAAAAAAAAAAAAAAAAAAAAAAAAAAAAAAAAAAAAAAAAAAAAAAAAAAAAAAAAAAAAAAAAAAAAAAAAAAAAAAAAAAAAAAAAAAAAAAAAAAAAAAAAAAAAAAAAAAAAAAAAAAAAAAAAAAAAAAAAAAAAAAAAAAAAAAAAAAAAAAAAAAAAAAAAAAAAAAAAAAAAAAAAAAAAAAAAAAAAAAAAAAAAAAAAAAAAAAAAAAAAAAAAAAAAAAAAAAAAAAAAAAAAAAAAAAAAAAAAAAAAAAAAAAAAAAAAAAAAAAAAAAAAAAAAAAAAAAAAAAAAAAAAAAAAAAAAAAAAAAAAAAAAAAAAAAAAAAAAAAAAAAAAAAAAAAAAAAAAAAAAAAAAAAAAAAAAAAAAAAAAAAAAAAAAAAAAAAAAAAAAAAAAAAAAAAAAAAAAAAAAAAAAAAAAAAAAAAAAAAAAAAAAAAAAAAAAAAAAAAAAAAAAAAAAAAAAAAAAAAAAAAAAAAAAAAAAAAAAAAAAAAAAAAAAAAAAAAAAAAAAAAAAAAAAAAAAAAAAAAAAAAAAAAAAAAAAAAAAAAAAAAAAAAAAAAAAAAAAAAAAAAAAAAAAAAAAAAAAAAAAAAAAAAAAAAAAAAAAAAAAAAAAAAAAAAAAAAAAAAAAAAAAAAAAAAAAAAAAAAAAAAAAAAAAAAAAAAAAAAAAAAAAAAAAAAAAAAAAAAAAAAAAAAAAAAAAAAAAAAAAAAAAAAAAAAAAAAAAAAAAAAAAAAAAAAAAAAAAAAAAAAAAAAAAAAAAAAAAAAAAAAAAAAAAAAAAAAAAAAAAAAAAAAAAAAAAAAAAAAAAAAAAAAAAAAAAAAAAAAAAAAAAAAAAAAAAAAAAAAAAAAAAAAAAAAAAAAAAAAAAAAAAAAAAAAAAAAAAAAAAAAAAAAAAAAAAAAAAAAAAAAAAAAAAAAAAAAAAAAAAAAAAAAAAAAAAAAAAAAAAAAAAAAAAAAAAAAAAAAAAAAAAAAAAAAAAAAAAAAAAAAAAAAAAAAAAAAAAAAAAAAAAAAAAAAAAAAAAAAAAAAAAAAAAAAAAAAAAAAAAAAAAAAAAAAAAAAAAAAAAAAAAAAAAAAAAAAAAAAAAAAAAAAAAAAAAAAAAAAAAAAAAAAAAAAAAAAAAAAAAAAAAAAAAAAAAAAAAAAAAAAAAAAAAAAAAAAAAAAAAAAAAAAAAAAAAAAAAAAAAAAAAAAAAAAAAAAAAAAAAAAAAAAAAAAAAAAAAAAAAAAAAAAAAAAAAAAAAAAAAAAAAAAAAAAAAAAAAAAAAAAAAAAAAAAAAAAAAAAAAAAAAAAAAAAAAAAAAAAAAAAAAAAAAAAAAAAAAAAAAAAAAAAAAAAAAAAAAAAAAAAAAAAAAAAAAAAAAAAAAAAAAAAAAAAAAAAAAAAAAAAAAAAAAAAAAAAAAAAAAAAAAAAAAAAAAAAAAAAAAAAAAAAAAAAAAAAAAAAAAAAAAAAAAAAAAAAAAAAAAAAAAAAAAAAAAAAAAAAAAAAAAAAAAAAAAAAAAAAAAAAAAAAAAAAAAAAAAAAAAAAAAAAAAAAAAAAAAAAAAAAAAAAAAAAAAAAAAAAAAAAAAAAAAAAAAAAAAAAAAAAAAAAAAAAAAAAAAAAAAAAAAAAAAAAAAAAAAAAAAAAAAAAAAAAAAAAAAAAAAAAAAAAAAAAAAAAAAAAAAAAAAAAAAAAAAAAAAAAAAAAAAAAAAAAAAAAAAAAAAAAAAAAAAAAAAAAAAAAAAAAAAAAAAAAAAAAAAAAAAAAAAAAAAAAAAAAAAAAAAAAAAAAAAAAAAAAAAAAAAAAAAAAAAAAAAAAAAAAAAAAAAAAAAAAAAAAAAAAAAAAAAAAAAAAAAAAAAAAAAAAAAAAAAAAAAAAAAAAAAAAAAAAAAAAAAAAAAAAAAAAAAAAAAAAAAAAAAAAAAAAAAAAAAAAAAAAAAAAAAAAAAAAAAAAAAAAAAAAAAAAAAAAAAAAAAAAAAAAAAAAAAAAAAAAAAAAAAAAAAAAAAAAAAAAAAAAAAAAAAAAAAAAAAAAAAAAAAAAAAAAAAAAAAAAAAAAAAAAAAAAAAAAAAAAAAAAAAAAAAAAAAAAAAAAAAAAAAAAAAAAAAAAAAAAAAAAAAAAAAAAAAAAAAAAAAAAAAAAAAAAAAAAAAAAAAAAAAAAAAAAAAAAAAAAAAAAAAAAAAAAAAAAAAAAAAAAAAAAAAAAAAAAAAAAAAAAAAAAAAAAAAAAAAAAAAAAAAAAAAAAAAAAAAAAAAAAAAAAAAAAAAAAAAAAAAAAAAAAAAAAAAAAAAAAAAAAAAAAAAAAAAAAAAAAAAAAAAAAAAAAAAAAAAAAAAAAAAAAAAAAAAAAAAAAAAAAAAAAAAAAAAAAAAAAAAAAAAAAAAAAAAAAAAAAAAAAAAAAAAAAFkAMAAgAAABQAABCAkAQAAgAAABQAABCUkpEAAgAAAAMwMAAAkpIAAgAAAAMwMAAA6hwABwAACAwAAAh0AAAAABzqAAAACAAAAAAAAAAAAAAAAAAAAAAAAAAAAAAAAAAAAAAAAAAAAAAAAAAAAAAAAAAAAAAAAAAAAAAAAAAAAAAAAAAAAAAAAAAAAAAAAAAAAAAAAAAAAAAAAAAAAAAAAAAAAAAAAAAAAAAAAAAAAAAAAAAAAAAAAAAAAAAAAAAAAAAAAAAAAAAAAAAAAAAAAAAAAAAAAAAAAAAAAAAAAAAAAAAAAAAAAAAAAAAAAAAAAAAAAAAAAAAAAAAAAAAAAAAAAAAAAAAAAAAAAAAAAAAAAAAAAAAAAAAAAAAAAAAAAAAAAAAAAAAAAAAAAAAAAAAAAAAAAAAAAAAAAAAAAAAAAAAAAAAAAAAAAAAAAAAAAAAAAAAAAAAAAAAAAAAAAAAAAAAAAAAAAAAAAAAAAAAAAAAAAAAAAAAAAAAAAAAAAAAAAAAAAAAAAAAAAAAAAAAAAAAAAAAAAAAAAAAAAAAAAAAAAAAAAAAAAAAAAAAAAAAAAAAAAAAAAAAAAAAAAAAAAAAAAAAAAAAAAAAAAAAAAAAAAAAAAAAAAAAAAAAAAAAAAAAAAAAAAAAAAAAAAAAAAAAAAAAAAAAAAAAAAAAAAAAAAAAAAAAAAAAAAAAAAAAAAAAAAAAAAAAAAAAAAAAAAAAAAAAAAAAAAAAAAAAAAAAAAAAAAAAAAAAAAAAAAAAAAAAAAAAAAAAAAAAAAAAAAAAAAAAAAAAAAAAAAAAAAAAAAAAAAAAAAAAAAAAAAAAAAAAAAAAAAAAAAAAAAAAAAAAAAAAAAAAAAAAAAAAAAAAAAAAAAAAAAAAAAAAAAAAAAAAAAAAAAAAAAAAAAAAAAAAAAAAAAAAAAAAAAAAAAAAAAAAAAAAAAAAAAAAAAAAAAAAAAAAAAAAAAAAAAAAAAAAAAAAAAAAAAAAAAAAAAAAAAAAAAAAAAAAAAAAAAAAAAAAAAAAAAAAAAAAAAAAAAAAAAAAAAAAAAAAAAAAAAAAAAAAAAAAAAAAAAAAAAAAAAAAAAAAAAAAAAAAAAAAAAAAAAAAAAAAAAAAAAAAAAAAAAAAAAAAAAAAAAAAAAAAAAAAAAAAAAAAAAAAAAAAAAAAAAAAAAAAAAAAAAAAAAAAAAAAAAAAAAAAAAAAAAAAAAAAAAAAAAAAAAAAAAAAAAAAAAAAAAAAAAAAAAAAAAAAAAAAAAAAAAAAAAAAAAAAAAAAAAAAAAAAAAAAAAAAAAAAAAAAAAAAAAAAAAAAAAAAAAAAAAAAAAAAAAAAAAAAAAAAAAAAAAAAAAAAAAAAAAAAAAAAAAAAAAAAAAAAAAAAAAAAAAAAAAAAAAAAAAAAAAAAAAAAAAAAAAAAAAAAAAAAAAAAAAAAAAAAAAAAAAAAAAAAAAAAAAAAAAAAAAAAAAAAAAAAAAAAAAAAAAAAAAAAAAAAAAAAAAAAAAAAAAAAAAAAAAAAAAAAAAAAAAAAAAAAAAAAAAAAAAAAAAAAAAAAAAAAAAAAAAAAAAAAAAAAAAAAAAAAAAAAAAAAAAAAAAAAAAAAAAAAAAAAAAAAAAAAAAAAAAAAAAAAAAAAAAAAAAAAAAAAAAAAAAAAAAAAAAAAAAAAAAAAAAAAAAAAAAAAAAAAAAAAAAAAAAAAAAAAAAAAAAAAAAAAAAAAAAAAAAAAAAAAAAAAAAAAAAAAAAAAAAAAAAAAAAAAAAAAAAAAAAAAAAAAAAAAAAAAAAAAAAAAAAAAAAAAAAAAAAAAAAAAAAAAAAAAAAAAAAAAAAAAAAAAAAAAAAAAAAAAAAAAAAAAAAAAAAAAAAAAAAAAAAAAAAAAAAAAAAAAAAAAAAAAAAAAAAAAAAAAAAAAAAAAAAAAAAAAAAAAAAAAAAAAAAAAAAAAAAAAAAAAAAAAAAAAAAAAAAAAAAAAAAAAAAAAAAAAAAAAAAAAAAAAAAAAAAAAAAAAAAAAAAAAAAAAAAAAAAAAAAAAAAAAAAAAAAAAAAAAAAAAAAAAAAAAAAAAAAAAAAAAAAAAAAAAAAAAAAAAAAAAAAAAAAAAAAAAAAAAAAAAAAAAAAAAAAAAAAAAAAAAAAAAAAAAAAAAAAAAAAAAAAAAAAAAAAAAAAAAAAAAAAAAAAAAAAAAAAAAAAAAAAAAAAAAAAAAAAAAAAAAAAAAAAAAAAAAAAAAAAAAAAAAAAAAAAAAAAAAAAAAAAAAAAAAAAAAAAAAAAAAAAAAAAAAAAAAAAAAAAAAAAAAAAAAAAAAAAAAAAAAAAAAAAAAAAAAAAAAAAAAAAAAAAAAAAAAAAAAAAAAAAAAAAAAAAAAAAAAAAAAAAAAAAAAAAAAAAAAAAAAAAAAAAAAAAAAAAAAAAAAAAAAAAAAAAAAAAAAAAAAAAAAAAAAAAAAAAAAAAAAAAAAAAAAAAAAAAAAAAAAAAAAAAAAAAAAAAAAAAAAAAAAAAAAAAAAAAAAAAAAAAAAAAAAAAAAAAAAAAAAAAAAAAAAAAAAAAAAAAAAAAAAAAAAAAAAAAAAAAAAAAAAAAAAAAAAAAAAAAAAAAAAAAAAAAAAAAAAAAAAAAAAAAAAAAAAAAAAAAAAAAAAAAAAAAAAAAAAAAAAAAAAAAAAAAAAAAAAAAAAAAAAAAAAAAAAAAAAAAAAAAAAAAAAAAAAAAAAAAAAAAAAAAAAAAAAAAAAAAAAAAAAAAAAAAAAAAAAAAAAAAAAAAAAAAAAAAAAAAAAAAAAAAAAAAAAAAAAAAAAAAAAAAAAAAAAAAAAAAAAAAAAAAAAAAAAAMjAyMzowNzoxOCAyMDo0NjowNgAyMDIzOjA3OjE4IDIwOjQ2OjA2AAAA/+EJnGh0dHA6Ly9ucy5hZG9iZS5jb20veGFwLzEuMC8APD94cGFja2V0IGJlZ2luPSfvu78nIGlkPSdXNU0wTXBDZWhpSHpyZVN6TlRjemtjOWQnPz4NCjx4OnhtcG1ldGEgeG1sbnM6eD0iYWRvYmU6bnM6bWV0YS8iPjxyZGY6UkRGIHhtbG5zOnJkZj0iaHR0cDovL3d3dy53My5vcmcvMTk5OS8wMi8yMi1yZGYtc3ludGF4LW5zIyI+PHJkZjpEZXNjcmlwdGlvbiByZGY6YWJvdXQ9InV1aWQ6ZmFmNWJkZDUtYmEzZC0xMWRhLWFkMzEtZDMzZDc1MTgyZjFiIiB4bWxuczp4bXA9Imh0dHA6Ly9ucy5hZG9iZS5jb20veGFwLzEuMC8iPjx4bXA6Q3JlYXRlRGF0ZT4yMDIzLTA3LTE4VDIwOjQ2OjA2PC94bXA6Q3JlYXRlRGF0ZT48L3JkZjpEZXNjcmlwdGlvbj48L3JkZjpSREY+PC94OnhtcG1ldGE+DQogICAgICAgICAgICAgICAgICAgICAgICAgICAgICAgICAgICAgICAgICAgICAgICAgICAgICAgICAgICAgICAgICAgICAgICAgICAgICAgICAgICAgICAgICAgICAgICAgICAgCiAgICAgICAgICAgICAgICAgICAgICAgICAgICAgICAgICAgICAgICAgICAgICAgICAgICAgICAgICAgICAgICAgICAgICAgICAgICAgICAgICAgICAgICAgICAgICAgICAgICAKICAgICAgICAgICAgICAgICAgICAgICAgICAgICAgICAgICAgICAgICAgICAgICAgICAgICAgICAgICAgICAgICAgICAgICAgICAgICAgICAgICAgICAgICAgICAgICAgICAgIAogICAgICAgICAgICAgICAgICAgICAgICAgICAgICAgICAgICAgICAgICAgICAgICAgICAgICAgICAgICAgICAgICAgICAgICAgICAgICAgICAgICAgICAgICAgICAgICAgICAgCiAgICAgICAgICAgICAgICAgICAgICAgICAgICAgICAgICAgICAgICAgICAgICAgICAgICAgICAgICAgICAgICAgICAgICAgICAgICAgICAgICAgICAgICAgICAgICAgICAgICAKICAgICAgICAgICAgICAgICAgICAgICAgICAgICAgICAgICAgICAgICAgICAgICAgICAgICAgICAgICAgICAgICAgICAgICAgICAgICAgICAgICAgICAgICAgICAgICAgICAgIAogICAgICAgICAgICAgICAgICAgICAgICAgICAgICAgICAgICAgICAgICAgICAgICAgICAgICAgICAgICAgICAgICAgICAgICAgICAgICAgICAgICAgICAgICAgICAgICAgICAgCiAgICAgICAgICAgICAgICAgICAgICAgICAgICAgICAgICAgICAgICAgICAgICAgICAgICAgICAgICAgICAgICAgICAgICAgICAgICAgICAgICAgICAgICAgICAgICAgICAgICAKICAgICAgICAgICAgICAgICAgICAgICAgICAgICAgICAgICAgICAgICAgICAgICAgICAgICAgICAgICAgICAgICAgICAgICAgICAgICAgICAgICAgICAgICAgICAgICAgICAgIAogICAgICAgICAgICAgICAgICAgICAgICAgICAgICAgICAgICAgICAgICAgICAgICAgICAgICAgICAgICAgICAgICAgICAgICAgICAgICAgICAgICAgICAgICAgICAgICAgICAgCiAgICAgICAgICAgICAgICAgICAgICAgICAgICAgICAgICAgICAgICAgICAgICAgICAgICAgICAgICAgICAgICAgICAgICAgICAgICAgICAgICAgICAgICAgICAgICAgICAgICAKICAgICAgICAgICAgICAgICAgICAgICAgICAgICAgICAgICAgICAgICAgICAgICAgICAgICAgICAgICAgICAgICAgICAgICAgICAgICAgICAgICAgICAgICAgICAgICAgICAgIAogICAgICAgICAgICAgICAgICAgICAgICAgICAgICAgICAgICAgICAgICAgICAgICAgICAgICAgICAgICAgICAgICAgICAgICAgICAgICAgICAgICAgICAgICAgICAgICAgICAgCiAgICAgICAgICAgICAgICAgICAgICAgICAgICAgICAgICAgICAgICAgICAgICAgICAgICAgICAgICAgICAgICAgICAgICAgICAgICAgICAgICAgICAgICAgICAgICAgICAgICAKICAgICAgICAgICAgICAgICAgICAgICAgICAgICAgICAgICAgICAgICAgICAgICAgICAgICAgICAgICAgICAgICAgICAgICAgICAgICAgICAgICAgICAgICAgICAgICAgICAgIAogICAgICAgICAgICAgICAgICAgICAgICAgICAgICAgICAgICAgICAgICAgICAgICAgICAgICAgICAgICAgICAgICAgICAgICAgICAgICAgICAgICAgICAgICAgICAgICAgICAgCiAgICAgICAgICAgICAgICAgICAgICAgICAgICAgICAgICAgICAgICAgICAgICAgICAgICAgICAgICAgICAgICAgICAgICAgICAgICAgICAgICAgICAgICAgICAgICAgICAgICAKICAgICAgICAgICAgICAgICAgICAgICAgICAgICAgICAgICAgICAgICAgICAgICAgICAgICAgICAgICAgICAgICAgICAgICAgICAgICAgICAgICAgICAgICAgICAgICAgICAgIAogICAgICAgICAgICAgICAgICAgICAgICAgICAgICAgICAgICAgICAgICAgICAgICAgICAgICAgICAgICAgICAgICAgICAgICAgICAgICAgICAgICAgICAgICAgICAgICAgICAgCiAgICAgICAgICAgICAgICAgICAgICAgICAgICAgICAgICAgICAgICAgICAgICAgICAgICAgICAgICAgICAgICAgICAgICAgICAgICAgICAgICAgICAgICAgICAgICAgICAgICAKICAgICAgICAgICAgICAgICAgICAgICAgICAgIDw/eHBhY2tldCBlbmQ9J3cnPz7/2wBDAAMCAgMCAgMDAwMEAwMEBQgFBQQEBQoHBwYIDAoMDAsKCwsNDhIQDQ4RDgsLEBYQERMUFRUVDA8XGBYUGBIUFRT/2wBDAQMEBAUEBQkFBQkUDQsNFBQUFBQUFBQUFBQUFBQUFBQUFBQUFBQUFBQUFBQUFBQUFBQUFBQUFBQUFBQUFBQUFBT/wAARCAE6AaIDASIAAhEBAxEB/8QAHwAAAQUBAQEBAQEAAAAAAAAAAAECAwQFBgcICQoL/8QAtRAAAgEDAwIEAwUFBAQAAAF9AQIDAAQRBRIhMUEGE1FhByJxFDKBkaEII0KxwRVS0fAkM2JyggkKFhcYGRolJicoKSo0NTY3ODk6Q0RFRkdISUpTVFVWV1hZWmNkZWZnaGlqc3R1dnd4eXqDhIWGh4iJipKTlJWWl5iZmqKjpKWmp6ipqrKztLW2t7i5usLDxMXGx8jJytLT1NXW19jZ2uHi4+Tl5ufo6erx8vP09fb3+Pn6/8QAHwEAAwEBAQEBAQEBAQAAAAAAAAECAwQFBgcICQoL/8QAtREAAgECBAQDBAcFBAQAAQJ3AAECAxEEBSExBhJBUQdhcRMiMoEIFEKRobHBCSMzUvAVYnLRChYkNOEl8RcYGRomJygpKjU2Nzg5OkNERUZHSElKU1RVVldYWVpjZGVmZ2hpanN0dXZ3eHl6goOEhYaHiImKkpOUlZaXmJmaoqOkpaanqKmqsrO0tba3uLm6wsPExcbHyMnK0tPU1dbX2Nna4uPk5ebn6Onq8vP09fb3+Pn6/9oADAMBAAIRAxEAPwD9QfDX/Iu6V/16Rf8AoArSrN8Nf8i7pX/XpF/6AK0qACisjxR4o0zwV4d1LXtbu1sNJ06Brq7unUsIolBLMQoJIAGeATXin/DfnwA/6KRY/wDgJdf/ABqgD6Corzj4U/tDfDz44XOpQ+B/EsGvy6cqPdLDDKnlBywUnei5ztbp6V6PQAUUUUAFFU9T1S00TTrnUNRu4LCwtY2muLq6kEcUMajLO7sQFUAEkngYp9leQalaw3dpPHc2s6LLFPC4dJEYZVlYHBBBBBHBBoAs0h5rh9Y+N/w68O6/Noeq+P8Awxpetwuscmm3ms20VyrMAVUxs4YEgggEcgjFdqkiyKGUhlIyCDnIPSl5gSUUUUwCioLi4itLeSaaRYYo1LPJIwVVAGSST0AHeqPh7xJpHi7SYdV0PVbLWtMmLCK9065SeGQqxVgroSpwwIODwQRQBq0UVk+JPFWi+DdKl1TX9XsdD0yIgSXmpXKW8KZ6ZdyFH4mkBq0VmaB4k0rxVpMGp6LqdnrGmzgtFeWE6zwyDOMq6kqR9DWbpvxL8I6x4kufDth4q0W+8QW2fP0m21GGS7ix13xBiy475FHkHmdLQawfFnjzwz4DsYrzxN4i0nw5aSP5cc+rX0VrGzf3Q0jAE+wrUsdRtdTsYbyzuYbuzmQSxXEMgeN1IyGVgSCCO4o8wLXHFHHNc14b+JXhHxlqF5p/h/xTouu39n/x9Wum6hDcSwc4+dUYleeOQKXxV8R/CfgWW0j8S+KNF8PSXjbLZNV1CK2M7dMIJGG459KAOloqrNqFta2LXk1xFFZqnmtO7gRqgGSxbOAMc59Kx/CPxA8L+PoLibwx4k0jxHBbt5c0mk30V0sbejGNiAeDwfSjrYDoqKKQnFMBDzzRiuW8BfEbR/iVZ6jfaC09zptneyWK3zRFYLpo8B3gc8SRhiybxwWRgMgZqS4+JnhG18VR+GJ/FOiw+JJMeXo8mowrePkZGIS288e1IDp6KKKYBSVzOm/EvwjrHiS48O2HirRL7xBbZ8/SbbUYZLuLHXfEGLLjvkVP4s8eeGfAdlHeeJ/EWleHbSR/LjuNWvorWNm/uhpGAJ9s0gN+iqtjqVpqVjFe2lzDdWUyCSK4hkDxuhGQwYHBBHORWJ4Y+JPhLxteXlp4e8UaLr13ZnFzb6XqENy8Bzj51RiV545p+QeZ0tFc34p+JHhLwPcWlv4j8UaL4fnvDi2i1TUIbZ5znGEDsCxz6ZrbuL63s7OS7nnjhtY0MjzyOFRVAyWLE4Axzml5gWaO1c94S+IHhfx9DPP4Y8SaR4jgt28uaTSb+K6WNuwYxsQDweDzxUWsfEzwj4d1+10LVfFWiaZrd5j7Npt5qMMVzNk4GyNmDNn2BoA6eiuX+IfxB0r4Y+F5/EOufaU0m3ljS4uLeBpRbozhTLIB0jXOWb+EAntXQWt1FeW8VxBKk0Eqh45I2DK6kZBBHUEEYNAFiiiimAUUUUAFFFFABRRRQAUUUUAFFFFAGb4a/wCRd0r/AK9Iv/QBWlWb4a/5F3Sv+vSL/wBAFaVAHkP7Xf8Aya/8Uv8AsXrz/wBFGqH7N/w88K3n7O/wuuLjwzo89xN4W0uSSWSwiZnY2kRLElckkkkk9c1f/a7/AOTX/il/2L15/wCijVH9m/4h+FbP9nf4XW9x4m0e3uIfC2lRyRS38SsjC0iBUgtkEEEEHpigDK1jSfh3+zr4w8feM9Du9Hg8aeILO1kk8M3+uWumQzLbp5cYhVlHllgGOSCrNnJUEkegfBP42eGfjz4HtvE3hi68yFiYrqzkIE9lOPvQyqCcMD3GQRggkEGuA1fWPh3+0R4w8feDNEs9HuPGnh+ztY5PEt/odrqcMK3CeZGYWZv3hUFuCQqt1DAEHv8A4J/BLwz8BPA9t4a8M2uyJT5t3eygefezn780rAcsT2GAowBgACgD0GiiigDzH9pz/k3X4mf9i5qH/pO9bPwY/wCSQ+Cf+wJZ/wDohKufEzwWfiN8OfE3hX7Z/Z/9tadcaf8Aa/L8zyfNjZN+zK7sbs4yM46ivHfhr8BvjN4E1Lw9FffH/wDtzwvpXlRPof8Awhllb/aLdAFEXnhy6/KAN3JqIrWSfW36hLaLXS/42/yPnX4heMfAHhX4yfHz/hM/g1ffEOWXUbNINb/sW3mstP3afAqpNfTMPsoLEHd2B3V9g/s0+B9a+HPwA8GeGtZvYrzWLDTljeaOQzRoSSyIGz86orKoIOCF44qXw78ELHS9e+KF3qd1HrOm+O7mOa506W22LDGtols0RbefMDBCc4XG7GD1q/8ABn4b3/wp+G9h4QufEUmvx6aJLexvpLcRTR2u4+TE+WYO0akLu4BCj5RVK6hy+S/BCtrzeb/Fj/g3pHj7RPBMNr8Sdc03xF4nFxMz32lW/kwmIuTGu3avIXA+6PTLEFj3lcJ8Gfh/rPwz8ERaHr3jPUvHeopcTTHWNVULMyu5ZUxluFBAGSe+MDCju6YI4X4qfB7wx8YrHTLLxZaz6lpmn3IvBp32l47a5cAhROikCVQSCFbIyBkEZB8q/wCCeyiP9k3waqjaqy6gAq8AD7fccV6h8YPB/jbxnoNpa+BvH/8AwrzUY7gST6h/YsGp+dFtYGLy5SAvzFW3A5+XHQmvOv2Zv2cPG/7PkMGjX3xX/wCEt8G2sE6Wug/8I5BZ+TNLL5pl88SPI3LSfKTj5+2AKcLJSiW37lv66n0HmvjD9pTxb4Zb9qbRNG8Z+F9Q+IVpp/hn7ZoPg2x043q3t/PcPHJLJGR5eEjiHzSHChiQMivoib4Y6/J8cofHK+PNWTw/HpZsG8HBR9ieUkkTk7sbuf7pbI+9t+Wsf40fAW8+IniLRvFnhTxhefD7x1pMElnBrdpaR3iSW0hBaGa3kwsi7lDDJGDk81n1jL1/Vf8ABBbSX9dH/wAA+RtI1jxl8GNK/aRgj8N2Hw3F14YtfENl4e0O78+LRZZfNtyQygIspWPeRGNo2rjpgc98RrHSbf4RaR4o+D/wjh8P6N4MmstRi+JOrwjTr7VJFljULbpt8+4ExfBaXCkEgDIWvtTwD+zZp+g+GvGNp4u1u68fa94zj8nxDrV/CkDXUYjMaxRxR/LDGqs21VzgsTnpji9D/ZB8QNc6JpPi34ua14x+Heh3ENzpvhW6063gYmEgwLdXSfPcIpAO1gASq56VcdJpt7W/B/oQ9tu/4pf18zyvx94q8O+IP2pPiJZa98OLv4w+LdPt9P03w54XaxWezs7d7dZpp5pJgYYA0sgBkYFhtAAxXEWWsa58Mf2a/jF4Q8QtD4V0qy8aWVhcxaJPLcQ6Vp989vLc20D4LEIkrqQoPLsADxn6z+KH7O+ueIPiBN44+HvxFvfhp4ovbWOx1SaLTYNRtr+GMnyy8ExCiRQSA4OQDjHrY0r9lnwxB8Gdd+H2qXuoa0PEE0l9q+uXEgW9ur12V/tIYDCurIhUAEKI1GDzmI/Dt/wdU/x/Up6yX9dLfgfKmvW6af42+E/jb4cfBu2+FvhXTfE1hpcWt30S2Gqa5Dcv5Dx/ZUG5oyh3b5iWYEEY+YG7a63oXxC+Knxbt5vhM3xn+JU3iG50mCDVLVRpui6dBiKDfdTKUg3YkfEYLsSehwa+hPB37MPiWPxhoOs/Eb4q6n8SbPw5MbnQ9LuNLgsYrefaUWaYxkm4kVSdrNggknuad40/Zn8SyeOdc8R/Dj4qal8NV8ROsuuafDpcGoQ3UqoE82ISkeRKVABdc5wD2q9Nnrv+Nv8AJ7dydfy/C/8AWp8q23ig+Hf2bvh94J+Is00vhaw8f3ug6rb6V592L62tBNJFZx4G+SMzKkYBwSEAJAzjuPA9vqmg/tVfDDxNonwnsvg94V8Rx3+jDSlEdvf6nCls1wJrm0hASHYyLgElwc5JBGPofVP2U/DNx8GdF+H+najqWkSaJcpqWmeIIZQ1/BqCu0hu2YjDuzO5bIwQ5AxwQz4X/s9a54f8dQ+NfiF8Q7z4meJ7G1kstLnm0yDTrawikIMhSCIkGRgADITkqMYpxdpNv/h9EhNaW/pa3X3foe39cZrxj9r3xJf+G/gH4hXS7hrO/wBUktdGjukOGh+13Mduzj0IWViCOhwe1e0GuE+N/wANU+L3wr8ReFDcfYri/t/9FusZ8i4RhJDJjuFkRCR3AIrOVuuxcb9C1c6ba/DD4WT2Xh61S1tNC0plsrdF+VFiiO0Y7/dH1r86bHSdH+Jv7Msv/CF/CxNe8R/2W+teIvix4ij+w/Zb8KZ7hre5ZfPndJFZQI8ICBnKkmv0B+C3ju8+JXgX/ioNIudH8SafI2l65pt3EVWO6RV3lCRiSJwyurKSCrjvkV5A37FusR2E/g20+LmuWfwdnkYv4KjsIDKIWcu1st+T5qwkkjYB90kEnJNNp80rve2v3/ncUWklpt0Pcfgt4gvvFnwg8E63qYYajqOi2d3c7uvmSQIzZ/Emub/as8Vaj4L/AGdPiFrOkXD2epW2kTGC5jJDxMw271I6FdxI9wK6H4kfD288XfC/UvCPhvxDeeBbm4tltrPVtJT97ZBSuNgBUgbV2/KykA8EHBqxF8PYNR+F6+C/E17N4ot5tLGl6heXnyy3ymPy5JGweGbk5B4J696KvvqduuwUvc5eY/PX4j2Ok2/wi0jxP8HvhHD4f0bwZNZajF8SdXhGnX2qSLLGoW3Tb59wJi+C0uFIJAGQtel+PvFXh3xB+1J8RLLXvhvd/GHxdp9vp+m+HPC7WKz2dnbvbrNNPNJMDDAGlkAMjAsNoAGK9U0P9kLXzc6JpPi34ua14y+HehXENzp3hW6063gYmEgwLdXSfPcIpAO1gASq56V1HxQ/Z21zxB8QJfHHw9+Il78NPFF9ax2OqTRabDqNtfwxk+WXgmIUSKCQHByAcY9afT1f4pCjpf0/X+vmfI0Gsav8Nf2d/ij4K8U+T4Y0C38eWOn30Ghzy3EOmademCe6tYXALEKjspCgkmRgByM7upwtpnxP+EPjfwD8G7b4VeFYPEtpokWoXUaWGqa3DdZidWtIxkxhAz7piWOARj5q+oLH9lXw0vwX1r4f6lqGpaq+uXL6lqfiCaQLf3F+zq4uwwGFdWRNoAwAig55zmeCf2Z/EsPjXRPEPxH+KepfEpfDsjzaHp8+lwafBayshQTSiInz5VUkK7YwST1NOOktelvySa79/vF9l+d/xf3HzppuqaF8SPiB8VrY/CU/Gb4mXniS900yataqum6HYQN5Nuj3cwKwnaGcCIF2JPIOKxovFv8AYv7L/wAK/CPxFuZ7nwxbeN73QdXi0xZrk6hb2T3BhtYwBvkjaWOKMDAyFXJABI+oPF37MPiX/hNde1z4c/FbU/hvaeJJhc65pcGlwX0VxNtCNNA0hBt5GUDLLkkgHtitrWv2WfDN78GdC+H2l32oaH/YE8d/pOuW0gN7bXyMz/aixGGdmdywIw29gMcYzXwr5fh17f8ADluzk/n+J87eCLfVNB/ao+GHibRPhPZfB7wr4jj1DRhpKiO3v9ThW2a4We5tIQEh2Mi4BJcHOSQRjz/wHb6R8dfhbrlro3wkj+IfxH8RXF9ceIfG3iOD7NZaNK8jhFju3UyFok8oCKADAGc9RX2J8L/2etd8P+OofGvxC+Il78TPE9jayWOlzzaZBp1tYQyEGQpBESDIwABkJyVGMVyur/sg+II7zXNL8JfF3WvB3w9164mudR8LWunW8zAzMTOttdP89urEk4UHBY+tOSvp5fqCdrvrodn+yrq914+/Zd8C3PiIDUJ7zRlt7r7R+8Fyi7otz5+9vVQTnruqj+yHJcaf4B1/wpLM9xa+EPEeoaBYySNuf7JFIGgUnvtjkVPogrs/E2raV8AfhPDHpGjXN3aaTbQ6dpWjafE0ktxIcRQQLgHlmKgseBkkmq37Pvw5v/hr8OYbTWpI5vEup3VxrGsywn9217cyGWUL6qpYID3CA1cpc1SUlt/VvuX5mUU4wjHr/wAA9MooopGgUUUUAFFFFABRRRQAUUUUAFFFFAGb4a/5F3Sv+vSL/wBAFaVZvhr/AJF3Sv8Ar0i/9AFaVAGR4o8L6Z418O6loOt2i3+k6jA1rd2rsVEsTAhlJUggEHHBBrxT/hgP4Af9E3sf/Au6/wDjtfQVFAHnHwp/Z5+HnwPuNSm8D+GYNAl1FES6aGaV/NCFioO92xjc3T1r0eiigAooooASk/SvIv2sde1Dwz+z74u1PS9QudKv4I4DHeWc7Qyx5uIgSHUgjgkHHYkVjeDda1X49fEaLxVp2sXmn/DHw7LJBpqWF08Q8RXikpJPIUI3WsRDIiElZGDMQVCgpA9Fc92pBXx18FfiT4n0P9o3x1/b+vajqfg/XfF194asre9uXlh0y8ghiuIEiDEiNZUknXC4BaJBjJFcf4y8QeP/ABR8N/CNh4f8a61pXiHUPijrenwXyX8oLJFJftBbyHd80AMUamM5UKAAMAVN9Ivuk/va/wAxPRtdv+D/AJH3tRivnKx+Ll38QvGnwA1WwurvTbXXF1carpSTsqi4htSJIJkBwximVxhgcFcjFeo+L/iDrfhz4i+DvDlj4L1PXNL1w3H23XrVgLfSvLQMhl4Od54GSvtuPFW9HYSd1c76iimtnaccHtSKCgfnXyd4dt/iT4T/AGtPBOn+MviHdeJRrOiapdT6TYQ/Y9KtzG8PlrHCDlyoc/vJCzHjp3+saPsqXf8AzsL7Tj2D8KM1wXx2+IU3wo+D3i7xdbQLc3ekadLcQQyZ2vKBiMNjnG4jPtXxN8QPibe/s+6lo+vW/wAbvFnxC+ItrPb3PirwwjC90WC1Z1W5BhjjCWe3dhSW3ZwNo3ZAveny/wBajd1Hm/rQ/Rb17UCvjv42eOIPGHxI8a2viv4t6x8I/h34Mis7dZPDt+tlfapfzw/aGIk2M7qkbIBEiksST2rA+HX7TXjOT9nPxpDDf3uo+LdJ8R2/hnRNY8QWP2e5lhvJIltLq4iI++qTbuR8wVSc7jkV3e39X0/EHpbz/wArn3H9aK+AIfilB8Ffjd4NsPC/xm8X/Fw3+sQaR4vtdTlGoaXZ/aG8tJI5lQJbOJTxErMSAQSMYO38TPH1r4317xx4i8Z/GjxH8L/D2g63L4e8OaH4SuxBdX1xAEWWWSNUaS53SvtCABVC8kAk0dLr+rW/zQev9b/5H3J/OiviLwz+0V45+IH7PngbSm1mTw5421vxHceF9U8Q3lotvNZQ2yyyz3BiYbY5jDEAQeFZmPGOKvwX+L1p4O/aV0HwX4S+J3i74seCNeS7s73UvEkhvobTUYojMgtr3YquCikFFyoDA5OflF8TX9bXJvpf+t7H3Pmj68V+d/ir4lXfizwc/wASdV+Nnizw1401qe6fwZ4D8JyCWMwxySJbpNYqjNOX8slnkKr82M8AV9m/s+/Ea4+LfwU8HeLryNYr7VNPjluURSqiYZWXAPQb1bHtTSurjl7suU9D9aq3moW2nRxtdXMNqkkiwo00gQM7EKqgk8sSQAOpJAFWvpXgOlQr8aP2lPEM2pD7R4b+G7W9pp1i+DFJqs0ImlumHdooniRM52l3IwTS62G9Fc9++lHevl/9orxdda98UYvA978Qrv4WeCNL0H+3td1/TbyOzvJjJMYbe3iuHB8vlHYlQS3Cgc1lfsW/GO68UeMPHPgpPEmv+NPDGmx2upeHPEPie2eO+u7OXej7nZVaZBIhCyFQW+boAACPv7f1YJe7v/Vz61opa+PPjh42h8W/ErxvZ+LPi3rHwj+HfguO0tlfw7frZX2p380PnviTYzuqRlAIkUliSe1K+thpXPsKjJr4X+H37THjW6/Z78Uadb6le3Xi+z8VWvhTRNe8QWHkXLQXjxC1u7iEjBkWOUtyMNtQnOTnN0n4qWvwd+PPgvSfCnxi8YfFuz1TVotG8VQ6xL/aOm2clx8kLQ3CoEgfzekSs2QGBI24Npe9b+tbP9UTfS/9aH31SAfnXwt8SPH0HjXVPGXifxn8afE3wz0rS9cudB8LeHfCN2Irm9ktiI3mkhVGkui8xICYCqAASM5GtoP7Q/jn4hfs6fDqz/tZvDHjbxHrs/hvVteubZIZbCO1Ez3Nx5bAKkpigGQQArO2MYGI+zdeX4/1qN6Oz8/wPtT2oz6V8MfBf4vWng39pXQfBfhL4neLfix4I15LqzvdS8SSG+htNRiiMyC2vdiq4KKQUXKgMDk5+XlvFXxKu/Fng+T4k6r8bPFnhnxprc90/gzwH4TkEqGGOSRLdJrFUZpy/lks8hVfmxngCm9En0BK+h+iGelGa+NdV+Omt/GbwP8ACLT28Xt8NbDxJoNzr/inxJaSpazW0NsY4pI4JZAViLzSffPKgDGc4KfslfGP7R8bdf8Ah9pHjTxP8RfAk2knVNF8ReKomadpYpViuY47hkU3EeXU7sYBUgccs+V8zi/P8N/68ieZcvN00/E+wLLUrbUUdrS5iuVjkaF2hcMEkU4ZSQeGBBBHUEc1br5/1a2HwX/aV8P3OljyPDfxIe4s9TsU4ij1WGEzRXSr0DSxpIj4xuKITkgmvoAUulyuth1FFFMAooooAKKKKACiiigAooooAzfDX/Iu6V/16Rf+gCtKs3w1/wAi7pX/AF6Rf+gCtKgAooooAKKKKACiiigDy39pbwbrHxA+CPifQNAs/t+r3iQrBb+ake8rPGx+ZyFGFUnkiuf034e+JfhH8X/t/g7Tm1T4f+K52l1zSUnjjOj3pGTfQCRl3RydJY1y24B1ByRXuBoxU9bhurHzPo/wB1/V/Bfxp0nUrf8AsfUdb8YXHiDw5febG5SREt2tLkbWJXEsPKthsAgjB55T4f8AwZ+JDeFPhTPr3hldM1qw+IWoeJNZs0vreVbO3uPtjBg6yEOMzoMLlueQMHH2H/OjGfehK1vK34W/yQn7ys/P8T5ib4KeLfD37Wmh65pOmrP8OWub7XJ7r7TGpsL+5tDBNGIi29lkZI5MqCAzvnGc17F4u1j4gWfxG8HWfh7QNN1DwbdG4/4SDUrq52XFmAgMPlJkbstkH5W9Dt+9Xd80vPNPsuwd33FooopjPizxRq37QWp/Hrw94+tv2e/Mt9BsL7TI7X/hNdPH2tZ2jIl3EZTAjHylSfm6jHP0r4+1zx5b/CW81Pwh4bsbrx6bOOW30PUrseQs52l4mlBVW25YA7lDFR8yg5rvaKnaCj2D7fMeaeMvAup/Gb4C6h4W8VRQaJrevaL9mvo7NvNitLp4xu2HPzKr8jnkDr3r5q8L/BD4o6r8P9N+DNz8LfDXw88HrcWv/CQeLNK1aOcazDC6u3lW4USiSUooLTE4Bb2Ffb9FUvdnzr+rbB9mx8k/E34H+JvA37Rl/wDFrwh8MdF+Kz6vaW8TWN/qUVjd6VdQqEE8EkytHtZAgOBvBXggE5l1j9lLxH8SPgH8RdM8WXWnW/j/AMb6ouvTJAzvZ2csXlC2tS4AZkVIVRmAz8zEZwM/WP4UZ61NrRt/W9/zH1T/AK2sfIfgz4X/ABG8dXXgjwvrfwt0D4Q+AfCeqw61cx6TqkN3/a1xBzCIo4lHloZMOxkJY4HJOc1br4MeN/gb8dPGfjLwJ8J9B+JR8VXf2+21a71WKwvdFmdcTIxlB3RFyX/dYYgkHoMfY3bminfW/wDWtv8AJE9LHx544/Y41vXv2f8AQdKuV0nxN470/wARP4uv7S8Z49P1S6mkd7i1LDDLGVfYrEc7FzgE46n4aeAfH/jz4j+EPEHjHwDpXwo8LeCLe5XR/DOnajDfNPczR+UZS0KrHHEsZYKgGcsSfb6a/GjmmtL+f+VvyA+H/BXwP+KP7Ot14r8MfDv4WeGda/ty5uDYfESfVo7eaxgmbKR3ULKZZPKz0iIU7QcZJz9XfB/4dwfCX4YeGfB9vObqPR7GO1NwwwZnA+eTHbcxY4967Kj60l7q5fT8NgfvS5nvr+ItfP3gK5T4YftPePfDepsILbx15HiHQ55DgTyxQLBd24J6uojikC5ztckDANfQNYfiTwbovjB9MbWtMt9QbTLyO/snmTLW9xGcpIh6gjkcdQSDkGhaSuD1Vj54/aU+Aesax8YPC3xX8PeBdG+J95pVg+m3XhbWbtLUOPMLw3EMkgMYkRmfO8EYIIGQCOy+BXgPxjJ408V/En4gadZ6D4i16C1sLPw/Y3Qu10yxt95WN5gAryM8rsxUbemPQe4UUR91W/rXccve3/qx5x4R1z4l3nxW8YWHiLw5pOn+AbZIToOq2t1vubtio8wSruOMHPVVxjAL53DxD4nfBHxP4H/aP1D4ueEfhjovxXk1i0t4msdQ1KKxu9KuoVCCeCSZWj2sgTOBvBXggE5+tsUUuz7Dvuu58j+IP2TfEvxK+Avj2w8UzabH8QvGGsJ4hlhjdnsraWIRrBaFwAzRiKIRsw5BdiM4GX+C/hr8RfH2seBND1/4X6D8IPAHg3VE1l7PStUhvDqt3ErCDykhUCKMO3mN5mWJC85ya+taKez08vw2JtdW9fx3PjdPgz49+Avxo8b+J/Afwn8P/EY+Kr+TUbPX7zVorG80V5R+9icSqS0W8lsREMQSCScAWfHX7HGr61+zv4Y0FxpXibxro2ut4qvLa/Lx2OrXUssklzblhhlRvNZVYgZ2LnAJx9f/AFo570re6l2t+A/tX/rU+Zfhp4B8feO/iP4P8QeMfAOlfCnwt4It7lNH8MadqUN889zNH5RlLQqsccSxlgqAZyxJ9vOfBfwP+KP7Ot14r8MfDv4WeGda/tu5uDYfESfVo7eaxgmbKR3ULKZZPKz0iIU7QcZJz9wUU9/63BaKx8efFL9j240zwn8ILjw74c0n4jXnw8tntLjw7rswt4dYjkQb3DsCiyCUbwHBU7jnOAD6H8GPA3jnxB8ULv4mfEDw9Y+CJoNHXQNF8K2N8l6bO3MgkmklmjAQszIgUIMBVwea+gKKd9b/ANa7k8qsl/Wmx4N48uR8Sv2lPAfhvTj51v4IM3iLW505WCWWCS3s4CQeHYSyyY/uoCeGFe8jFYnh3wdo3hFtSbSNOhsH1K8kv714h81xcSHLSOTyT0HJ4AAGAAK26S2sV1uOooopgFFFFABRRRQAUUUUAFFFFAGb4a/5F3Sv+vSL/wBAFaVZvhr/AJF3Sv8Ar0i/9AFaVABRRRQAUUUUAFFFFAHE/GL4oaZ8GfhzrPi7Vo5ri20+MFbW3x5txKzBI4kB/iZ2VR9a838BeJP2jdU1/S9S8T+FPAeneEr108/SbPULptYsI2xy7svkSMmcsq4zggGtD9sDwTrnjf4G6pF4bsjqet6Zd2er21gud10ba4jmMS453MqMAByTgd6zvh/+2t8NfiNrml+G9Ll1weLruRIp9Am0S6S4sWOA3nsY/LRU6s28jA4z0pQ1b79vIUtvLuJ+0Z8fPEnwx1m2svCenafqh0zS5vEfiBb2KR2i02KaKMiLY67ZWDTMpYMP3LcGtT9oz4u+JfAfgHwxqXgBNEvdY8Q65p+kWcmuLK9ni6Yqrt5TKwGSpyM8djXh+m2Pxq+Lfj34o+Nfh/B8PLrwlr9w3hqL/hMDfGaS0s/MgbyhANvlPK87ZJJJJ4AAzx+qHUvFH7MHw++HfiDUbrTPE3hX4i6b4P1C+0e4aKeAxTlYZ7eRhkHyWiZHK5yAcdqiN5RXm4/c3/wyG9G/n96X/Dn0R8K/jB8S7P4vD4a/FbSPDMesXmkyazp2q+EZp2tJI0kWN43jn+dWBcHOcHpXCeN/id+1H4R+IfhTwv8AZ/hDJL4quruHTJNmqFYxBC0xM53DBKDA2hst2A5q58HfBdv+z5+0vf8AhvxBf6p4qvPFmmeb4e8aeJL2S71GVICDcabJIx25XIlXYq7gTkEqMdp8cP8Ak5L9nn/r/wBa/wDTbJWtk+V/1v8ApsEd5J/1oel+EdY8SeH/AIbrqnxPudAs9bs4Z7nVLjQDMNPijRmYOhm+cARBS2e4bHGK0fAfj7Qfid4S07xP4Y1GPV9D1BDJbXkasgcBip+VgGUgggggEEYIq34o1Sz0XwzquoajA91p9rayz3EMUJmaSNULMojAy5IBG3HPTvXNfA/xf4b8efCnw3rvg/SZNB8NXltusdNksltDBGGK7REnyqMg42kqQQQSDmlvdi2sd51rxf8AaN+Lnjj4YeH7u48GeCE8QyW+m3Wp3WrajdrBp9hHAhYhwD5krt0WNcZ67gASPaMV8+ftlfHTwP8AC/4T+IvD3ifW/wCzNY8SaHqNtpVt9knl+0yeQU27o0ZV+aRBliBz6A4ym7LQ1ppOST2PUfg/4wvPiF8J/BvifUYoIb/WtHtNQuI7VSsSySwq7BAxJCgsQASTjua7Gvnj9if43+CviX8G/C/h3w3rX9paz4Z0DTrXV7f7JPF9ml8gJt3SIqv80bjKFhx15GfQPB/x00Hxr8VvF/w/sbPVodZ8LpDJeT3VoY7aQSDK+U+cnr3C55K7gCR0VFabijCL927OJ+I3xc+JOufEzVPAfwh0bw3cahoNrBda1rPi2adbKBpgWit0SAb2kKDeTnaAQDyayvCv7YEV58C/FXjDWtFi/wCEm8Mam2g3ui6VdCeK61HzEjiS3lAOUlaRMEg7csDnbk+LfHnSNC8DftG+M5Pi54p8TeHPhN4ris7+GPRLeYWeq3McC28lrdzW6NMAAgIjBAYNnII5gj+Dmtan+zT8T/Efw88MXHhRNR8SWev+GNDjsQtx9jsfICSi3ccySeVJKEYEuSM5Lc4xd46/8Nqr/gaS0kkv60/z+49hsfj58WPhr8QvBml/F/RfBllovjO9Gnac3hu+ma7sLllzGlwkvEgJIQtF8oJyTyAb/ir40fFnxj4y8V6f8JND8JHQfCNx9i1TWPGFzPGt3dLGJJYLYQ/d8sMoLyHbk+gr548K6D8M/jB418EWfgCbxJ8Q/iCviCx1bxR4w8UWtx9o0q2tXMzws8qLHCWYCNY4gQRkEkAEr4s0nwX8OfjB8QdB+O/iDxRB4Q1DXpte8P8Ahuxs5/7K1s3BEjeY1shaaVXAXy5GVV2g8hiBfl11/S3r1+4nzXl+t/0Poa0/a8PiL4D+FvF3h/w6NQ8X+JtS/sGw8PNdjy11EM6yB5gMGFBE8hcDlQOmciX4e/HP4h6D8Z9K+GfxcsfCMWr69YzX2j33hG7naI+UMvDNFP8AvA20MwcfKdhAyQceAa78JfFvhH9nHwh4t0fTtU8EtbeNLvxNdado2npLfaLpd35sP7u3IIEkcDoSoGUyTwU42Pgb4T+GnxA+OngbVfhHb6t4jsPDzXmqeJ/H2uRXJub65ktjbw27TXCKzuS5dlVQoC5AyTTWsm393y/R/wCQnpH8vv8A1Vvvueha5+0f8Xtc0XxD8QfA/hjwf/wq3Qp7lN3iK/ng1HV47dikstuyjyolLI6r5mSduccgV2Hij9pbU9f8MfDmP4Y6La6z4s8fWjX+mw6xK0dpYWyRq001yYwWIQuibV5JPHTB+RPDFj4G+G9neeCvjTN4r8XeMvDlzcweFvh6+nTtpl6u92t5reOFDHO0m85eZuNxBXgE9l4/+E/iH4K+AvgTqGs65r/hDw7peiXWieLdW8K2/nXmmrctHOQGVWaNPMQoZUBK4GM7gDCty6vTTX5P9bX7FS+Npef5r9Nu59IfBD45eK9a+J3iH4X/ABJsfD1p440myj1RLjwvdSS2V1bOwU4ST95G6MUBDckOCABgn3uvjH9lLwb4F1r44XHjL4UaHc2nw+0rw++mf8JDeQTxy65fz3CSyyb5wJJQix4LMBhnwAABX2bV/ZTe/wDwf8ier/rocJ8bPiYvwl+HWo6/Haf2lqQaO003T9203l5M4igiz2DO65PYZPas6x1W7+CHwVv9e8ea9ca/e6XaT6rqt7tGC/MjxQIAMRgnZGp5wFBNcf8AthK2n+D/AAT4km/5BHhvxjpOq6mcZCWyzeWzn2QyK/ttzxjI6/8AaT8Fah8S/gF448OaMBNqeo6VKlomRiSQDci5PHzFQM+9YybVOUlv/wABf5mkbOcYvY8W1D9pP4wfDmDw34z+I/hbwfpPw8169trUafYahOda01ZyAjzeYBFLtyNyRjIBJ4wcfWwPevzCuNN8CfG3wvF4ZifxT8Rv2gdca1sdQfxNp08X/CMRmWNrp1jKLBbRIquB5e5ssADgkV97/Gr42aD+z/4Ntdf8QWmq31jJeQ6eqaTa/aJRJISFJGQAvB5J9AASQDu0lFev+Rkr83yLfxs+KkHwd+HuoeJHsJdXvEeK1sdLhYK95dTSLFDCCQcbndQTg4GTg4rx7R/jx8Vfh58TPB3h74v6R4Mt9N8Y3D2WmTeFr2driyuAu5Y7hJv9YGPyb4/lDYz1AO/+2l4X8R+LfgRNd+Dxctr2i6hZa5apa24mn/cTK5McTDDuq5YIR8xXHevmrwb4f+GPxc+IngG3+HMniHx/4ztvENrrfirxv4mtrj7TYQWpaT7O8kqKkbPJtRY4hjCnOcA1nD4rPv8Ahpr+Zcvhv5fie++JvjZ8W/GXifxbH8J9B8I/8Iz4Ru3sNR1XxhdzxG+uY0DTRWwiwEEeQpeQ7ck9MGrMf7XI8RfAXwh4z8M+Hv7R8U+LL5dG0zw+90Ngv9zrIrzAY8pPKkcuAMqB0zkfOGvad4K+HnxU8eeHfjzrnir/AIR2bxBc614a8K2Vncf2VrS3D+cGJtkLTyrIduyRgqkAcgkDW8RfCXxh4M/Zl8A+JNNstT8HXGneLbvxHfWOiWKTXui6betOjCKAjAeKGVMqBlOSMbaS+BN7aff1/roN/E0vP/gf15nvPw9+OfxD0H4z6X8M/i5Y+EYtX16xmvtHvvCN1M0R8oZeGWKf5w20MwcfKdpAyQcczrn7R/xe1zRfEPxB8D+GfB5+Fuhz3Me7xFfzwajq8duxSWW3ZR5USlkdV8zJO3PcCvPvgb4U+GnxA+OngbVfhHb6t4jsPDzXuqeJ/H2uRXJub65ktzbw27TXCKzuS5dlVQoC5AyTXm3hix8D/DezvPBXxpm8V+LvGPhy5uYPC3w9fTp20y9Xe7W81vHChjnaTeSXmbjcQV4BLlfRLe336/1p13Erat7af1/wT678UftK6nr3hj4cp8MdFtdZ8WePrRr/AE2HWJmjtLC2SNWmmuTGCxCF0TavJJ46cw/Cn9orxDD408Y+BPivbeHdN8V+G9KGuyXvhi6kmsbiy53sEk/eRuhxlW5IYEADGfnz4gfCfxD8FvAXwJv9Z1zXvCHh3StEutE8W6t4Vt/OvNNW5aOcgMqs0aeYhQyoCVwAM7gDq/CP4S+C/ij4m8aX/wAINGn0/wADN4JvvDsfiS/gnSTWtSvH3PKXnAllEYUAswABcgAACqlo5cv978Nv0FHaPN5f8E7PV/2pvi/4e8E23xd1Twh4TsvhJcNFMmlzahMviD7JI4VJwTiAsVIcRDLEHGc817j8aJfE954AtvFfw/1OQaro+NWg03g2+sQhCXtZBgn50J2sOVfYe1fAtrb+D/FHw3k8I+KI/FfxA/aJOnHQNO8Ka3p0622hSMohEkEaoLdIo1CyGYsWIUN8pJx+kGmpZ/C74Y2qandJHp/h/SUW5unOFEcEQ3OfbCk0p+7BtdNn/X9aiV+ZJrfdFr4e+N9P+JPgfQvFOksz6drFpHeQbhhgrqDtI7EdD7g10XtXjX7Huj3Wi/s2+BYLu3azmms2vFt2BBijmleaNSD0wkijFey+lVKyk0gj8KHUUUUigooooAKKKKACiiigDN8Nf8i7pX/XpF/6AK0qzfDX/Iu6V/16Rf8AoArSoAKKKKACiiigAooooAbij0rg/jZ8YNI+Bfw/vvF+t2Wo6hp9pLDC1tpMSS3LtLKsSBFZ1B+Zx/F06Z6VFffG7w7Z+FfBniGL7VfaX4tvbKy06W1RSQ11zEzhmGFH8WMkehqfT0+Ynpv6noVHFfPvjH9sfSPCPjvxD4Yh+G/xH8TSaDOlvf6p4d0FbyyiZokl5kWUEYSRSQVB64BGCfYPAXjvRviZ4P0rxR4euvt2janD59tNsKEjJBBUgEEEEEHoQRT3XMGzsdFRRS0xiUVxHxR+MHhX4N6Nbaj4p1I2aXcwtbO2ghknubuY9IoYowWdjxwBx3I60nwZ+LWkfHH4d6X4z0K2vrTS9RMyxQ6jGkc6+XM8TblVmA+aMkcngjODxSXvJ26B5nc0mKWvM/jF8fPD3wWXTINRs9Y1/XNVZ107w/4csWvdRuwgBkZIgR8qggkkgCi4z0v8KK8z+Fv7QXhT4reG9a1azN9oUmhu0es6Z4htTZXmmMFLkTxsTtG0E5BIwDzkEDhfDf7bngXxJ4k0rTzo3i3R9G1i4W00jxXq+hyW2j6lMxIjWGcnJLEHG5VB9aOtielz6Fo4ryH4uftLeHvhN4gtfDw0TxL4y8TT2/206H4R0ptQu4rfcV86RQVCJuBGSckjgGtbwv8AtB+CPFXwqu/iHBq/2TwzYJKb+S+iaGWyeI4kiljI3LIp424JJIxnIyulx9bHpFFeE/D39sDwl4+8Zad4bm0Dxd4RudXDNo114o0V7G21YKu4/ZpCTu+X5hu2kgjHJAqx8Tv2svC/w38XXXhqDw/4s8aatp8STapF4S0dr9dLjcbka5bcoTK5bAycDJHIy+1w32PbqK8z1D9onwHp/wAIbX4lnWhP4Uu40a1ngiZ5bh3basKRAbjKWyuzGQQc4wSMj4TftPeHPit4puPDDaD4o8F+Jo7f7bFo/i/SmsLi5twQpliBLBlBOOuepxgE0+vKK+lz2TGaTtS1n69rll4b0W+1bUrmOz06xge5ubiU4SKNFLMxPoACfwpXsrse+hf9BQK4P4O+ONZ+I/hEeJtU0dNDsNRlM+kWrsxuTYkDypLgEYWR+X2jIVWUE5BrzHUv25vAGma3cRtpXiu58LW139huPHFtoskmgwzB/LKtcg9A+FLBSuSMHHNHXl6h0ue9eINB0/xRol9o+q2sd9pt9A9tc2swyksbgqykehBIrB+FvgST4Z+C7Lw2dbvtftrAvHaXOolTOlvuPlQswA37FwoY8kKCa6qGZLiJJI2EkbjcrKcgg9CD3FQ6lqNro9hc315PHa2dvG0088rBUjRRlmYngAAEk+1Hw3bD4rWLXSjNfPfhv9tzwL4k8S6Tp7aP4t0fRtYuFtNI8V6voclto+pTMSI1hnJySxBwWVQa6b4uftLeHvhN4gtfDw0TxL4z8TT2/wBtOh+EdKa/u4bfcV86RQVCJuBGSckjgGgR69RXmnh39ojwL4i+Et58R49X+xeGbBZPt8t7C0U1nJGcSQyxEbhIGwNoBJJGM5GeY+HP7XXhX4heMrHwxP4f8W+DtS1NHk0hvFmjNYxaqqDcxtnLENhcNg7TgjvxR1sPpc9yx170dR0rw74lftc+Fvhz4sv/AA7D4f8AFvjPUdLRZNXPhPR2vo9KVl3KblwyhMr82BkgckV1WsftBeBdH+Etr8SX1oT+FLyOOS0uLeJ3luWc7UijjA3GQt8uzGQQc4wcHS4dbHpFFeOfCf8Aag8OfFbxRceGH0LxR4K8TR25vYtH8X6S1hcXNuCFM0QJYMoJA6g98YBNc/4y/bW8EeD/ABJq2nrovi7XtM0WdrbWfEmh6JJdaVpcq4LrPOCMFQRu2q2OnXIo7B3PoHrS7RXDeOPGurW3w1PirwNp9r4scRRX8VosxX7ba8O4hYAgyNHkpngsRmtrwJ420n4keD9I8T6FcfatJ1S3W5t5MYbaRyrDswOQQehBFHV+Qrp2Z0GK4b4rfC+2+LGl6bo+qahcQeHo7xLnUtMgAC6nGmWSCVuoj3hGYD7wXaeCa7qkNAxkcaxoERQqqMAKMYx2p+2gd6WmAUUUUAFFFFABRRRQAUUUUAZvhr/kXdK/69Iv/QBWlWb4a/5F3Sv+vSL/ANAFaVABRRRQAUUUUAFFFFAHgX7bH/JEl/7GDRP/AE5W1eReNM/DjxtoHwvl+TT7f4gaT4h8O7un2C5nlM0C/wDXG43jHZZYxX1x428CaJ8RtFGkeIbL+0NOFxBdeT5skX72GRZY2yjKeHRTjODjByDWZ41+EHhH4ieIvDOu+INHTUNW8NXRvNJuvOkja2lJXJGxgGHyL8rAjjpUrp63+Wn46Etc3N6W+ev+Z8xWvw5+JvjT4xfHe58EfF4fDrTYtbt47mxbQLe9E8n9mWpMhnkYPENpA+XpjI5r2L9j/VrPXP2dPDMdpptvpNtZrc6cU06eSW3lMM8kTTwyMS7JIyGQEkn5up6lPG37FvwZ+I3ji98YeJPBaar4gvZEluLqXUbtVkZEVFzEsojxtVRjbg45HJr17SdA0zQ9Ft9I06wtrDSreIQQ2dtEEhjjAwEVQAAMdgKraHL6fggt71/N/icL+z74C8IfDf4b2+i+B9dm8R6At3cTJfzait8WkaVjIvmL8vytuGAOCDnLEk+mVyfw3+GPhf4R+GU8PeD9Hh0TR0lknFrCzMN7sWdiXJYnPqeAABgAAdX6UDRUurK2uXhlmt4pprcs8MkiBmjYqVJUnoSCRx2JFfP3/BPn/k0/wf8A9dtR/wDS+4r0/wCL/wAD/BPx40Oz0fxzon9uabZ3Iu4YPtU9vtlCsgbMTqT8rMME45rnPhP+yT8KPgb4ml8QeCPCv9iavJbNaPcf2jdz5iZlYrtllZeqKc4zx15oi7cyfUtv3eVf1/Vz0qTxVoq+Il8PnVrEa81v9rXSjcoLpoQdplEWd2zPG7GM8Zr5V+M2seONJ/bP0qy8F2ehprmu+DvsWnat4kuGW2s1S7d7kxxKN00pUxEICOgJyoOPo2T4QeD5vifH8RG0KE+M47M6euq73DiE5+XbnZnBI3bd2OM44qH4rfBPwR8cNFh0nxx4ettfsoXMkImZ45ImI5KSRlXTIwDtYZxzUW1i/X9UK+jX9dH+Z8ReJPBGv6MP2pIY/F998QdU/wCEOs013VmhjhR74eczwRRxjaipbgDYCSu4gnkASfG+18efE39nPSvE2u+LNK8MaHfPpsXg7wL4TKXH2m5aaIWwnumGZXQZJjiUKNmf4SK+5Ph38KfCPwm8LL4b8JaDaaJooJY2sKlvMYgAtIzEtIxAAyxJIAGeK4zwd+yL8H/APjg+L9A8Cadp3iDeZEuVaRkhY9WiiZzHEeTyirjJq42jJPorfhf+l2Jeq+/8kv0PC2uviVdftafFvwn4Kn0Hw5qmqwaVezeJ9aP2i4gsVtRGBaWmAJSJfNJLHYCcEZIJ8r1LS7jwd+z/APHG/sdQu/iB4fsviDp15PfX0qJ/arRSWjXrMyrsCGYFSQCAF5zgk/b3xc/Zx+G/x2ayfxz4VttdmsgVguDLLBMik5K+ZEysVzztJIzziun0b4d+GNA8FJ4Q07QbC08MLbta/wBkrApt2ibO5WQjDBsnOc5ySck1MbpX6/5NNfkN2bS6f8Cx8a/Frw/8RPE3iT4P+IPG/jfTn1u+8YabP4f8F+E1BsYIVffPcPM2ZLgrBnLjCLk4yHxU/wAN/wDhZ3iD4jfGvwh4b1rRPh7Z2/iy71HWvE93tutVNvKqmAQW7AJGghRR5shIG4leQa+jvhh+yv8ACn4NeI7jXvB/gyz0fWJ1ZTd+bLO6K33hH5jt5YPQhNoxx0p3xQ/ZZ+Ffxo1+21rxl4Os9Y1W3UIt35ssEjKOiuYnXzAPR8jkin8t7/jb79hevl+F/u3PijSZtS+HvwP+F+r6HEvirQ7b4o6g2jT69eLbwTxyfaYbS5nm27QplLSbgACTwQSK9XHg3xta/tafBzUfGfjuHxL42kXU7q50TRLYQabo+nG1ZTtBzI4aZkUSSEFsAYytfWOsfDTwrr3gdvBt/wCH9PufCrQLbDSWgUW6xrjaqoBhduARjBBAIwRXOfCP9nP4b/An7afAvhW10KW8wLi4WSWeZ1ByFMkrM4XPO0HGecZqovlf9drCeq9f87/qek814R+21JIv7O+uRklbG4vdOt79lOMWr30CzZPYFCwPsTXu9YXjjwfpnxB8H6v4a1qD7TpWq2slpcx5wSjqQcHsRnIPYgGoelmUu17DPGFrcSeBdZt9MUrcnT5o7VYuofy2CAfjivz78P8A/CYePP2IvteteKdI+Hfwp0Xw9JZNpOiFLjU9XuIkZDHcTOAsBlmGfKRS58wqxyc19xfBHSfGXhzwWug+NZLa/vtIlNjaavbvzqVoqr5U8iEfu5Sp2uvI3ISDgiueuP2Qfg7efEP/AITifwFpr+JDP9pNwTJ5TTZ3eYYN/lF93O4pnPOc0ON3LXR2/r8Qi+VJ9Ubvwnvv+EH+APg248XX8GlPp2gWQ1K81GZYY4XWBA5kdiAuDnJOK5z9rSSTXv2VfiJNo0gv1uNBmlie0cOssJXcxUjOQU3dOoPFej+PfAOgfE/wnqHhjxPpser6FfoEuLORmQOAwYEMpDKQQCCCCCMg1d0Hwzpnhjw7YaDplnHZ6RY2yWlvZryiRKoVU5zkAADmipeopeYU/wB3y+R8BfG+z8efEz9nPSvE2u+LNK8MaHfPpsXg7wL4TKXH2m5aaIWwnumGZXQZJjiUKNmeqkV3r3XxKuf2tPi54T8FT6D4c1TVYNKvZvE+tH7RcQWK2ojAtLTAEpEvmkljsBJBAJBPung/9kX4P+APHB8YaB4E07TvEG8yJcq0jpCx6tFEzGOI8nlFXGTWv8XP2cfhv8dmsn8c+FbbXJrMFYLgyywTIpOSvmROrFc87ScZ5xVPa3TX8bf5AtD4b1TT7rwP8Efi5qdjf3PxB8Paf8TNMvbi91GdI01R4mtjds8gXYsZnwm4AqoXnO0k+i/E7w58Q9a+IPwV13xv450+58R33i6yn0bwd4XjX7BaWiBnuZzKwMs5EIwX4VS5AyGr7D0r4a+FtF8DjwbY6Bp9v4WFu1qdIWBTbtE2d6shBDbsknOSSSTyc1x3wt/Zb+FnwV1661rwZ4Os9G1W5Vke782WeRVJ5WMyu3lqfRMDgCiOj16Wf3JLb5C6Pzv+P+Vz5s+Fv/Cy/Eniz4yeE/D+vaJ8ONJsfF+o3uv+JbgrdavJHKwaIwwthIY/JCgSyE4Ayv3SBwGkzan8Pf2e/gzq2i2y+JNHtfiPfto7a9di2gljke7is7ieXbhV3t5mQACTxjII+0Pib+yr8KPjF4kt9f8AGHguy1fWIQqi782WFpFX7ok8t1EgHQBwwxx0rtNc+HPhjxJ4Lfwjqeg2N54YeBbX+yZLdfs6xLjYqoBhduBtIxtIBGCBUq/Ku6t+BT1b7O/43/zPk3/hDfG1r+1p8HNR8aeO4fEvjaRNTurnRNEthBpuj6cbRlO0HMjBpmRRJIQWwBj5a4f4Jw+PPGX7Pms6PqXirSfhd8PfDk2pW/iW9s2S51q/m86VrkSFwEtVbeeSGc4GOCK+xfhH+zn8OPgV9t/4Qbwra6FLeAC4uBJLPM6g5CmSV2cLnnaDjPOKyPF37Ivwe8deOh4w17wFp2o+IN4ke5dpFSZhjDSwq4jlPA5dWzinLX3egJv56EX7HNjf6b+y98N7fURItwNIiZVmGHETZaIEY4IjKD8KzP2R4ltPD/xCsrQ/8Sm08caxFYKowqRecGZU/wBkStKB9K9K+JQ8VR+B7y18DW9mPEEwW2tZb19kFmGIUzkAHcI1JYIPvbQO9O+Ffw70/wCFPgHSPC+nSSXENjGRJdXBzLczMxeWZz3Z3ZnPuxqpPmqSqf1rqZqPLCMP60Vv1OvooopFhRRRQAUUUUAFFFFABRRRQAUUUUAZvhr/AJF3Sv8Ar0i/9AFaVZvhr/kXdK/69Iv/AEAVpUAFFFFABRRRQAUUUUAMZgoJOAB1J4rmfDfxQ8G+MtSudP0DxZoeu6ha/wDHxa6bqMNxLD/vojEr+IrnP2jPhrqvxg+C/ijwhoupJpWpanbrHFPMWETbXVzFIV+YI4UoxGThzweh8Y+Fs3w78FfETwpo3iz4I6d8I/iBvePR9UsbK3axvpfKZGSG+gALs0Zc+XMA3zDgtilHV2B2Ubn09oXiTSfFWn/btG1Sy1eyEjwm5sbhJ4w6MVdNyEjcrAgjqCCDWXdfEvwhY3n2O48V6LBefb00s282owrJ9sdQyW20tnzWUgiP7xBBArwn4c+JLL4CfFb43eGNUcW2hJEfH+n5OP8AR5lIvQOwCzxkgf8ATQeteR3nwi1DxZ4B+D+m3+LPxb401jWfGNzM7YaDUJNPnltmwe8Ra2A9PLpX05ntZff2/Mdtbddfyv8A5fefcN94u0PTde07Q7zWdPtNb1JXay02e6RLi6CDLmKMnc4UcnaDgda2BXxJpuvv8TvjB8IPi3d2b2Mmo6/JoFjFPGVkhhi0q789cEZUm7a4U46iGM5IANfT/i7SPiBe/EbwdeeHtd0zT/Btqbj+39PurYvcXgKAQiJsHbhsk/Mvqdw+Wq7L+u5F/wAv+Ad9RSU1l3KR6jHvSKMiTxZokPiODQJNXsI9dnia4i0trpBcvEvDSLFncVHcgYGa2BXyFovwb8LfB39sn4d23hyzljn1DQNZub/ULy4e5u72Xfb/ADzSuSznk4HAGTgDNfX38qPsxl3/AM2hfaa7f5Ia1c1pvxK8Iax4mufDth4q0W+8Q22fP0m21GGS7ix13xBiy49xXHftWeKNR8F/s6fELWdIuHtNRttImMFzGSHhZht3qR0K7iR7gV8PfEax0m3+EekeKPg98I4fD+i+DJrLUYviRq8I06+1SRZY1C26bfPuBMXwWlwpBIAyFpR1ny+n4lNe7deZ+jXizx54a8B2cd54n8Q6V4dtJH8tLjVr6K1jZv7oaRgCfatSx1K11SyhvLO5hurSZBLFcQyB45FIyGVgcEEdxXw54+8VeHfEH7UnxEste+HF38YfFun2+n6b4c8LtYrPZ2du9us0080kwMMAaWQAyMCw2gAYriLLWNc+GP7NXxi8IeIWh8K6TZeNLKwuYtEnluIdK0++a3lubaB8FiEjldSFB5dgAeMtar+u6X6iejX9dLn3/wCG/iV4R8ZajeafoHinRdcvrP8A4+rXTdQhuJYOcfOqMSvPHIFO8VfEjwn4FltI/EvijRfD0l4222TVdQitjMc4wgdhuOfSvg7XoF0/xv8ACfxt8OPg3bfC3wrpviaw0uHWr2JbDVNchuX8h4/sqDc0ZQ7t8xLMCCMfMDetda0L4hfFT4t283wlb4z/ABKl8Q3OkwQanaqNN0XTYMRQb7qZSkG7Ej4jBdiT0ODRr08/wt/mL18vxv8A5H37NqFtbWT3ktxFFZohlad3AjVMZLFicAY5z6VkeEviB4X8fQzz+GPEmkeI4Ldtk0mk30V0sbejGNiAeDwfSvz0tfFB8O/s3/D7wT8RZppfCth4/vdB1W30nz7sX1taedJFaR4G+SMzLHGAcEhACQM47fwPb6poP7VHww8TaJ8J7L4PeFfEceoaMNJUR29/qcK2zXCz3NpCAkOxkXgkuDnJIIw1Zt9v+BcWtvP/ACdn+R9naz8TPCPh3xBaaFqvirRdM1u8x9n0281CGK5mycDZGzBmz7CumzX5meA7fSPjr8LddtdF+EkfxE+I3iK4vrjxD428RwfZrLRZXkkCLHdupkLRJ5QEUGMAZz1Ffan7I/iLUvFv7Nfw81TV5XuNQl0qNJZpGLNLsJjEhJ6lgobPfOaIr3W30t+P/DDl7s+X1/A9grlPF/xH0bwVq3h7Sr55ptV167+yafY2kRlmlIwZJCo6RRqdzucBRjPJAPVGvA/hGo8aftHfF3xNfjzbjQZrTwxpgb/l2txbpczlfeSWYEnqRGo6Ckvit8we1z2fxJ4q0XwbpUuqeINXsdD0yLAkvNSuUt4Uz0y7kAfiaf4f8RaV4r0qDU9F1Kz1jTZwTFeWE6zwyAHGVdSVI+hr5C/aU8WeGm/am0TRvGfhfUPiFaaf4Z+2aD4NsdON6t7fz3DxySyRkeXhI4h80hwoYkDIq3+x/YeIvBnx4+J3h/UvCem+AtM1Sw0/xBD4V0e6FxBpbyGWEqSoCLI4iDMIxt4XHTgg+Zff+AT9z8Pxt/mfYffFYXizx54a8B2MV54n8Q6V4dtJX8uOfVr2K1jZv7oaRgCfbNb306V8KfELxR4c1z9qj4jWGu/Di7+MfizToLDTPDnhdrFJ7Ozt2t1mmnmkmBhgDyyAGRgWG0ADFK+tiraXPuGx1K01KxivbS5hurKZBJFcQyB43QjIYMDggjkEVieGPiR4S8bXl5aeHfFGi6/d2Zxc2+l6hDcPAc4+dUYlefXFfn1BrGr/AA1/Z2+KPgrxT5PhjQLfx5Y6ffQaHPLcQ6Zpt6YJ7q1hcAsQqOykKCSZGAByM7mpwtpfxQ+EPjfwD8G7b4VeFYPEtpokWoXUaWGqa3DdZidWtIxkxhAz7piWOARj5qpe80l1svvSf6om+jfr+B91eKPiR4S8D3Fpb+I/FGi+H57w4totU1CK2ac5xhA7Atz6Zrbnvrezs5Lqe4jhtY0MjzSOFRVAyWLE4AA5zX5+6bqmhfEj4gfFe2PwlPxm+Jl54kvdNL6taqum6HYQN5Nuj3cwKw/KGcCLLsSeQcYxovFv9i/svfCvwl8Rbme58MW3je90HV4tMWa5OoW9k9wYbWMAb5I2ljijAwMhVyQASJTul3dvxG9G12v+H/DH6B+E/iB4X8fQzz+GPEek+I4Ldtk0uk30V0sbdgxjYgHg8GotZ+JnhHw74gtNC1TxVouma3d4+z6beajDFczZOBsjZgzZ9ga+MvA9vqmgftUfDDxNonwnsvg94W8Rx6how0lRHb3+pwrbNcLPc2kICQ7GRcAkuDnJIIx5/wCA7fSPjt8LddtdF+EkfxE+I/iK4vrjxD428RwfZrLRZXkkCLHdupkLRJ5QEUAGAM56im9FcEr3/r+tj9JNa17TfDelz6lq2oWul6dbrumu7yZYYo19WdiAB9TVbwv4u0Lxtpa6n4d1rT9e01mKLeaZdx3MJYdQHQkEj0zX5/XXxQ03xF4T/Zug+Jum6n4w0mTw9eX6+HbGye/l13UYWjgtg0QGJPkMknz4UkkknOD6F+zdp+v+Ef2tNUgk8BaZ8LdB8U+Fm1JPCemXCyGFre5jijuJkjAijkdZWG2MYA4PzAk1yvm5fX8P+GI5vd5vT8bH1Z4P+JOi+NtY8RaTYSTQ6toF59kv7G7iMM0ZIzHIFP3opF+ZHHDDPcEDq68F+Ldv/wAId+0Z8IvFWn/ubjXJ7vwvqaLj/SrdraS5h3f9c5ICQe3mMO9e9VK2uXs7DqKKKYBRRRQAUUUUAFFFFABRRRQBm+Gv+Rd0r/r0i/8AQBWlWb4a/wCRd0r/AK9Iv/QBWlQAUUUUAFFFFABRRRQBy/xD8K6l4w8K3Wm6P4kvvCOqMySW+rafHHJJCysGGUkBV1OMMpGCCRXkPhv9mfxfqHi7Qdb+KHxbv/iPD4fvRqOl6bHotrpVvFchWVJZRDkylQxI5AB7dQfoXtRSXuu6B6qx4Z+0P+zDF8edb8OainiKTw4bFJbLU44bQTf2pp0rxPLaMd6lATEMMM43Hg12/ib4YjxD8R/AXidNR+xweFRe7dPW3DC4NxCsQ+fcNgQAnG05yORjnu+lFC91WQHB/Ej4X/8ACwtc8C6kNTbTX8L60NYEYh8z7SPIlhMRO4bcibO7npjHOQvi74e634j+I3g7xFY+NNT0PStDa4N7oNqoNvqvmIFTzTnjYeRkN7bTzXd5/ClpLT8w3FpKimmjt4nllkWKNFLM7kAKAMkknoAO9VND17TPE2k22qaPqNrq2m3S74L2xnWaGZc4yjqSrDIPIPaqA+X9c/ZP+MetfESy8Z/8NFeVrWnw3Frp83/CEWbfZreZgXjx5oVs7EG5lJ44xmvdPH3gLxB40+Et54WtfGt94f8AEVzZx258UabCI51lXbulVFYbdxB4VlIDEBh1rvKSp+zy9A+1zdTkY/h7BqPwvXwX4mvZvE9vNpf9maheXg2y3ymPy5JHweGbk5ByCevevFND/ZC8QNc6JpHi34u614x+Heh3ENzpvha6063gYmEgwLc3SfPcIpAO1gASq56V9MmkGKr7XP1F9nlPDvif+zrrniDx/L44+HvxEvfhp4nvbWOy1SaLTYNRtr+KMnyy8ExCiRQSA4OQDjHrZ0v9lnwxB8Gdd+HuqXuoa0PEE8l9q+uXEgW9ur52V/tQYDCurIhUAEKEUc859popdGir63Pnzwb+zF4lj8YaDrPxG+Kup/Emz8OTG50TS7jS4LGK3n2lFmmMZJuJFUnazYIJJ7mn+NP2ZvEsvjnW/Efw4+KmpfDZfETrLrmnw6VBqEN1KqBPNiEpHkSlQAXXOcA44r6BooEeI6r+yn4ZuPgxovgDTdR1LSJNEuU1LTfEEMga/g1BXaQ3bMRh3ZncsCMEOQMcEN+F/wCz1rnh/wAdw+NfiF8Q734meJ7G1kstLnm0yDTrawhkIMhSCIkGRgADITkqMYr2+l/GjrdCtokfMusfsheII7zXNL8JfF3WvB3w8165mudR8LWunW8zgzEmdba6f57dWJJwoOCx9a+gvCfhjTfBXhrS9B0i2W00vTbaO0tYF6JGihVHvwOp5Na9FC91cqG9XzBXgl1b3vwZ/aLvNaFjdXfg74iG1trq4tYTJ/Z2rRJ5UTSBQSIpo9ib+ivGuSAwNe+UlHW4uljyD40fAW7+IviLR/FnhTxjefD7x1pMElpb63a2kd4kltIQWhmt5MLIu5QwyRg881f+CvwTPwrbXdU1bxFeeM/GWvzRzat4hvoUgafy12RRxxJ8sUSjOEGcFic88eod6P5UL3U0hvXc848I/DLXvDfxX8X+K73x7q2uaLraQrZeGrpf9F0woMMYjuI5x2Vep3bzgjlfif8As7654g8fzeOPh78Rb34Z+J761jsdUmi02HUba/hjJ8svBMQokUEgODkA4x1z7jRSstPIO/meJWP7KvhpPgvrXw/1LUNS1V9cuX1LU/EE0gW+uL9nVxdhgMK6sibQBgBFBzznL8E/s0eJYvG2h+IfiP8AFPUviUvh2R5tD0+fS4LCC1lZSgmlERPnyqpIV2xgknqa+gec81VOoWy3yWRuIhePG0y25kHmMgIBYLnJUFgCcYBI9arrdC6WPBPF37MPiX/hNte1z4c/FbU/hvaeJJhc65pcGlwX0VxNtCNNAZCDbyMoGWXJJAPYCtvWv2WfDN78GND+H+l32oaGNAnjv9J1y2kDXttfIzP9qLEYZ2Z3LZGG3sOOMe10n0pW05f602+4fW54f8MP2etc8P8AjqHxp8QviJe/EzxPY2sllpc82mQadbWEUhBkKQREgyMAAZCclRjFctq/7IPiCO81vS/Cfxd1rwf8PdeuJrnUfC9rp1vM4MzEzrbXT/PbqxJOFBwWPrX0zR9eKNHYR4v8RP2adP8AEXhvwba+EdbuvAGveDE8rw9rOnwpObWMxiN4pIn+WaNlC7lY8lQc9c2/g38Cbz4e6/q/izxX4wvPiD461SCOzn1y7tI7NIraMkpBBbx/LEm4lmAJ3Nya9doxT1vcOiR4VBb3nxj/AGhrLWPsk9v4O+HpuYLW4uI2j/tHVpUMUrRggbo4Iy6b8YLyMATsJr3XAo+lApbJIfW46iiimAh9KWkqKaaO2heWV1jijUs8jkAKBySSegA55pASgUHmoLW6ivbeKe3lSaCVBJHLGwZXUjIII6gjBBHrVigAooopgFFFFAGb4a/5F3Sv+vSL/wBAFaVZvhr/AJF3Sv8Ar0i/9AFaVABRRRQAUUUUAFFFFAHi/wC2Frl54a/Zt8canp+qXuiXVvaxsmoadO8NxADPGGZHU7gdpPI5r5x+AnxC8P6j8dvCGlfCj45eNviVYXH2l/EWn+N75pY47ZYW2NALiGKQyCXZxEG4yWIAOfqD9qDwjrnjv4D+LNC8N6d/auuXUMX2Wy8+OHzWWaN9u+QhV4U8k4rzCHQ/iz8evHfgS/8AGXwz074XaX4T1ZdXa8fX4dUvrsrG6iGHyUAjRi437m5AGAcczD4/6/r5BL4PvO9+KHxg+I3hXxNPp3gz4L6n46sbRUa61VtatdNh+ZQxECy5aYgHBwAMggEmo7v9qLQ/+FE6F8StP0fUtTGvSQ2emaFGFW6nvZZDEluSTtUhwwLE4AUkZ4B+f/jd+zV4z8ffGrxPeeIPhdb/ABZ0bUpo20LVdQ8aT6VaaFCIlUxNaxkO3zgsSgO7Oc5Jqn8QPh54i+Hn7Fvwr+G+qabCfFsniKC0XRbfUUguLlxczTKtrd4dYHwEbzWxhdwJDEAr/l3d7tr8XqP7dl2/L+u57D4H/aY+J+tfGbSPAHij4Gt4Qe+tJNRlv38VW12IbVCFMoVIwJCHaNSituG8EjHNM8fftZeL9O1Dxa/gD4PX/j/w94Unms9W1ttbg09FuIVDTJDEyPJNsBwSo6ggA8Z81/Z2utU+D/xs0fSPiN4C8WWXivxdFPpul+J/E3ja38S3HlRKZngAjRDDCduc7SS23PAyPLbzwJ40+IXjL4j6/wCHvB/iTxh4NvfEt+l6vhj4hW/h/StSjRvLZJ7SSEM2FXa77gXbcQSCDTe6j5P81+jEurfdfl/mfXb/ABZ8d+Pf2edF8Vab8Ho/EGqeIkxN4UPia2jRbCVHKzG6ZAjBk8s7AoYebg42mtv9lC/0LUP2efB154a8Mp4P0WW2keDQ0u3uxbfvpNw85gGkJbcxY8ktXL+GvjprniL4B+DvFHwh+FEvim1u91kdBk1q20v+zooS0R2ySBkkUNHtG3qCDxyKpfscw/FLwh4H03wH45+GP/CJ6do1lJ5Ouf2/a3v2uVpi3l+RDkx8OTksR8vqa0lo5qOj/r7yFe0XI5XT/wBvHX9W8CweO7P4La5L4DtONb11tUgQWhEgVzbwsoe6Rc8uAgBDDjBNev8Axf8Ajtf+A9T0Dw/4S8G3nxB8Ya7BNeWekW97FYxrbxbPMlluJfljAMiADBJJxxXAaZ8HfGFv+wdefDp9I2+Mn0O6s1037TCcyvLIyL5ofy+QwOd2OeTXn37W2heJfF3xk+H3h3wlY6lqviTS/Dt3eta+GvEcWgapaK0kSeb9skidTG21kEYPJJYjABqJWuoLv+j/AMjXT4v66WPZ/wBn/wDaA8afF7xd4s0TxN8Lm8BHw46291NJr0V+32llVxFsSNTgxuGEgJU9Aa7vwn8Qta8QfEjxf4avfBep6LpOii3Nn4humH2fVPMQs4iGB9wjBwW99p4Piv7G/iKDw/rHin4car4I1jwh44tBHrWqz6vr8Wuz6j5vyLNNeRgAyYQDYVGBggda9q8Kat4/vPiR4vstf0HTbHwVbC3/ALA1O2ud9xeEoTN5qZO3a2AOF9t3UVpdehir6+p3tc947svEWo+E9RtvCmp2ej+IJUC2l/fW5uIYCWGWMYI3ELuwM4zjPGa6CsHxtq2taF4T1K/8O6D/AMJRrcERe10j7Ylp9qfj5POcFUzzyeOKzl8LubR3R4P+ynN4o0/4ofGvw74l8Zat40l0bUtOjivdTcKAZLQSSeXCuEhUsxwiADAGcnk/SvrXx78EJ/jp4Z+NnjPXdc+Bv9m6P441Oxmu7r/hLrGX+yYooFhZtq5afgFsAKewz1r3z4ra18S9I1jwdH4A8O6TrmnXOprH4gm1K6MT2lmcZkiG5dzct/eIwBsOSV0eqj8l87K5hBNcyfm/xZzP7UHjTXtD0rwn4Z8N6wnhrUvFmrjTZdeYKTp1qkMk9xMm75Q4jiIBPA3ZyCAa8F+C/wAXrTwd+0roPgvwl8TvFvxZ8Ea8l3Z3upeJJDfQ2moxRGZBbXuxVcFFIKLlQGByc/L7f+158Brr46eBNGTTbPT9V1fw9q0Or2+k6s7JaaiEBWS2kZeVDqxwfUAHAJI534Z+AfH/AI8+I3g/xB4x8A6V8KfC3gi3uU0fwzp2ow3zz3M0flGUtCqxxxLGWCoBnLEn2ino3/XT+vmaz1St2/G//DHhPin4lXfivwe/xI1X42eLPDPjTWp7p/BngPwnIJYzDHJIlus1iqM05fyyWeQqvzYzwBXo2q/HTW/jN4H+Eent4vb4a2HiTQbnX/FPiS0lS1mtobYxxSRwSyArEXmk++eVAGM5wcnwV8D/AIo/s63Xivwx8O/hZ4Z1r+3Lm4Nh8RJ9WjtprGCZspHdQsplk8rPSIhTtBxknO78Uv2PbjS/CPwgufDvhzSfiNefDy3e0uPDuuzC3h1iORRvcOwKLIJRvAcFTuOc4AIrcuu2n5P9bX7hL43y+f5r9Nuxkfs1/HpNI+KHjDwlp3jPxR8Sfh9b6DLrukeIPFETNcPJbuEuYorhkU3EeWGG24BUgcct5x4y+J2s6X8PtL+I9x8bvFLfGHWbJdd0z4f6AwutLhtmAmSCaxRDhBCfmmkYHgsNxHP0v8L/AIZ+MvHfjvWPHfxJ8OWXgpZNAPhnSfCljfJem0tXYPO8k0YCFmKoFCDAVcHmvG/BPwD+LXwt8A638IfC3w18MWdvq6TWFx8VI9VjV5bSRmBeW1KmdpljYgANsDYxwMk12+1bT738trArfK/6L573Ou+I3xam+LupeFNNuPH938J/Akvg+38Xa5rmm3iWd3IblglvaxXDg+Vgh2JALNgKBzXI/CH9qW/8IeDfjRBaa7rvj3Q/Cukxa34U1zxVbPFd30EgeMCR2VWmjEyYEhALDd0xgdp8Zf2X73Q/Gnw88beEPAuj/E0eFNETw+/hfW7qO18yKLBt7iGSQGISIS2d4xggjkAjb0n4A+K/i9ofxS1j4kW1p4W13xxpEWiWWj2NyLxdGtIVcxh5QAskhlkZ22/LgAA8nBLaXL5/np+gLeN/L9L/AKnhHxA+Jt7+z7qWj69b/G7xZ8QviLaz29z4r8LowvdFgtWdVuQYY4wlnt3YUlt2cDaN2R+iaMJEDDkMMiviPwv8D/ijqnw/034M3Pwt8M/Dzwetxa/8JB4r0rVo5xrMMLq7eVbhRKJJSigtMTgFvYV9uqoQADjjjFaO3Lp3/wAiFe+pFeXkdhazXMzBYoUaR29FAyTXhv7LOnt400K7+L+tJ53iLxmWntmlAJsNLVyLW0jP8K7AJGxjc7knJAr2/U7CPVNOurOX/V3ETRPj0YEH+deI/sgawdN+GI+HWplYfFHgOVtD1C1PDGNSTbXAHUpLCUYN3O4djWa3fp/w/wChb6dv6seG/Ebx9B411Txl4o8afGnxN8M9L0vXLjQfC3h3wjdiK5vZLYiN5pIVRpLovMSAmAqgAEjOR9Afsg/FTW/i78C9G1jxKkq+JLaa403UjNb/AGd2mglaMs0eAEYhVLKAAGLAAYxXkC/Bjx78BfjP428T+A/hP4f+I58VX8moWmv3mrRWN5ozyj97E4lUlot5LAREMQSCScAe9/Ab4Y6j8I/hXbaPf3UOq+JZpbnUtSuY8pDPe3ErzS7TjIQM+0EjOACRninB2hd9l94T1np3f3f1Y9NZtqkn0r88PFPxKuvFng5/iTqvxs8WeGvGmtT3T+DPAfhOQSoYY5JEt0msVRmnL+WSzuVX5sZ4Ar7N+COsfETXvBLXHxQ0DS/Dvib7XMgs9Jn86EwA4jfO98EjORuPQHCklR8xeCvgf8Uf2dbrxX4Y+Hfws8M61/bdzcGw+Ik+rR281jBM2UjuoWUyyeVnpEdp2g4znMO97Ltp/XT1KTXLr3/zNbVfjprXxl8D/CPT28Xt8NbDxJoNzr/inxJaSpazW0NsY4pI4JZAVhLzSffPKgDGc4OD8B/2jE8H+NfiBoOm+MPE/wATPh/pvhm48R6Pr3imNmuJJLU7bmKO5ZFM8eSMNtwCCBxy3S/FL9j240vwn8ILjw74c0n4jXnw8tntJ/DuuzC3h1iORBvcOwKLIJRvAcFTuOc4APW+B/hD4v8Ain4m8S+LPib4dsvA8V94bk8J6X4V0++S9aztJTunkkmQBC7EIFCDAVcHmtJWvLl/vf8AA/QiOiipeX6X/U+c/HvxO1v4f+DdL8eP8bvFOs/Ge8s4tdk8B6URdaNBbMFleGazRCIESFsGV3DcFgCeR7L8XPicPid4ui0vUPiTqHwl+HOl+GrLxBqeraTerY313cXhf7PAk7KSoVYmO1QWYnGDxjj/AAf8Bfiz4S+GOo/BPSfhp4Y8PaXqkZ0/VPibZ6rGTe2jMQ8htdvnmcxEqNzbQx4wOncfGb9nPVPD/wAXvC/xL8H/AA70b4ojTNFj0R/DOr3sdpJD5LZguoJJQYtyglTuGRgFeTkDt02vp9z6fcCv87fqvl3OQ+DH7Umq+H/hb8a2/tXWfGVl4KtI9S8Naz4ntGgu9RtLhH8gy5CtIokQ4kIBZWzgdBxvxA+J17+z7qWj67b/ABv8WfEL4i2s9vc+K/C6ML3RYLVmVbkGGOMJZ7d2FJbdnA2jdke+6D+z34m+JXg34tX3xEW00HxN8RLSOxXTtPm+0x6PbQxMltGZAAJXDOzsVwpJwMDivOfC/wAD/ijqnw/034M3Pwt8NfDzwetxanxB4s0rVo7gaxDC6u3lW4USiSUooLTE4Bb2oX8RX8v+D/we4acum2v6f8Gxt/GzxxB4w+JHja18V/FvWPhJ8O/BkVnbrJ4dv1sr7VL+eH7QxEmxndUjZAIkUliSe1df+xZ8UtU+K3gPxZoniW41DW5fD+rSabDfa5Y/Zrq+sJI1kt5LiIgfM0b85HzLtJySSee+JvwP8T+Bf2jb/wCLfhD4YaL8Vn1e0t4msdQ1KKxu9KuYVEYngkmVo9rIEBwN4K8EAnPrP7PPw38Q+C9L8S694za0PjDxZqravqNvYOXgtB5aRQ26OQC4SONQWxyS2MjBKjbld+343X/BCd7xt/Wn+ZgfA3zPhh8WPGnwjWRn0Czt4PEHhxHcsbWzuHdJbUZ6JFMh2DssgHYV75XgnwnmT4lftB+PfiFZHzPD+n2Vv4T066A+S7khlklu5EPRkWR1jDdCY2weK97oXwq/9dvwD7Tt/Wmv4jqKKKYwooooAzfDX/Iu6V/16Rf+gCtKs3w1/wAi7pX/AF6Rf+gCtKgAooooAKKKKACiiigBKTrXmX7SfxK1X4P/AAR8V+MdFhtLnVdJtllghv0Z4GYyIvzhWViMN2Yc15t4X+MXxi8D/FDwd4X+Lej+DLjT/F8k9tp2peDZrofZ544jLtmjuOSGVSAVwAetStXYHors+lvWuS+Jfwq8JfGDw6dC8ZaDa6/pe8SrDcggxuAQHR1IZGwSMqQcEjoa8b8Y/EP47+IPjP4w8KfDOH4dx6R4dhsWkk8WJfid2uIi/wApgYqQNpHIBGR1r2/wTJ4kh8G6dJ43bSE8SLEW1BtD80WQcE8xmX59u3H3u+aNHG7DVSsjiPhP+yv8KvgjqcmpeC/BtppGpSKU+2vNNdTqp6qskzuyg9wpAPesPxR+w98DvGXiifxDq/w+sptVuJTPNJBc3EEckhOSzRRyLGSTknK8knOcmvSvhz8TvDHxd8Np4h8H6xFrejvNJALqFWUb0Yq6kMAwwfUcggjIIJ6v+dV1uxeSM/Q9D07wzpFppekWNvpmm2kYht7O0iEUUKDgKqgAAD2rQ964P4s+MfFnhPTNPTwb4Mk8Y6zf3P2dUkvEtLWzXaSZriQgkIAOiqSx4GCRWD+yz8WNY+N3wP8AD3jHX7axs9W1B7pZodNV1gXyrmWJdodmblYwTk8kk8dAayu+w+XlSZ61Xmfxc/Zu+G3x2ktZPHXhS11y4tV2Q3RklgnRck7PNidXK5OdpOMk8c16Z2rxT4yfFvxlp3jrSPh38MdG0nVvGl9YyarPdeIZpI9O06zVwgklEQ8xy7kqqrzwSeBUu2iGdj8K/gj4G+CWky6b4I8N2fh+2mYNM0AZ5ZiM48yVyzvjJxuY4ycda7uvnD4d/tUXdvo/xPs/iVZaXp/ij4cwrc6sfDlw1xZ3cDRs6PAH+dWO0qY35BxkjOBy9/8AtKfGD4cweG/GfxG8LeD9J+HmvXttajT7DUZzrWmrOQEkm8wCKXbkbljGQCTxg4q/NK3p+OxPwpv1/A+tjSLk+1eB/ET4ufErXviZqvgT4Q6N4bub/QbW3uta1rxbNcLZQNMC0VuiQDe0hQbyc7QCAeTWV4V/a/ivPgX4q8Ya1osX/CTeGNTbQb3RdKuxPFdaj5iRxJbygHKStImCQSuWBztyV0v/AF2H1S7/APDn0lRXy9Y/Hz4sfDb4heDNL+L+i+C7PRfGd6NO05vDd9M13YXDDMaXCy8SAkhC0XygnJPIB0PFXxo+LPjHxl4r0/4SaH4SOg+Ebj7FqmseMLmeNbu6WMSSwWwh+75YZQXkO3J9BQB9I0Zr5ttP2vD4j+A/hbxd4f8ADo1Dxh4l1IaDYeHmux5Y1AM6yB5gMeSgieQuByoHTORL8Pfjn8Q9B+NGl/DP4uWHhGLV9fsZr7R77wjdTNEfKGXhlin+cNtDMHHynaQMkHDSvLlX9dfyFeyu/wCuh9HcUUda5P4p/ELT/hT8Pde8WamrSWelWr3Bij+/K3RI1/2mYqo92FJuyuUtXY6v+dFed/CO08SaD4Ck1jx7qz3Ou6gW1S/gyBbaaGQEWsIA4jjVQMkks25s/NivAtY/ak+L9t4Fl+MFt4Q8JQfCBD9oi0/UNQmi166s9+1bhCQIFLr86xnLEYAySMj0dhL3ldH2FRWd4e1y18TaFp2r2L+bY39vHdQSY+9G6hlP4gis74heNtP+G/gfXfFWrFl03R7OW8n8sZYqiliqjuTjAHqRRL3U2+gR9+1up0NFfJN/+0p8YPhzD4b8ZfEbwt4P0n4d69e21qNPsNRnOtaatwQEkm8wCKXbkbljGQCTwAcdx8RPi58Ste+JmqeBPhDo3hu5v9BtYLrWta8WzTrZQNMC0VuiQDe0hQbyc7QCAeTR5iPfvxrE/wCEN0RfFx8ULpluviE2h09tRVMStb7g4jY9wGGRnpk4xk58E8NfthC8+BviTxXqmhRSeLfD2rnw5caFpV2JorvUjIkcKQS45jkaRCCQdo3ddvMOj/Hf4q/Dz4meDvD3xf0jwZb6d4yuGstMm8LXs7XFlcBdyR3CTf6wMfl3x/KGxnqAT7X9dUHS/wDWh9OUd6+aPE3xs+LXjLxR4tj+E+g+ET4Z8I3T2Go6r4wu54/t1zGgaaK2EWAgjyFLyHbknoAatRftcDxB8BfCHjPw14f/ALS8U+LL5dG0zw+90NgvwzrIrzAY8pBFIxcAZUDpnIN1f0/HYfW39aH0bQPrXzl8Pfjn8Q9B+NGl/DP4uWPhGLV9esZr7R77wjdTNETEMvDLFP8AOG2hmDj5TtIGSDjmtc/aP+L+uaL4h+IPgfwz4PPwu0Ke5Td4iv54NR1eO3YpLLbso8qJSyOq+ZknbnuBQ7K39eQK7ufWWaBXltxrN98dvgbpviHwLrlx4a1HVbKDVdLusK2yXAkWGdSCGjLDY4HUZwa1Pgf8UB8XPhzp2vy2h03VN0lnqenk5NpewuYp4s9wHRsHuCD3p2abi90K6aUl1PQKKKKBhRRRQAlVr+xh1KzntLlPMt542ikTJG5WBBGR7VZBopNX0YGX4c8N6Z4P0Kx0bRrGDTNKsYlgtrS2QLHEg6AD/Ock1qUtJT33FsLRRRQMKKKKAM3w1/yLulf9ekX/AKAK0qzfDX/Iu6V/16Rf+gCtKgAooooAKKKKACiiigDwX9uld37J3xFGcZsY+R/13jrzDR/hnb/s2/tCeBtY8R674g8f6H4hhk0XTfEPjHU5L670LUHG5YkYkRrHcKCgIQMGXG7DEH7GpeKS92XMhyfNHlf9bf5HyLqf7NXw3+Pv7T3xZn8eeHf7dk0y30ZLRvt1zb+WHt5C4xDImclV65xjjqa+nfCvhXSPh34Q07w/olobLRNKtltrW2DvKY4kGAoLFmbA9SSa3qKW0eVC63Z5n+z7488I/Ej4a2+s+B9Cl8O+H2uriGOwm05bErIsrCRhGvy4ZstkdSTnDAgel+tAo7mqEcD8Yvjh4K+BOgWur+Odb/sPTry4+xwTfZJ7jfKVZwuIkYj5UY5IA46186f8E4/jp4I174QeH/h1Y635/jLTo7+9udN+yzr5cLXsjBvMKCM5E0ZwGJ+bpwa+yfSjA60Rdr36lNvl5UecTfHPQYfjlD8KjZat/wAJDNpZ1ZboWZ+xeUCRtMuc7uP7u3tu3cV83/tdaQ3hX48aP4t8T+J/Evg/4W6xoI0fWdX8L27NKkkM7yxwzSxo0kMUglIygy20qeuR9r45oxzzU22fVf8AB/RhfddH/wAD9Ufn/wCD/gno/wASvBHxtv8A4SeGZNB8Gap4Zt9B8NtPBJA+szwmSeS4/fASMGd0jEjnJwc/dwOBuNN8C/G3wvF4Zjk8U/Eb9oHXGtbHUH8TadPF/wAIxGZY2unWMosFtEiq4Hl7mywAOCRX6fUe9VG0Zc39f1qLW39eX+R8BfHbRtB8B/tFeMX+LninxP4c+EvimGzvoI9Et5hZ6rcxQLbyWt3Nbo0wwEBEYIDBs5BHMUfwc1rU/wBmn4n+I/h54XuPCiaj4ks9f8MaHHYhbj7HY+QElFu45kk8qSUIwJckZyW5/QKipV0rdf8Agpr7rDdm12/4Fj85vC2g/DP4weNfBFn4Am8SfEP4hL4gsdW8UeMPFFrcfaNKtrV/OeFnlRY4SzDy1jiBBGQSQASvizSfBnw5+MHxB0H47a/4og8Iahr02veH/DdjaT/2VrZuCJG8x7ZC00quAvlyMqrtB5DED9FzzSin108/xt/kifX+rf8ADn55a58JfFnhD9nPwh4t0fTtU8EvbeNLvxNdado2npLf6Lpd35sP7u3IIEkcDoSoGUyTwU42vgZ4U+Gnj747eBdW+Edvq3iOx8Ote6p4n8f65Fcm5v7mS3NvDbtNcIrO5Ll2VVCgLkck195n6UU07N/10sJq6/rq7/qLivDP20tPuLv9nnX7qCJ7hNLubHVbmGMZL29teQzTDHcCNGJ9ga9zqvd2sV9bS280aywSqUeN1BV1PBBB6gjtU67rcrTZ7GLrMMHjrwLexafcpJbavp7rBcryrLLGQrj1GGBr809Dt/B8Pw5bwd8QY/Ffjz476bp8mg6F4D1PT5zZadIFMEEtvGiC3aMLtczuxJC7hg4J/RT4S/C+H4Q+HZ/D1hq15f6HHdSS6Za3hDHTrdgCLVH6tGrb9u7kKwXJCg13Ax9KOVczfR/1+oJtJd0eTf29Yfsv/s26Zd+IIr2/svCOiWltdJpkPnTP5caREoCQCM85JAAySQBVb4zafP8AH79lrxFF4ZhnFz4k0A3Gn295H5UrMyCSON1P3WJwpB4BPXvXsf60fyoqXqc1+oU/3fLbofmDcab4E+NvheLwzHJ4p+I37QOuNa2OoP4m06eL/hGIzLG106xlFgtokVXA8vc2WABwSK9B+O2jaD4D/aJ8Yv8AFzxT4m8OfCbxTDZX0EeiW8ws9UuYoFt5LW7mt0aYYCAiMEBg2cgjn7920Cm+gLS6Pz3k+D+t3n7OfxC8WfDzwzd+EorrxXY+I/DWiwWAF0tlYiFEnW2ccyP5ckwRsl+M5Lc1PBvh/wCGPxc+IngGD4cyeIfH/jO28Q2ut+KvG3ia2uPtNhBalpPs7ySoqRs8m1FjiGMKc5wDX6J0Y5pr3Xf0/BJfohW0t6/ifnH4g03wV8O/ip488O/HnXPFX/COzeILnWvDXhWzs7j+ytaW4fzgxNshaeVZDt2SMFUgDkEgaviL4S+MPBn7MvgLxJpllqfg6407xbdeI76x0SxSa90XTb1p0YRQEYDxQyrlQMpyRjbX6D+tHapStFLrp+FhvWV/X8f+HPgv4G+Ffhp4/wDjp4G1b4R2+reIrDw815qnifx9rkVybm+uZLY28Nu01wis7kuXZVUKAuQMk15t4XsfA3w2s7zwV8aZvFfi7xl4cubmDwt8PX02dtMvV3u1vNbxwoY52k3kl5m43EFeAT+nvWgU3r6f19wdP6/HueXfs0+BL74W/AHwT4a1dFg1LT9NX7XGpBWKViZHTI4wpYj8K5r9kbGoeFPGniG3QDSfEHi/VdT051OVltzN5ayj2cxMw7EMCOtelfE7wPL8SPBt74dTWrzQre+KxXdxYACZ7csPNiVj9wumV3Dld2RW5oOhWHhjRLDSNLtYrHTbGFLa2tYVwkUagKqgegAApt805Te7/wCHIUeWMYdv8rGlRRRQWFFFFABRRRQAUUUUAFFFFABRRRQBm+Gv+Rd0r/r0i/8AQBWlWb4a/wCRd0r/AK9Iv/QBWlQAUUUUAFFFFABRRRQBy3xK8faf8LPAeveLdVhubjTdGtHvLiKzVWmZFGSEDMoJ+pH1rzD4b/tWJ8SPFel6LH8JPin4fjv87NX17w2LawiAQuGkmErYBxgHByWA71p/tjZ/4Zb+KH/YCuf/AECsD4K/Cz4w6DqPh3VfEnxy/wCEq8NR2waXw9/wiNnZ+arQkIv2iNy42sVbIHO3B4JqYO82n0t+oS+FW8/0/wAzO8dftvaX8P8AxLLo2p/Cb4qyP/aDaZaXlv4cU22oTgsFFs7TDzdwRmUAZIGQK9g+FfxK/wCFp+F/7bHhfxJ4Q/fvB/Z3irT/ALFefKB8/l7m+U54OecGvNP2rM/258Esf9D9Y/8Aoi4r3mSMTQsjEgMuDtJB6diOlEX7rfbT8EEvjSXa/wCLX6EvrR3rzX9n3wD4Q+G/w1ttG8D67N4j0Bbu4lS/m1Fb4tI0rGRfMX5flbcMAcEHOWJJ9KqhHFfFL4weFfg3otvqXinUTZJdzC1s7aGGSe5u5j0ihijBZ2PoBgZ5x1pvwZ+LWkfHH4daX4z0K2vrTS9RaZYYdSjWOdfLmeJtyqzAfNGSOTxjODwOsurK3uXhmmt4pZrcs8MkiBmjYqVJUnoSCRx2JFfP3/BPn/k0/wAH/wDXbUf/AEvuKIq6k30sXb3b/wBdT6MrzT4xfHzw98F10yDUbLWNf1zVWddO8P8Ahyxa91G72AGRkiBHyqCCSSBXbN4q0VfEa+Hjq9iNfa3N2ulG5QXRhB2mURZ3FM8bsYzxXyp8Z9Y8b6R+2hpVl4Ls9DTXNd8HfYtO1bxJOy21mEu3e5MUSjdNKVMRCAjoCcqDidW0l1/y/wCALo32/wCAe6fC39oLwp8VvDetatZm+0KTQ3aPWdM8QWpsrzTGClyJ42J2jaCcgkYB5yCBw3hn9tzwL4j8SaVp7aN4t0fRtZuFs9I8Vavoklto+pTMSI1hnJySxBxuVQa+bvEfgjX9HH7UkUfi+++IOqf8IdZprurNDHCj3w85ngijjG1FS3AGwEldxBPIAk+N9n48+Jn7Omk+Jtd8WaV4Y0S+fTYfB3gXwmUuPtNy80QthPdMMyugyTHEoUbM9VIpx96aXp+On6aCaaX3/kn+up9afFr9pbw78J/EFr4e/sTxL4y8TT2/206H4R0pr+7it923zpFBUIhYEAk5JHANavhf9oPwP4q+Fd38Q7fVjaeGrFJTfy30TQy2TxHEkUsZG5ZFPG3BJyMZyM/Ocl18Srn9rT4ueE/BU+g+HNU1WDSr2bxPrR+0XEFitqIwLS0wBKRL5pJY7ATggEgnyrUtLuPB/wCz98cb+x1C7+IHh+y+IOm3k97fSon9qtFJaNeszKuwIZgVJAIAXnOCSR1W+/8Aml+APdf10v8A8MfWnw9/bA8J+PvGWm+HJtA8XeEbrVwzaNc+KNFexttWCruP2aQk7vl+YbtpIIxycVY+Jv7WHhf4beLrrw1B4e8WeNNW0+NJtUi8I6O1+ulxuNyNcsGUJlctgEnAyRyM/P8A8WvD/wARPE3iT4PeIPG/jjTn1u+8YabP4f8ABfhNQbGCFXLz3DzNmS4KwZywwi5OMh8VP8N/+FneIPiN8a/CHhvWtE+Htnb+LLvUda8T3e261U28qqYBBbsAkaCFFHmyEgbiV5Bo8l0v+Fv8xefe343/AMj6b1D9onwHp/whtviYdaE/hS8jRrWeCJnluJHbasKRAbjKW+XZjIIOcAEjJ+E37T/hz4reKJ/DDaF4o8F+Jo7c3kWj+L9KawuLm3BCmWIEsGUEgHnPfGATXxnpMupfD34H/C/WNDiXxXodt8UdQbRptevFggnjf7TDaXM823aFMpaTcAASeCCRXq//AAhvja1/a0+Dmo+NPHcPiXxtIup3Vzomh2wg03R9ONqynYDmRg0zIokkILYAxlc1UbOXl/wExO6Xn/wbfjbQ+1+vBqhrutWPhvRb7VtTuY7PTrGB7m5uJThYo0UszE+gAJ/Cr9eD/ttSOv7O+uRkstjcXunW9+ynGLV76BZsnsChYH2JqHfRLqUrbs7z4O+ONZ+JHhIeJtU0ddD0/UZTPpFq7Mbg2JA8qS4BGFkfl9oyFVlBOQa8y1T9ub4f6Zrc8Z0rxXc+Fra7NjceOLfRJJNBhmD+Wytcg8gPhSwUrkjBxzXtPjC0uJPAus22lqRdHT5o7VYv75jYIB+OK/Pvw/8A8Jf48/Yj+1614p0n4d/CnRfD0lk2k6IUuNT1e4iRkMdxM4CwGWYA+Uilz5hVjk5pOWsu0bfr/kOKulfdn6QQzJcRJJGwkjcBlZTkEdiD3FQ6lqFtpGn3N9ezx2tpbRtNPPKwVI0UZZmJ4AABJPtXB/Ci/wD+EH+Afg248XX8GlPp2gWQ1K81GVYY4XWBA5kdiAuDnJOOa5z9rSSTXv2VfiJNosgvluNBmmie0cOssJXcxUjIIKbuR1B4p1X7NSt0FR/ect+ph+G/23PAviTxJpWnto/i3R9G1m4Wz0nxVq+iSW2j6lMxIjSGcnJLYONyqDXT/Fr9pbw78JvEFr4e/sTxL4z8TT2/206H4R0ptQu4bfdt86RQVCoWBGSckjgGvkv43Wfjz4mfs56V4m13xZpXhjRL59Ni8HeBfCZS4+1XLTRC2E90wzK6DJMcShRsz1Uiu+a6+JVx+1p8XPCfgqfQfDmqarBpV7N4n1o/aLiCxW1EYFpaYAlIl80ksdgJIIBIJpprT1/CwR118v1Pojw9+0T4E8RfCe8+I8ermy8M2CyfbpL2FoprOSM4khliI3CQNgbQCSSMZyM8z8Of2uvCvxC8ZWPhifw/4t8HalqaPJpDeLNGaxi1VUG5jbOWIbC4bB2nBHGeK+QtU0+68EfBH4uapY3918QPD2n/ABM0y9uL3Up0iXVHia2N2zyBdixmfCbgCqhec7ST6N8TvDnxD1r4hfBXXfG/jnT7nxHfeLrKfRvB/heNfsFpaIGe5naVgZZyIRgvwqlyBw1EfeafR2X3pO/4/gLo11V/wZ7x8Sv2uPCvw58WX/h2Hw/4t8ZajpaLJq58J6O19HpSsu5TcuGUJlfmwCSByRXU6t+0F4F0f4S2vxJk1oT+FLyON7S4t4nkluWc7UijjA3GQt8uzGQQc4wcfLnwt/4WX4k8WfGTwn4f17RPhxpNj4v1C91/xLclbrV5I5WDRGGFsJDH5IUCWQnAGV+6ccDpM2p/D39nv4M6totsviTR7X4j37aO2vXYtoJY5Hu4rO4nl24Vd7eZkAAk8YyCJV2l52/H+tBvST8r/h/wx9j/AAn/AGnvDnxW8U3HhhtC8UeCvE0dubyLR/F+lNYXFzbghTNECWDKCQOuepxgE1z/AIy/bW8EeDvEuracNF8W69peiztbaz4k0PRJLrStLlXG9Z5wRgpkbtobHTrxXlP/AAhvja1/az+Dmo+NPHcPiXxtImp3VzomiWwg03R9ONoynaDmRw0zIokkILEAYytcR8E4fHnjL9nzWdH1LxVpPwu+HvhybUrfxLe2bJc61fzedK1yJC4CWqtvOCQznAxwRRLRX62f5/18xr/L8f6+4+1vHHjXVrX4anxV4G0+18WOIor+K0WYr9ttTh3ELAEGRoydmeCxANbPgTxvpPxI8H6R4n0K4+1aTqlutzbyEYbaR91h2YHIIPQgivOP2ObG/wBN/Zd+G9vqIkW5GkRMqzDDiJstECPURlB+FZ37I8K2mgfEKytT/wASm08caxDYKBhUi87cyp/siVpR+FaSXLOUO36MyjJuEZd/8v8AgHvVFJS1JoFFFFABRRRQAUUUUAFFFFABRRRQBm+Gv+Rd0r/r0i/9AFaVZvhr/kXdK/69Iv8A0AVpUAFFFFABRRRQAUUUUAYfjLwfpPj/AMK6n4c160+36NqcDWt3bea8fmRsMMu5CGGR3BBryb4e/sS/Bf4V+MNP8UeF/Bn9ma7p7M1td/2pezbCyMjHZJMynKsRyD1z1r3PNYug+NPD/iq61O10XXdN1e60yb7Nfw2N3HO9pKCQY5VUko2QeGweDSWjutweqsyDxZ4D0PxtNok2s2P2yTRdQj1SwbzZE8m5RWVX+VhuwHYYbKnPI4rdkhSeNkdQyMNrKehGORUjMFBzXP8AgXx1ofxL8KWPiTw3fHUdFvgzW9z5MkW/a7I3yuqsMMpHIHSjdWDzKvw3+GPhj4Q+GU8PeD9Hi0TR0mknFrC7MN8jFnYliWJz6ngAAYAAHWUUUwOA+L3wP8E/HjQ7PR/HOif25ptnci7gg+1z2+2UKybsxOpPyuwwTjmuc+E/7JPwo+B3iaTxB4I8K/2Jq8lu1o1x/aN3PmJmViu2WVl6opzjPHXrXsNFJe7quob6M4yT4P8Ag+X4nR/ERtDgPjOOzOnrq29w4hOcrtzszgkbtu7HGccVB8Vvgn4I+OGiQ6T448PW3iCyhcywiZnjkiY8EpJGVdMjAO1hnHNdFJ4s0SHxFB4fk1jT016eFriLS2uUFy8S8M6xZ3FRxkgYFa470rK1ugdbnI/Dv4U+EfhP4VXw34R0G10TRQSzWsKlvMYgAtIzEtIxAAyxJwAM8Vxng79kX4P+APHB8YaD4E07TvEG8yJcq0jpCx6tFEzmOI8nlFXGTXsPY81zWm/ErwjrHiW48O2HirRb7xDbZ8/SbbUYZLuLHXfEGLLjvkVX2r9RdLdDmvi5+zj8N/js1k/jnwrba5NZgrBcGWWCZFJyV8yJ1YrnnaSRnnFdNovw78MeH/BaeEdP0GwtfDC27Wv9krApt2ibO9WQjDBsnOc5ySck1P4s8eeGfAdjHeeJ/EWleHbSR/LSfVr6K1jZv7oaRgCfbNadjqVrqdjFe2dzDd2kyCSK4hkDxupGQysDggjuKnSzXQfVM8x+GH7K/wAKfg34juNe8H+DLPR9YnVlN35ss7orfeEfmO3lg9CE2jHHTil+KH7LPwr+NOv22teMvB1nrOq26hFu/NlgkdR0WQxOvmAej5HJFdl4b+JXhHxlqF5p/h/xTouuX9n/AMfVrpuoQ3EsHOPnVGJXnjkCneKviR4T8Cy2kfiTxRo3h6S8bbbpquoRWxmbphA7DcfYU+34B3Gax8M/CuveB28HX/h/T7nwqYFthpLQKLdY1xtVUAwu3AIxgggEYIrnPhH+zn8OPgT9tPgbwra6FLe4FxcCSWeZ1ByFMkrs4XPO0HGecV6BNqFrbWLXktxFFaKhlad3AjVAMli2cAY5z0xWR4T+IHhfx9DPP4Y8SaR4jgt28uaTSb6K6WNvRjGxAPB4PpR1b6i0sl0OhrB8ceDtM+IXg/WPDWswfadK1W1ktLmPOCUdSDg9iM5B7EA1W1j4meEfDuv2uhap4q0XTNcu8fZtNvNRhiuZ8nA2RswZs+wNdP8AjSspKxSdmeefBPSfGXhvwWug+NZba/vtImNjaavbPzqVoqr5U8iEfu5Sp2uuSNyEg4Irnrj9kH4O3nxE/wCE4n8Baa/iQz/aTcEyeU02d3mGDf5JfdzuKZzznNex5rlfF/xH0bwXq3h7Sr55ptW167+yafY2kRlmkIwZJCo6RRqdzueFGM8kAv7SfUm2luhY8eeAdA+J/hPUfDHijTY9X0O/QJcWcjMocBgwIZSGUggEEEEEZBq9oPhnTPDHh2w0HS7OOz0ixtltLazXlEiVQqpznIAAHNJ4l8VaJ4N0mTVPEGr2Oh6ZFgSXmpXKW8K56ZdyAPzp/h/xFpXirSoNT0TU7PWNNuATFeWE6zwyAHGVdSVI+ho7ofY8w8H/ALInwf8AAPjg+L9A8Cadp3iDeZEuVaR0hY9WiiZzHEeTyirjJ9a1/i5+zj8OPjs1k/jnwra67NZgrBcGWWCZFJyV8yJ1YrnnaTjPOK9MrA8W+PPDPgOxjvPE/iHSvDtpI/lpPq19Faxs390NIwBPtmjyYdblbS/hr4W0TwOPB1joGn2/hYW7Wp0lYFNu0TZ3qyEYbdkk5zkkk8nNcf8AC39lv4V/BXXrrWvBng6z0fVblSj3fmyzyKpOSqGV28tT6JgcAV6ZZalaalYxXtpcw3VlMgkiuIXDxuhGQwYHBBHORWL4Y+JPhLxteXlp4e8UaLr13ZnFzBpmoRXDwHOPnVGJXnjnFPW9+otLW6HFfE39lX4UfGLxJb6/4w8GWWr6zCFUXfmywtIq/dEnluokA6AOGGOOldrrnw58MeJPBb+EdS0Gxu/DDwLa/wBkvAv2dY1xtVUAwu3A2kY2kAjBAo8UfEjwl4HubS38R+KNG8Pz3hxbRapqEVs0xzjCB2BY59M1t3F9bWdnJdz3EcNrGhkeaRwqKoGSxY8AY5zS05bdB638zz/4R/s5/Dj4E/bT4F8K2uhS3oAuLgSSzzOoOQpkldnC552g4zzjNY/i79kX4PePPHI8Ya94D07UfEG8SSXLtIqTMMYaWJXEcp4HLq2cc16D4S+IPhfx9BPP4Y8R6T4jggby5pNJvorpY27BjGxAPB4PpUOsfEzwh4d1600LVPFWiaZrd3j7Npt5qEMVzNk4GyJmDNn2Bp63XcNLMr/EpfFUfgi8tvAtvZ/8JDMFtrWa9k2QWgYhTOQAdwjUl9g+9tA4zS/Cv4c2Hwn8BaR4X02SW5hsYz5l1cHMtzMzF5ZnPdndnc+7Gt7Wte03w3pc+patqFrpenW675ru8mWGKNfVnYgAfU1W8L+LtC8baWup+Hda0/XtNZii3mmXaXMJYdQHQkEj60l17i7GxR/FXKeEPiVovjXWPEOkWEk0OraBefY9QsbyIwzRkjMcgU/eikX5kccMM9wQOszQPyFooopgFFFFABRRRQAUUUUAFFFFAGb4a/5F3Sv+vSL/ANAFaVZvhr/kXdK/69Iv/QBWlQAUUUUAFFFFABRRRQBxfxi+Idt8Kfhd4o8XXRHlaRYS3SqxxvcL+7T6s5VR7mvlL4B+KvB/w4+MHw107Q/Gnh/xJd+MPDkmm+IF0jVILl/7XiZrxZ5BG5OXM92uT1O0ZzjP078aPhLF8ZtB0jQr6/S20OHVrXUNTsZLUTrqUEL+Z9mbLAKrOEJJDZCkY5yOR8d/sj+BNb0/TpPCHh7w74A8SabqVrqdlrmkaDAksTQyq5QiPy2ZHUMhG4D5s84xUx0ld9/w7/j+AS+Gy/rt+X4nKX2rfFz48eNvG0Hgb4gWPwy8NeFdVOirJ/YMWqXWo3CRI8zP5zBY4wZAq7QScEk9K5j4H+MLrwF+wH4W1SHxfovgu5jSWM69rsBmggBvZQ5WFSPMkK7tqA4LYyMZFd/4k/Zb1y78eeItT8M/FPW/BvhXxROt3r3h7TbOBnuJ/LWN5Le6fL2xdUXcVBJIJBHGIL39j63m+AHhT4c2niu406/8K6kNV0jXY7FJBFcLNLJGXt5GZZFUSkEM3JAPHSjanbvb/g/1cf2tfP8A4H/BPOP2Vv2nNS8cfGv/AIQkfFmz+MekXWkT6idUHhh9Dn0+aKSNREUKqsiMrk5AJBHJHf6V8XaT4/vPiN4OvPD2u6Zp/g21Nx/b+nXVsXuLwFAIRE+Dtw2SfmX1O4fLXAfDv9nHxP4d+Kmk+P8Axh8UtQ8ea3Z6ZdaW8dxpUFlb7JXiYGKOEgRkeWd2dxbI5Xbz6B4u+H2t+I/iN4O8R2PjXU9D0rQ2uDe6DaqDb6r5iBUEpzxsPIyG9tp5q/5f67mevvf12O9pjLuUj1GPen0VJZ8gaL8HPC3wd/bI+Hdt4cs5Un1DQNZub/ULy4e4u72bfb/PNK5LORk4HAGTgDNfXtfJ+ufsn/GPWfiJZeM/+GifJ1rT4bi10+b/AIQizb7NbzMC8ePNCtnYg3MueOMZr3Xx94D1/wAafCW88K2vjS+8P+Ibmzjtz4o02ERzrKu3dKqKw27iDwrKQGIDDg0lf2aXVf5ti/5eN9/8kjD/AGrPFGo+C/2c/iFrOkXD2mo2ukTGC5jJDwsw271x0K7iQfUCvh74jWOk2/wh0jxR8HvhFD4f0bwXNZajF8SdXhGnX2qSLLGoW3Tb59wJi+C0uFIJAGQtfoVH8PYNR+F6eC/E15N4nt5tLGl6heXnyy3wMflySNg8M3JODkE5znmvFND/AGQ9fa60TSPFvxc1rxj8O9CuIbnTvCt1ptvAxMJBgW5uk+e4RSAdrAAlVz0pxXLUv00/C/8ASG3eFrd/xseV+PvFXh3xB+1J8RLLXvhvd/GHxbp9vp+m+HPC7WKz2dnbvbrNNPNJMDDAGlkAMjAsNoAGK4iy1jXPhj+zX8YvCHiFofCulWXjSysLmLRJ5biHStPvnt5bm2gfBYhEldSFB5dgAeM/WfxQ/Z31zxB8QJvHHw9+It78NPFF7ax2OqTRabBqNtfwxk+WXgmIUSKCQHByAcY9bGlfss+GIPgzrvw+1S91DWh4gmkvtX1y4kC3t1euyv8AaQwGFdWRCoAIURqMHnMx+Hb/AIOqf4/qN6yX9dLfgfKmvW6af42+E/jb4cfBu2+FvhXTfE1hpcWt30S2Gqa5Dcv5Dx/ZUG5oyh3b5iWYEEY+YG7a63oXxC+Knxbt5vhM3xn+JU3iG50mCDVLVRpui6dBiKDfdTKUg3YkfEYLsSehwa+hPB37MPiWPxhoOs/Eb4q6n8SbPw5MbnQ9LuNLgsYrefaUWaYxkm4kVSdrNggknuad40/Zn8SyeOdb8R/Dj4qal8Nl8ROsuuafDpcGoQ3UqoE82ISkeRKVABdc5wD2q9Nnrv8Ajb/J7dydfy/C/wDWp8q23ig+Hf2bvh94K+Ik00vhaw8f3ug6rb6V592L62tBNJFZx4G+SMzKkYBwcIASBnHceB7fVNB/ap+GHibRPhPZfB7wt4jj1DRv7JUR29/qcK2zXCz3NpCAkOxkXgkuDnJIIx9D6p+yn4ZuPgxovgDTtR1LSH0S5TUtN8QQyhr+DUFdpDdsxGHdmdy2RghyBjghnwv/AGetc8P+O4fGnxC+Il78TPE9jayWOlzzaZBp1tYRSEGQpBESDI2ADITkqMYoW7v9/wAkhPbb/ga3X3fofHfgS30j46/C3XbXRvhJH8RPiP4iuL648Q+NvEcH2ay0aV5HCLHdupkLRJ5QEUAGAM56ivtT9kbxJqXiz9mv4eapq8r3GoS6VGks0jFml2ExiQk9SyqGz3zmuF1j9kLxBHea5pfhL4u614P+HmvXM1zqPha1063mcNMxM6210/z26sSThQcFj619BeFPDGm+CvDWl6Do9stnpem20dpawLyEjRQqj34A5PWiPwNW7fhf8Bz1qc3TX8bGue9eCfCPHjX9o74u+Jr8ebPoMtp4Y0sN/wAu1uLdLmYr7ySzAk9cRqOgr3wivArq2vPgz+0Zea0LG6u/BvxENrbXVxawmT+ztWiTyomkCgkRTR7E34wrxrkgMDSXxf1v/WgS+H+tjyz9pXxZ4ab9qbRNF8Z+F9Q+IVpp/hr7ZoPg2x043q3t/PcPHJLJGR5eEjiA3SHChiQMirf7IGn+IvBfx4+J/h/UvCmm+AtM1Sw0/wAQQ+FdHuhcQaW8hlhKkqAiyOIgzCMbcBcdMD2X40fAW8+IviHRvFvhTxjefD7x1pMElnb63a2kd4kltIQWhmt5MLIu4BhkjB55q/8ABX4Jn4Vtrmq6t4ivPGfjPX5o5tX8Q30KQNP5a7Io44k+WKJQThBnBYnPIwqfurXz/F/8N9wVPe28vwt/XzPUM18KfELxR4c1z9qj4jWOu/Di7+MXi3ToLDTfDnhdrFJ7Ozt2t1mmnmkmBhgDyyAGRgWG0ADFfUnhD4Z6/wCG/it4w8V33j3Vtc0bW0hWz8NXSj7LphQYYxncRzjsq9Tu3HBHK/FD9nbXPEHxAl8cfDz4iXvwz8UX1rHY6pNDpsGo21/DGT5ZeCYhRIoJAcHIBxj1nW6f9ItW1R8iwaxq/wANf2d/ij4K8U+T4Y0C38eWOn30Ghzy3EOmademCe6tYXALEKjspCgkmRgByM72pwtpnxP+EPjfwD8G7b4VeFYPEtpokWoXUaWGqa3DdZidWtIxkxhAz7piWOARj5q+oLH9lXw0vwX1r4f6lqGpaq+uXL6lqfiCaQLf3F+zq4uwwGFdWRNoAwAig55zmeCf2Z/EsPjXRPEPxH+KepfEpfDsjzaHp8+lwafBayshQTSiInz5VUkK7YwST1Nax0lr0t+STXfv95n9l+d/xf3HzppuqaF8SPiB8VrY/CU/Gb4mXniS900yataqum6HYQN5Nuj3cwKwnaGcCIF2JPIOKxovFv8AYv7L/wAK/CPxFuZ7nwxbeN73QdXi0xZrk6hb2T3BhtYwBvkjaWOKMDAyFXJABI+oPF37MPiX/hNde1z4c/FbU/hvaeJJhc65pcGlwX0VxNtCNNA0hBt5GUDLLkkgHtitrWv2WfDN78GdC+H2l32oaH/YE8d/pOuW0gN7bXyMz/aixGGdmdywIw29gMcYzV+VfL8Ovb/hy3Zyfz/E+dvBFvqmg/tUfDDxNonwnsvg94V8Rx6how0lRHb3+pwrbNcLPc2kICQ7GRcAkuDnJIIx5/4Dt9I+Ovwt1y10b4SR/EP4j+Iri+uPEPjbxHB9mstGleRwix3bqZC0SeUBFABgDOeor7E+F/7PWu+H/HUPjX4hfES9+JniextZLHS55tMg062sIZCDIUgiJBkYAAyE5KjGK5XV/wBkHxBHea5pfhL4u614P+HuvXE1zqPha1023mcGZiZ1trp/nt1YknCg4LH1pyV9PL9Qjpd9dDwC6+KGneIvCf7Ntv8AE3TdT8YaRJ4evL9fDtjZPfy67qULRwWwaIDEnyGST5yFJJJJzg+g/s26fr/hH9rTVIJPAOmfC3QfFPhZtSTwnplyrmFre5jijuJkjAijkdZW+WMYA4PzAk+4fET9mnT/ABF4b8G2vhDW7rwBr3gtPK8Pazp8STm1jMYjeKSJ/lmjZQNysRkqDnrm18G/gTefD3X9X8WeK/GF58QfHWqQR2c+uXdpHaJFbRklIILeP5Yk3EswBO5uTWia53L1+d72+79DOz5FH0/CxhfFy3/4Q/8AaL+EXirTz5Nxrk934X1RVx/pVu1tJcw7veOSAkHsJGHeveq8Kgtrv4x/tC2WsfZJ7fwd8PTcwWtxcRtH/aGrSoYpWjBA3RQRl034wXkYDOwmvdeKhfCv6/ruW/iHUUUUwCiiigAooooAKKKKACiiigDN8Nf8i7pX/XpF/wCgCtKs3w1/yLulf9ekX/oArSoAKKKKACiiigAooooAb70CvJf2m/ihq/wr+GL3nhyGCbxPql9a6LpH2rmJLq5kEaO47hQS2O+3FeF6WPDvwp+OXhvw74m/aS8faj8True1M+hXiSS6RfGVhmNbdbcxQq/IBEgKZBzUrV287fMHovxPs8UelfnX8WfiX4J0749fFS28e/Hn4leANQ0/UbddH0Tw1qN0LMxGygfPlrDJGCZC+QWUHOTjJNfY37OuteJdZ+BPg/U/Fl1FqviG405Zri5tZIpBPkko26MmMsU25Knbuzg4prWHP6fiK+vL6/gene9HNcL8G/iBrPxM8Dw65r3g3UvAmoPcTQnR9VbMyqjlVkzhThgAeQPbIwx7ruKYCEdBQOK4P4teF/Gfi3S9PsPCPi+PwWjXGdS1BLFLm6NvtOUt952I5OBuYHAJIGRg+ffsL+ItX8V/sx+E9S13Vr7XNUlkvllvtSuGnnl23s6LudiScKoA9AABwKI6pvsU07XPfsUnpRXzB+0V4vudf+KMXge8+Id38K/BGl6Ede13X9NvI7O8maSYw29vFcOD5XKOxKgluFA5qW9Uu/8Aw4dLn0/60V8IfCH9qS/8I+DfjRBaa7rvjzQ/Cukxa34U1zxVbPFd30EgeMCR2VGmjEyYEhALDd0xgcx8QPibe/s+6jo+u23xv8WfEH4i2s9vc+K/C8bC90WC1Z1W5BhjjCWe3dhSW3ZwNo3cUtZKK62/H/LqTqk2z9Fh37UCvjv42eOIPGHxI8a2viv4t6x8JPh34Mis7dZPDt+tlfapfzw/aGIk2M7qkbIBEiksST2rA+HX7TXjOT9nPxpDDf3uo+LdJ8R2/hnRNY8QWP2e5lhvJIltLq4iI++qTbuR8wVSc7jlK7vb+r6fiN6W8/8AK59x/WivgCH4pQfBX43eDbDwv8ZvF/xcN/rEGkeL7XU5RqGl2f2hvLSSOZUCWziU8RKzEgEEjGDt/Ezx9a+N9e8ceIvGfxo8R/C/w9oOty+HvDmh+ErsQXV9cQBFllkjVGkud0r7QgAVQvJAJNHS6/q1v80Hr/W/+R9yc0V8ReGf2ivHPxA/Z88DaU2syeG/G2t+I7jwvqniK8tFt5rKG2WWWe4MTDbHMYYgCDwrMx4xxW+C3xetPB/7S2geC/CXxO8W/FnwRr0d1Z3upeJJDfQWmoxRGZRbXuxVcFFIKLlQGByc/K0ry5f62uTe0b/1vY+5sCkYgZ7Up7V5t+0T8R7v4VfB/wAQ+INNjWbWY447XTo3GVa7nkWGHI7gSSKSO4BpF7nf2+oW15LcxQXUU0lvJ5U6ROGMTlQ21gD8p2spwecMD3q0e9eceAfBen/Af4Vywqz391awS6jquoycz6jdbS808jd2Yg9c4AUDgCvibxl8TtZ0v4faX8R7j43eKW+MOs2S67pnw/0BhdaXDbMBMkE1iiHCCE/NNIwPBYbiOU2k7dhRvJep+kNFc38N/F0fxA+H/hrxNEnlR6xptvqCx8/KJYlkx+G7H4VjfHb4hTfCf4O+L/F1tAtzd6Tp0tzbwyZ2vKBiMNjnG4jPtmifuXv0CHv2t1O8zR9a/On4g/Ey9/Z+1LR9et/jd4s+IXxFtZ7e58V+GEYXuiwWrOq3IMMcYSz27gFJbdnA2jdkepfGzxvB4w+JHja18V/FvWPhH8OvBkVnbrJ4dvlsr7VL+eH7QxEmxndUjZAIkUliSe1Ppf8ArT/hwWrsfYlGTXwv8Pv2mPGt1+z34o0631K9uvF9n4qtfCmia94gsPIuWgvHiFrd3EJGDIscpbkYbahOcnObpPxUtfg78efBek+FPjF4w+LdnqmrRaN4qh1iX+0dNs5Lj5IWhuFQJA/m9IlZsgMCRtwaS9639a2f6oV9L/1offVIB+dfC3xI8fQeNdU8ZeJ/Gfxp8TfDPStL1y50Hwt4d8I3Yiub2S2IjeaSFUaS6LzEgJgKoABIzka2g/tD+OfiF+zp8OrP+1m8MeNvEeuz+G9W165tkhlsI7UTPc3HlsAqSmKAZBACs7YxgYj7N15fj/Wo3o7Pz/A+1PajPpXwx8F/i9aeDf2ldB8F+Evid4t+LHgjXkurO91LxJIb6G01GKIzILa92KrgopBRcqAwOTn5eW8VfEq78WeD5PiTqvxs8WeGfGmtz3T+DPAfhOQSoYY5JEt0msVRmnL+WSzyFV+bGeAKb91KXQErux+g17qFtp0cbXVxDapJIsKNNIEDOxAVQSeWJIAHUkgCrXevF/AM2n/tVfsyeH7rxTZqy+IdLjkuhECjQXS/KZYj1RllUspByCBVz9mPxxq/jD4by2XiOf7X4l8N6ldeHtSvOn2ma2kKCb6umxz7saq3LJwe6JUuaKkup67S0UUigooooAKKKKACiiigAooooAKKKKAM3w1/yLulf9ekX/oArSrN8Nf8i7pX/XpF/wCgCtKgAooooAKKKKACiiigDyz9ov4SXXxn+Gdxoul6gmkeILW6t9T0m/lXdHBeQSCSIsAD8pIKnAyAxODjFeN61Y/Hb4xeKPh7pXiz4XaX4YsPDPiSz1u98R23iSG5guhArqwhtgnmru35AY8YAJ5yPrWgUo+67+d/mD1VvKx8pyv8Zvhv8XPih/wjnwbg8aeHvFOqQXtvq914ntLKJFFlBAweBg8jKGjbPAJHQHqfW/2d/hjqfwd+EOm+HNRls7jVY5Lm7misNyWkMk00kxhhBGREhfaMjoM47V6jS9KPs8vy+4VtbnC/BrVvHut+B4br4k6Hpvh3xQbiZZLHSrjzoRCHIibdubkrgn5j64UkqO7oopjPP/jB4t8b+D9BtLnwN4A/4WHqUtx5U+n/ANtQaZ5MW1iZfMlBDfMFXaOfmz0FeL/sR6X8V/hv4N0v4e+N/hd/wjWkabDdzr4i/wCEgtLvz5ZLlpRF9niLMvErDduI+ToMgD6mo70RfLfzG23HlPOZta+Ja/HKDS4/Dukn4XHSzLJrZuv9NF7uOIxHu+7jH8BHffn5a8i/aU+Aer6x8YPC3xX8PeBdG+J15pVi+m3XhbWrtLYOPMLw3EMkgMYkRmfO8Hg5AyAR9R0c9qm23df1+thd/P8Ar/gnzBpPwB8V/F3Q/inrHxItbPwrrvjjSItDstHsLkXi6NaQq5jDygBZJDLIztt+XgAHkgef+F/gf8UdU+H+m/Bm5+Fvhn4eeD1uLX/hIPFelatHONZhhdXfyoAolEkpRQWmJwC3sK+3/pRTVlK68vwDpY+SPib8D/E3gb9oy/8Ai14Q+GOi/FaTV7S3iaxv9SisbvSrqFQgngkmVo9rIEBwN4K8EAnM2sfspeI/iR8A/iLpniy60638f+N9UXXpkgZ3s7OWLyhbWpcAMyKkKozAZ+ZiM4GfrH8KM9aVrK39b3/MfVP+trfkfIfgz4X/ABG8dXXgjwvrfwt0D4Q+AfCeqw61cx6TqkN3/a1xBzCIo4lHloZMOxkJY4HJOc1br4MeN/gb8dPGfjLwJ8J9B+JR8VXf2+21a71WKwvdFmdcTIxlB3RFyX/dYYgkHoMfY31op31v/Wtv8kT0sfHnjj9jjW9e/Z/0HSrldJ8TeO9P8RP4uv7S8Z49P1S6mkd7i1LDDLGVfYrEfwLnAJx1Hwz8A+P/AB58SPB/iDxj4B0r4UeFvBFvcpo/hjTtRhvnnupo/KMpaFVjjiWMsFQDOWJPHT6b+lHPrTTs7r+un5A1dC+leS/tTeBtS+IHwQ8Q6fokX2jXLYwanYQf89p7WdLhI/qxi2/VhXrWaRql36DOL8F+LdC+N/wxtNY06b7RpGuWTLIoOHj3KVkiYfwup3KR1BBr5F8E/AP4tfC3wDrfwh8LfDXwxZ2+rJNYT/FSPVY1eW0kZgXltSpnaZY2IADbA2McDJ+0/Dvg3RPCMuqvoumW+mnVbxtQvBbJtWa4ZVV5CBxuYICSOpyTySTt07Lmb77gr2t2POPFGk+J/hn8DzpXwy0qy1zxDoumw2ekWGpyiKGbywqAMdyjO0EgblBIA3DOab4y8C6n8ZvgJqPhXxVHBout69ov2a+SzYyxWl08Y3bDn5lV+nPIHXvXpVHFKS501LqEfcty9D4f8L/A/wCKOq/D/Tfgzc/C3wz8PPB63Fr/AMJB4s0rVo5xrMMLq7+VbhRKJJSigtMTgFvYV1PxO+B/ibwL+0bf/Frwh8MNF+Kz6vaW8TWN/qUVjd6VdQqEE8EkytHtZAgOBvBXggE5+tv1o+tU7uz6gtE10PkfxB+yb4l+JXwF8e2HimbTY/iF4w1hPEMsMbs9lbSxCNYLQuAGaMRRCNmHILsRnAy/wX8NfiL4+1jwJoev/C/QfhB4A8G6omsvZ6VqkN4dVu4lYQeUkKgRRh28xvMyxIXnOTX1rRS2enl+GwraW9fx3PjdPgz49+Avxo8b+J/Afwn8P/EY+Kr+TUbPX7zVorG80V5R+9icSqS0W8lsREMQSCScAWfHX7HGr61+zv4Y0FxpXibxro2ut4qvLa/Lx2OrXUssklzblhhlRvNZVYgZ2LnAJx9f0c96VvdS7W/AfW/9anzL8NPAPj7x38R/B/iDxj4B0r4U+FvBFvcpo/hjTtShvnnuZo/KMpaFVjjiWMsFQDOWJPt5z4L+B/xR/Z1uvFfhj4d/CzwzrX9t3NwbD4iT6tHbzWMEzZSO6hZTLJ5WekRCnaDjJOfuCinv/W4LRWPOvA3h/Rf2dfgbpWl6hqSxaN4X0oC71Gf5QQi7pJSO25txx15xzXPfsq6HqNr8O9Q8RatbTWF94v1m98R/YZxiS2huJMwRsOzCFYiR2JIPSvS/FXg/RfG+mpp2vadDqlitxFci2uV3IZI3DxkjocMAcHg45Fbgp3bk5vdk8tkoroLRRRQUFFFFABRRRQAUUUUAFFFFABRRRQBm+Gv+Rd0r/r0i/wDQBWlWb4a/5F3Sv+vSL/0AVpUAFFFFABRRRQAUUUUAeUftGfFDWfg34JsPFenW1nc6TaatZx659qjdmi0+SURyyxlXXDqXU5YMMA5HcP8Ajx8UtU+Hvh/w/F4Zhs73xL4j1qz0fTY75GkgzI+6WR1RlYqkKyvww5A5rr/iL4Ls/iN4D8QeF9QGbLWLGaylOOQHQruHuM5HuK+T/wBlvxDqnxr+IXhSLXIZfP8AhHok2kaj5qkBtakke1L5PDEW9sWyM4NwelKOrt2d/l2/D8Qloub5fPp/Xke8/FD9qz4U/BfXINF8ZeNLPSNXlCt9jWKW4kQHBBkWJHMYIOQXwCOazvjj+1Z4F+Dvwvh8VyeILO5OsWdxJ4eaKOW5t9QnSPcib4VYKpYqCWKjk8jBx494V+NXgn9mn4h/FfSfijBfaRr3iHxFPqNhfnSp7tdasZEUW8UckcbA+WAY9jEAHPOScdJ8Kvh7r0H7GPjPRV0K50i61y21650nw/NHsmtILp52trcp/A211+XtuxWcm3Tcl2v/AMAuNudJ97f8H0Os+AP7ZXw5+OzaLoWl+IorrxtPpy3d9pcGn3cSRSKimZVeSMJhWJA+c5wME9azPF3xd8HeLv2nvBnhDTfizqWheJ9AurpL/wAHWunXXkaszW4cJLNsEWEUFxksOSBhsEJ+yt+058PPG/hzwj8O9P1e5j8cabokEV7ol5ptzBLbtBEiShmaMJkEdAxzmvPP2gv2wPhJY/Gz4dWc/izy7jwf4kvP7bT+zbs/ZMWdxAeRCfM/euq/u93XPTJreXL7Rdv619DGHM4O/b9D6k8ffFjwj8LI9Ok8W67a6BDqEkkVvPebliZkiaVgXxtX5EYjcRkgAZJAOP8ACP8AaG+Hnx4TUW8C+JoNeOnsq3UaxSwyRbs4JSVFYqcHDAY4PNeXfGW88LfGjxF+ztqMMcHiHwxq2vy31v8AaoGEc6jTrmSJjHIAeGVThh1AyK2bW3jtf23NWlihVXk8A27SNGoDPi/lAz6nAAGfao62fn+VypO0U15fi7EvjP8Abo+Bvw/8SXug634/todVsnMVxDa2N1drG4yCpeGJ03AggjOQRg4r0W/+Mfg7SvhavxGu9ajtvBbWceoLqkkMgBgk27G8vbvy25QF27skDGa/NDwn8ZtPuvAMXwk8R/EHwj4P8BXOpStdRXug6nJ4gtMXhlMTzCAWplBAUzZypyeoFfpB8WPHnhHwz8F9Z8V6/ZjxV4MisBcz29rbJfre27bQMITskVgwOSduOSQBmj/l3zdf6/rcu373kO10XWrLxFo1jqumXMd7p19AlzbXMRyssbqGVgfQgg/jV+sjwnqtlrnhfSNR023ktNPu7SKe2t5YDC0cbIGRTGR8hAIG3tjFa/8AOm92RHVXPm39rD9ob4ifBXQda1Lwl4Etb3S9Itre6u/EeuXW20zLMsSwwwRsJJXy2SSyBQMnORn6Ngk86FGPVhmvj3/go38dvA2hfBnxX8Nr/XPJ8aalaWd3aaZ9knbzIhdxtu80IYxxFJwWB+XpyK+h/gz8bPBfx08Nz6v4I1n+29OtJ/sc032We32yhFYriVFJ4ZTkDHPXrTjrTuu/+RcrLl87/p/wTv8A6183eKvjR8WfGXjHxXYfCTQ/CR0DwjcfYtU1jxhczxrd3SxiSWC2EP3fLDKC8h25PoK9N+FXxy0H4wat4y07RrPVrSfwtqTaVetqVoYFklGeYuTleO4VuQSACM/FfirSfBfw5+MHxB0D47a/4ot/B+oa9Nr3h/w3Y2c/9la2bgiRvMa2QtNKrgL5cjKq7QeQxxn9pel/ysHR+v8Aw59D2n7Xh8RfAfwt4u8P+HRqHi/xNqX9g2Hh5rseWuohnWQPMAQYUETyFwOVA6ZyJfh78c/iHoPxn0r4Z/Fyx8Ixavr1jNfaPfeEbudoj5Qy8M0U/wC8DbQzBx8p2EDJBx4Brvwl8W+Ef2cfCHi3R9O1TwS1t40u/E11p2jaekt9oul3fmw/u7cggSRwOhKgZTJPBTjY+BvhP4afED46eBtV+Edvq3iOw8PNeap4n8fa5Fcm5vrmS2NvDbtNcIrO5Ll2VVCgLkDJNaLWTb+75fo/8jN/D+X3/qrffc9C1z9o/wCL2uaL4h+IPgfwx4P/AOFW6FPcoG8RX88Go6vHbsUllt2UeVEpZHVfMyTtzjkCuw8U/tK6nr/hj4cx/DHRbXWfFnj60a/02HWJWjtLC2SNWmmuTGCxCF0TavJJ46YPyL4YsfA3w3s7zwV8aZvFfi7xl4cubmDwt8PX02dtMvV3u1vNbxwoY52k3kl5m43EFeAT2Pj/AOE/iH4LeAvgTqGs65r/AIQ8O6Xol1oni3VvCtv515pq3LRzkBlVmjTzEKGVASuABncAYVuXV6aa/J/ra/YuXxtLz/Nfpt3Por4N/HzxNdfELxR8Ofija+HbDxhoenJrJvPDN1JLY3Foxwx2yfvI2QlchuoYEADBPn+sftSfF+18Cy/GC28IeEoPhAh+0R2GoahNFr11Z79q3CEgQKXX51jOWIwBkkE87+z78NfBHjv4ka/rvwm0a40/wBB4TutCHiS+gnSXWtQupRJJLvnAllCKgBZgAGfAGAK8V0O38Hw/DlvB3xBj8V+PPjvpunyaDoXgPU9PnNjp0gUwQS28aILdowuxzO7EkLuGDgk1+dvv1f6W+8Stfyv+i/4J9p/Eb47eJ9V1zwv4T+EWl6TrXifXtI/t833iCWWPT9PsCVEcsoiBd2kZtqqvPBJ4FW/2e/jlrvxA8QeMvBXjWy0ix8c+EZoY786BctPY3Mcqlkki3fOpGCGRuQQM4zgfNvxk+Hc3wX8U/Dmfxd4q8SeFPhp/whdn4X13WvC0LPIJ7QlkimljRpYopd5G5BltpBwDkemfsd+CfCzfETxl41+HnhuXw78OJNOsdF0aaa3lhfVmiaWSe7IlHmMCZEQO/LbSO2BcbXdttfz0Jley+X5K59a15d8fPiNqvgjQNJ0nwykMnjPxRfpo+jC4G6OGRgWkuJB3SKJHkI77QO9eo5rwL4+SHQvjl8CPEt4dujW+q3+kyyN92O4vLQpbk+mWQoD6yAd8Gd2k/wCv+HLWzfkzq/iB43/4Z3+C6ahdy6j4y1OxjgsLVbmRfteq3krrFErMBgF3cZOMAZODivNdI+PHxV+HnxM8H+Hvi/pHgy307xjcPZaZN4Wvp2uLK4C7kjuEm/1gY/Jvj+UNjJ5APQ/treE/Evij4HXNx4RFw2v6HqNlrdstpAs8+beZXYxxtw7qu5gp+8VA718zeDvD/wAMfi58RPANv8OJPEPj/wAZ23iG11vxV438TW1z9psILUtJ9neSVFSNnk2oscQxhTknANKF5Td+/wCGmv5ky92Gnb8T9FOTXmfx4+LN38KfDemf2NpH/CQeKtd1CPSNF0xpfKSa5cM26R8HbGiI7scdFxxnIl+J/wAdNB+EviTwXousWerXN14s1D+zbKTT7MzRxyccytkbV+YdMnAJxgEjy39ubw/4juPCXgzxR4du9UsT4Z11bvULzRbRbq9tbKWKSCeeGNgdzIspPAyAS3G3IUnpfpe35XKj572/4YufD345/EPQfjPpfwz+Llj4Ri1fXrGa+0e+8I3UzRHyhl4Zop/3gbaGYOPlO0gZIOOZ1z9o/wCL2uaL4h+IPgfwz4PPwt0Oe5j3eIr+eDUdXjt2KSy27KPKiUsjqvmZJ257gV598DfCnw0+IHx08Dar8I7fVvEdh4ea91TxP4+1yK5NzfXMlubeG3aa4RWdyXLsqqFAXIGSa828MWPgf4b2d54K+NM3ivxd4x8OXNzB4W+Hr6dO2mXq73a3mt44UMc7SbyS8zcbiCvAJcr6Jb2+/X+vXcStq3tofXfij9pbU9e8MfDmP4Y6La6z4s8fWjX+mw6xM0dpYWyRq001yYwWIQuibV5JPHTmH4U/tFeIYfGnjHwJ8V7bw7pvivw5pQ12S+8MXUk1jcWXO9gkn7yN0OMq3JDAgAYz8+fED4T+Ifgt4C+BN/rOua94Q8O6Vol1oni3VvCtv515pq3LRzkBlVmjTzEKGVASuABncAdX4R/CXwZ8UfE3jS/+EGjT6f4GbwTfeHY/El/BOkmtalePueUvOBLKIwoBZgAC+AAAKqWjly/3vw2/T7xR1Ueby/4J2esftTfF/wAPeCbb4u6r4P8ACdj8JLhopk0ubUJl8QfZJHCpOCcQFipDiIZYg4znmvS/iZ8aPGmo+NtN8DfCLStD1XxHPpa65ear4klmTTbG0disW4RDzHeQh8BSMBcnI6fFlrb+DvFHw3k8I+KI/Ffj/wDaJOnHQNO8Ka3p062+hSMohEkEaoLdIo1CyGYsWIUN8pJx6h8dfBdt8Jfivos/jnxb4m8K/CbUvCtjpGpap4at5CJ7qzLhLa4miRpYo5FkY4UDfkg4xkKSSdul9Puf/ADX521+9f8AB+49y+Gv7VDXXg74lzeP7PT9N8SfDhmGuR6Dc/abWdPLMkcluSdw37WUIx3BlwcHIHJX37Sfxg+HEPhvxn8R/C3g/Sfh5r17bWo0+x1Gc61pq3BASSbzAIpduRuWMZAJPABxwPgf4JWPj74WfHq9+GXhZvDXhPxJpFrpPhW1mt3t31H7LHIzXJEnzkSyOFV5PmYDJ5rzW503wJ8bfC8PhmOTxT8Rv2gdca1sdQfxNp08X/CMRmWNrpljKLBbRIquB5e5ssADgkVSV6iXp/wf+D2DaOj7/p/wfU+4P2h9V8TeBfD9r8QvDl7PPB4Y33WraAMGLU9POPtGBjImjVfMjYHqrKQQ5r1DQ9ZtPEWjWGqWEouLC+gjubeZejxuoZWH1BBrkfjV4g0/wZ8HfGGq6oyiws9JuGkDn7/7sqqD1LEhQO5YCov2ffDt94R+Bvw/0XU0MWo6foVlb3EbdUkWFQy/gQR+FKP2l2t+N/8AL8Ra+78/0PQ6KKKCgooooAKKKKAM3w1/yLulf9ekX/oArSrN8Nf8i7pX/XpF/wCgCtKgAooooAKKKKACiiigApKWigBKKWigBKKWigBOPSqeqaemq6bdWUjyRx3ETRM8LFXAYEEqR0Iz19au0hqWlJWYbanynpv7HfxA0vwsvgW3+PeqRfDT7O1h/YSeG7EXf2RgQ0QvCCwJBI3bM89K+kfB/hTTvA3hTR/DmkxNDpelWkVlbRsxZhHGoVQSepwBzW1iiqvpYXUdSUtFAwpKWigBMe1FLRQAlFLRQAlLRRQAUUUUAJS0UUAFcx8Rvh9o/wAUfB2peGdegefTb+MK5jbZLEwIZJI2HKurBWVh0Kg109FK19BmL4Q0W98O+F9L0zUdWm16+tLdIZtTuUVJbplABkYLwGOMnHethadSD2o31JCloopjCkpaKAEopaKAEpaKKAEpaKKAOD+IXwqtPiZrXhp9Xv7htB0e6/tCTQ1UCC+uVKm3aY9SsTBmEfRm2k/dwe529KWiltoG46iiimAUUUUAFFFFAGb4a/5F3Sv+vSL/ANAFaVQQRrDHHHGoRFUBVUYAGOgFT0AFFFFABRRRQAUUUUAFFFFABRRRQAUUUUAFFFFABRRRQAUUUUAFFFFABRRRQAUUUUAFFFFABRRRQAUUUUAFFFFABRRRQAUUUUAFFFFABRRRQAUUUUAFFFFABRRRQAUUUUAFFFFABRRRQB//2Q==)"
      ],
      "metadata": {
        "id": "RHPxwpMGkuoo"
      }
    },
    {
      "cell_type": "markdown",
      "source": [
        "####2.4 - Separação em conjunto de treino e conjunto de teste com o método holdout\n",
        "#####Utilização de validação cruzada com estratificação e 10 partições.\n",
        "\n"
      ],
      "metadata": {
        "id": "wEMOVvyPnoNG"
      }
    },
    {
      "cell_type": "code",
      "source": [
        "# tamanho do conjunto de teste\n",
        "test_size = 0.30\n",
        "seed = 7 # semente aleatória\n",
        "\n",
        "# Separação em bases de treino e teste (holdout)\n",
        "#array = water.values\n",
        "#X = array[:,0:20] # atributos\n",
        "#y = array[:,20] # classe (is_safe)\n",
        "\n",
        "# fazendo a divisão em base de treino e teste\n",
        "X_train, X_test, y_train, y_test = train_test_split(X, y,\n",
        "    test_size=test_size, shuffle=True, random_state=seed, stratify=y) # faz a divisão # holdout com estratificação\n",
        "\n",
        "# Parâmetros e partições da validação cruzada\n",
        "scoring = 'accuracy'\n",
        "\n",
        "# Criando os folds para a validação cruzada\n",
        "# número de folds da validação cruzada\n",
        "num_particoes = 10\n",
        "kfold = StratifiedKFold(n_splits=num_particoes, shuffle=True, random_state=seed) # validação cruzada com estratificação"
      ],
      "metadata": {
        "id": "TspyLizOnsxM"
      },
      "execution_count": 12,
      "outputs": []
    },
    {
      "cell_type": "markdown",
      "source": [
        "###**3. Modelagem e Inferência**\n"
      ],
      "metadata": {
        "id": "_0kfq1h4StE9"
      }
    },
    {
      "cell_type": "markdown",
      "source": [
        "#####*Objetivo*: treinar e avaliar os modelos com melhor desempenho.\n",
        "#####Iniciamos a etapa de modelagem e inferência, porém não sabemos previamente quais algoritmos performarão bem nesse conjunto de dados. Assim, usaremos a validação cruzada para treinar e avaliar os modelos usando a métrica \"acurácia\".\n",
        "#####Primeiramente, iremos avaliar os algoritmos com a configuração padrão de hiperparâmetros da scikit-Learn.\n",
        "#####Criamos os ensembles e adicionamos na lista de modelos"
      ],
      "metadata": {
        "id": "DSZlm8nbdDws"
      }
    },
    {
      "cell_type": "markdown",
      "source": [
        "####3.1 - Criação e avaliação de modelos: linha base"
      ],
      "metadata": {
        "id": "X5eCAzGnSv3A"
      }
    },
    {
      "cell_type": "code",
      "source": [
        "# Modelagem\n",
        "# Definindo uma seed global para esta célula de código\n",
        "np.random.seed(7)\n",
        "\n",
        "# Listas para armazenar os modelos, os resultados e os nomes dos modelos\n",
        "models = []\n",
        "results = []\n",
        "names = []\n",
        "\n",
        "# Preparando os modelos e adicionando-os na lista de modelos\n",
        "models.append(('LR', LogisticRegression(max_iter=200)))\n",
        "models.append(('KNN', KNeighborsClassifier()))\n",
        "models.append(('CART', DecisionTreeClassifier()))\n",
        "models.append(('NB', GaussianNB()))\n",
        "models.append(('SVM', SVC()))\n",
        "\n",
        "# Definindo os parâmetros do classificador base para o BaggingClassifier\n",
        "base = DecisionTreeClassifier()\n",
        "num_trees = 100\n",
        "max_features = 3\n",
        "\n",
        "# Criando os modelos para o VotingClassifier\n",
        "bases = []\n",
        "model1 = LogisticRegression(max_iter=200)\n",
        "bases.append(('logistic', model1))\n",
        "model2 = DecisionTreeClassifier()\n",
        "bases.append(('cart', model2))\n",
        "model3 = SVC()\n",
        "bases.append(('svm', model3))\n",
        "\n",
        "# Criando os ensembles e adicionando-os na lista de modelos\n",
        "models.append(('Bagging', BaggingClassifier(base_estimator=base, n_estimators=num_trees)))\n",
        "models.append(('RF', RandomForestClassifier(n_estimators=num_trees, max_features=max_features)))\n",
        "models.append(('ET', ExtraTreesClassifier(n_estimators=num_trees, max_features=max_features)))\n",
        "models.append(('Ada', AdaBoostClassifier(n_estimators=num_trees)))\n",
        "models.append(('GB', GradientBoostingClassifier(n_estimators=num_trees)))\n",
        "models.append(('Voting', VotingClassifier(bases)))\n",
        "\n",
        "# Avaliando um modelo por vez\n",
        "for name, model in models:\n",
        "  cv_results = cross_val_score(model, X_train, y_train, cv=kfold, scoring='accuracy')\n",
        "  results.append(cv_results)\n",
        "  names.append(name)\n",
        "  msg = \"%s: %f (%f)\" % (name, cv_results.mean(), cv_results.std()) # média e desvio padrão dos 10 resultados da validação cruzada\n",
        "  print(msg)\n",
        "\n",
        "# Boxplot de comparação dos modelos\n",
        "fig = plt.figure(figsize=(10,5))\n",
        "fig.suptitle('Comparação da Acurácia dos Modelos')\n",
        "ax = fig.add_subplot(111)\n",
        "plt.boxplot(results)\n",
        "ax.set_xticklabels(names)\n",
        "plt.show()"
      ],
      "metadata": {
        "colab": {
          "base_uri": "https://localhost:8080/",
          "height": 686
        },
        "id": "UeUNgc4TQhaS",
        "outputId": "47e85d77-9c15-4962-b0a2-eb21886cd966"
      },
      "execution_count": 13,
      "outputs": [
        {
          "output_type": "stream",
          "name": "stdout",
          "text": [
            "LR: 0.902481 (0.005331)\n",
            "KNN: 0.877658 (0.008208)\n",
            "CART: 0.952136 (0.006946)\n",
            "NB: 0.847468 (0.016580)\n",
            "SVM: 0.886051 (0.000676)\n",
            "Bagging: 0.966066 (0.007862)\n",
            "RF: 0.949278 (0.007365)\n",
            "ET: 0.913736 (0.007133)\n",
            "Ada: 0.932667 (0.006183)\n",
            "GB: 0.958030 (0.007620)\n",
            "Voting: 0.915164 (0.005825)\n"
          ]
        },
        {
          "output_type": "display_data",
          "data": {
            "text/plain": [
              "<Figure size 1000x500 with 1 Axes>"
            ],
            "image/png": "[encoded data removed]"
          },
          "metadata": {}
        }
      ]
    },
    {
      "cell_type": "markdown",
      "source": [
        "#####Etapa de modelagem e inferência, utilizando a biblioteca Pipeline para criar e avaliar os modelos através da validação cruzada com os dados padronizados e normalizados (evitando o data leakage) e comparar o seu resultado com os modelos treinados com o dataset original."
      ],
      "metadata": {
        "id": "P43RIeL3das1"
      }
    },
    {
      "cell_type": "markdown",
      "source": [
        "####3.2 - Criação e avaliação de modelos: dados padronizados e normalizados\n"
      ],
      "metadata": {
        "id": "spD66mg-dp36"
      }
    },
    {
      "cell_type": "code",
      "source": [
        "np.random.seed(7) # definindo uma semente global\n",
        "\n",
        "# Listas para armazenar os armazenar os pipelines e os resultados para todas as visões do dataset\n",
        "pipelines = []\n",
        "results = []\n",
        "names = []\n",
        "\n",
        "\n",
        "# Criando os elementos do pipeline\n",
        "\n",
        "# Algoritmos que serão utilizados\n",
        "reg_log = ('LR', LogisticRegression(max_iter=200))\n",
        "knn = ('KNN', KNeighborsClassifier())\n",
        "cart = ('CART', DecisionTreeClassifier())\n",
        "naive_bayes = ('NB', GaussianNB())\n",
        "svm = ('SVM', SVC())\n",
        "bagging = ('Bag', BaggingClassifier(base_estimator=base, n_estimators=num_trees))\n",
        "random_forest = ('RF', RandomForestClassifier(n_estimators=num_trees, max_features=max_features))\n",
        "extra_trees = ('ET', ExtraTreesClassifier(n_estimators=num_trees, max_features=max_features))\n",
        "adaboost = ('Ada', AdaBoostClassifier(n_estimators=num_trees))\n",
        "gradient_boosting = ('GB', GradientBoostingClassifier(n_estimators=num_trees))\n",
        "voting = ('Voting', VotingClassifier(bases))\n",
        "\n",
        "# Transformações que serão utilizadas\n",
        "standard_scaler = ('StandardScaler', StandardScaler())\n",
        "min_max_scaler = ('MinMaxScaler', MinMaxScaler())\n",
        "\n",
        "# Montando os pipelines\n",
        "\n",
        "# Dataset original\n",
        "pipelines.append(('LR-orig', Pipeline([reg_log])))\n",
        "pipelines.append(('KNN-orig', Pipeline([knn])))\n",
        "pipelines.append(('CART-orig', Pipeline([cart])))\n",
        "pipelines.append(('NB-orig', Pipeline([naive_bayes])))\n",
        "pipelines.append(('SVM-orig', Pipeline([svm])))\n",
        "pipelines.append(('Bag-orig', Pipeline([bagging])))\n",
        "pipelines.append(('RF-orig', Pipeline([random_forest])))\n",
        "pipelines.append(('ET-orig', Pipeline([extra_trees])))\n",
        "pipelines.append(('Ada-orig', Pipeline([adaboost])))\n",
        "pipelines.append(('GB-orig', Pipeline([gradient_boosting])))\n",
        "pipelines.append(('Vot-orig', Pipeline([voting])))\n",
        "\n",
        "# Dataset Padronizado\n",
        "pipelines.append(('LR-padr', Pipeline([standard_scaler, reg_log])))\n",
        "pipelines.append(('KNN-padr', Pipeline([standard_scaler, knn])))\n",
        "pipelines.append(('CART-padr', Pipeline([standard_scaler, cart])))\n",
        "pipelines.append(('NB-padr', Pipeline([standard_scaler, naive_bayes])))\n",
        "pipelines.append(('SVM-padr', Pipeline([standard_scaler, svm])))\n",
        "pipelines.append(('Bag-padr', Pipeline([standard_scaler, bagging])))\n",
        "pipelines.append(('RF-padr', Pipeline([standard_scaler, random_forest])))\n",
        "pipelines.append(('ET-padr', Pipeline([standard_scaler, extra_trees])))\n",
        "pipelines.append(('Ada-padr', Pipeline([standard_scaler, adaboost])))\n",
        "pipelines.append(('GB-padr', Pipeline([standard_scaler, gradient_boosting])))\n",
        "pipelines.append(('Vot-padr', Pipeline([standard_scaler, voting])))\n",
        "\n",
        "# Dataset Normalizado\n",
        "pipelines.append(('LR-norm', Pipeline([min_max_scaler, reg_log])))\n",
        "pipelines.append(('KNN-norm', Pipeline([min_max_scaler, knn])))\n",
        "pipelines.append(('CART-norm', Pipeline([min_max_scaler, cart])))\n",
        "pipelines.append(('NB-norm', Pipeline([min_max_scaler, naive_bayes])))\n",
        "pipelines.append(('SVM-norm', Pipeline([min_max_scaler, svm])))\n",
        "pipelines.append(('Bag-norm', Pipeline([min_max_scaler, bagging])))\n",
        "pipelines.append(('RF-norm', Pipeline([min_max_scaler, random_forest])))\n",
        "pipelines.append(('ET-norm', Pipeline([min_max_scaler, extra_trees])))\n",
        "pipelines.append(('Ada-norm', Pipeline([min_max_scaler, adaboost])))\n",
        "pipelines.append(('GB-norm', Pipeline([min_max_scaler, gradient_boosting])))\n",
        "pipelines.append(('Vot-norm', Pipeline([min_max_scaler, voting])))\n",
        "\n",
        "# Executando os pipelines\n",
        "for name, model in pipelines:\n",
        "    cv_results = cross_val_score(model, X_train, y_train, cv=kfold, scoring=scoring)\n",
        "    results.append(cv_results)\n",
        "    names.append(name)\n",
        "    msg = \"%s: %.3f (%.3f)\" % (name, cv_results.mean(), cv_results.std()) # formatando para 3 casas decimais\n",
        "    print(msg)\n",
        "\n",
        "# Boxplot de comparação dos modelos\n",
        "fig = plt.figure(figsize=(15,5))\n",
        "fig.suptitle('Comparação dos Modelos - Dataset orginal, padronizado e normalizado')\n",
        "ax = fig.add_subplot(111)\n",
        "plt.boxplot(results)\n",
        "ax.set_xticklabels(names, rotation=90)\n",
        "plt.show()"
      ],
      "metadata": {
        "colab": {
          "base_uri": "https://localhost:8080/",
          "height": 969
        },
        "id": "sRslPh96TeCx",
        "outputId": "58d76f13-46c2-4be6-c275-3d78931fe643"
      },
      "execution_count": 14,
      "outputs": [
        {
          "output_type": "stream",
          "name": "stdout",
          "text": [
            "LR-orig: 0.902 (0.005)\n",
            "KNN-orig: 0.878 (0.008)\n",
            "CART-orig: 0.952 (0.007)\n",
            "NB-orig: 0.847 (0.017)\n",
            "SVM-orig: 0.886 (0.001)\n",
            "Bag-orig: 0.966 (0.008)\n",
            "RF-orig: 0.949 (0.007)\n",
            "ET-orig: 0.914 (0.007)\n",
            "Ada-orig: 0.933 (0.006)\n",
            "GB-orig: 0.958 (0.008)\n",
            "Vot-orig: 0.915 (0.006)\n",
            "LR-padr: 0.908 (0.005)\n",
            "KNN-padr: 0.907 (0.011)\n",
            "CART-padr: 0.952 (0.007)\n",
            "NB-padr: 0.847 (0.017)\n",
            "SVM-padr: 0.938 (0.009)\n",
            "Bag-padr: 0.967 (0.008)\n",
            "RF-padr: 0.948 (0.007)\n",
            "ET-padr: 0.911 (0.008)\n",
            "Ada-padr: 0.933 (0.006)\n",
            "GB-padr: 0.958 (0.008)\n",
            "Vot-padr: 0.940 (0.007)\n",
            "LR-norm: 0.906 (0.005)\n",
            "KNN-norm: 0.902 (0.013)\n",
            "CART-norm: 0.951 (0.009)\n",
            "NB-norm: 0.847 (0.017)\n",
            "SVM-norm: 0.935 (0.009)\n",
            "Bag-norm: 0.967 (0.007)\n",
            "RF-norm: 0.949 (0.007)\n",
            "ET-norm: 0.911 (0.007)\n",
            "Ada-norm: 0.933 (0.006)\n",
            "GB-norm: 0.958 (0.008)\n",
            "Vot-norm: 0.936 (0.006)\n"
          ]
        },
        {
          "output_type": "display_data",
          "data": {
            "text/plain": [
              "<Figure size 1500x500 with 1 Axes>"
            ],
            "image/png": "[encoded data removed]"
          },
          "metadata": {}
        }
      ]
    },
    {
      "cell_type": "markdown",
      "source": [
        "#####Utilizando-se a biblioteca Grid Search para executar a otimização dos hiperparâmetros do algoritmo KNN, buscando melhores resultados. Para tal, serão utilizados todos os valores ímpares de k entre 1 e 21 e diferentes métricas de distância (euclidean, manhattan e minkowski)."
      ],
      "metadata": {
        "id": "TzGWvAQ1dyPA"
      }
    },
    {
      "cell_type": "markdown",
      "source": [
        "####3.3 - Otimização dos hiperparâmetros"
      ],
      "metadata": {
        "id": "ivpNoWGDX4rQ"
      }
    },
    {
      "cell_type": "code",
      "source": [
        "# Tuning do KNN\n",
        "\n",
        "np.random.seed(7) # definindo uma semente global para este bloco\n",
        "\n",
        "pipelines = []\n",
        "\n",
        "# Definindo os componentes do pipeline\n",
        "knn = ('KNN', KNeighborsClassifier())\n",
        "standard_scaler = ('StandardScaler', StandardScaler())\n",
        "min_max_scaler = ('MinMaxScaler', MinMaxScaler())\n",
        "\n",
        "pipelines.append(('knn-orig', Pipeline(steps=[knn])))\n",
        "pipelines.append(('knn-padr', Pipeline(steps=[standard_scaler, knn])))\n",
        "pipelines.append(('knn-norm', Pipeline(steps=[min_max_scaler, knn])))\n",
        "\n",
        "param_grid = {\n",
        "    'KNN__n_neighbors': [1,3,5,7,9,11,13,15,17,19,21],\n",
        "    'KNN__metric': [\"euclidean\", \"manhattan\", \"minkowski\"],\n",
        "}\n",
        "\n",
        "# Prepara e executa o GridSearchCV\n",
        "for name, model in pipelines:\n",
        "    grid = GridSearchCV(estimator=model, param_grid=param_grid, scoring=scoring, cv=kfold)\n",
        "    grid.fit(X_train, y_train)\n",
        "    # imprime a melhor configuração\n",
        "    print(\"Sem tratamento de missings: %s - Melhor: %f usando %s\" % (name, grid.best_score_, grid.best_params_))"
      ],
      "metadata": {
        "colab": {
          "base_uri": "https://localhost:8080/"
        },
        "id": "6Fe3vV_XX8Rm",
        "outputId": "ced7eeb8-c3c9-4ca9-f723-29a71f05bfb7"
      },
      "execution_count": 15,
      "outputs": [
        {
          "output_type": "stream",
          "name": "stdout",
          "text": [
            "Sem tratamento de missings: knn-orig - Melhor: 0.887660 usando {'KNN__metric': 'manhattan', 'KNN__n_neighbors': 17}\n",
            "Sem tratamento de missings: knn-padr - Melhor: 0.915878 usando {'KNN__metric': 'euclidean', 'KNN__n_neighbors': 17}\n",
            "Sem tratamento de missings: knn-norm - Melhor: 0.909807 usando {'KNN__metric': 'euclidean', 'KNN__n_neighbors': 11}\n"
          ]
        }
      ]
    },
    {
      "cell_type": "markdown",
      "source": [
        "#####Após a otimização dos hiperparâmetros do algoritmo KNN, observou-se uma melhora em sua acurácia média, porém, outros modelos apresentaram melhores resultados e, portanto, serão escolhidos para implementação."
      ],
      "metadata": {
        "id": "mPO0QNuy81eN"
      }
    },
    {
      "cell_type": "markdown",
      "source": [
        "###**4. Finalização do Modelo e Avaliação de Resultados**"
      ],
      "metadata": {
        "id": "rtS0mgDee3t0"
      }
    },
    {
      "cell_type": "markdown",
      "source": [
        "#####*Objetivo*: Analisar o desempenho dos modelos gerados em dados não vistos (com a base de teste)\n",
        "#####Considerou-se o modelo que alcançou os melhores resultados e, portanto, foi o escolhido para implementação: **árvore de decisão**.\n",
        "#####Em seguida, o modelo é finalizado, treinando-o em todo o conjunto de dados de treinamento (sem validação cruzada), e são feitas predições para o conjunto de dados de teste que foi separado no início, a fim de confirmar os resultados.\n",
        "#####Primeiro, será realizada a padronização dos dados de entrada, em seguida o modelo será treinado e a acurácia de teste será exibida.\n"
      ],
      "metadata": {
        "id": "OPjM1K_peKxq"
      }
    },
    {
      "cell_type": "markdown",
      "source": [
        "#####Para fins de comparação, será treinado o segundo modelo que melhor performou: **regressão logística**"
      ],
      "metadata": {
        "id": "ORTon4lU-4PW"
      }
    },
    {
      "cell_type": "code",
      "source": [
        "# Avaliação do modelo com o conjunto de testes\n",
        "\n",
        "# Preparação do modelo\n",
        "scaler = StandardScaler().fit(X_train) # ajuste do scaler com o conjunto de treino\n",
        "rescaledX = scaler.transform(X_train) # aplicação da padronização no conjunto de treino\n",
        "model_LR = LogisticRegression(max_iter=200)\n",
        "model = DecisionTreeClassifier()\n",
        "model_LR.fit(rescaledX, y_train)\n",
        "model.fit(rescaledX, y_train)\n",
        "\n",
        "# Estimativa da acurácia no conjunto de teste\n",
        "rescaledTestX = scaler.transform(X_test) # aplicação da padronização no conjunto de teste\n",
        "predictions_LR = model_LR.predict(rescaledTestX)\n",
        "predictions = model.predict(rescaledTestX)\n",
        "print(accuracy_score(y_test, predictions_LR))\n",
        "print(accuracy_score(y_test, predictions))"
      ],
      "metadata": {
        "colab": {
          "base_uri": "https://localhost:8080/"
        },
        "id": "e6wW1iL4e_1O",
        "outputId": "83ee87a6-55c7-49db-806e-e1f26cf04aec"
      },
      "execution_count": 16,
      "outputs": [
        {
          "output_type": "stream",
          "name": "stdout",
          "text": [
            "0.9083333333333333\n",
            "0.94875\n"
          ]
        }
      ]
    },
    {
      "cell_type": "markdown",
      "source": [
        "#####Por meio do conjunto de teste, verificou-se a acurácia alcançada de **94,8%** em dados não vistos para o modelo de árvore de decisão.\n",
        "#####Esse resultado foi ligeiramente inferior à avaliação na base de treinamento da árvore de decisão, que alcançou acurácia média de **95,2%**.\n",
        "\n",
        "#####Já para o modelo de regressão logística verificou-se a acurácia de **90,8%** no conjunto de teste.\n",
        "#####Valor semelhante ao encontrado na avaliação de dados normalizados, para o mesmo modelo.\n",
        "\n",
        "#####Valores semelhantes à acurácia de teste são esperados quando esse modelo estiver executando em produção e fazendo predições para novos dados."
      ],
      "metadata": {
        "id": "-quHvGAWfKrM"
      }
    },
    {
      "cell_type": "markdown",
      "source": [
        "#####Vamos agora preparar o modelo para utilização em produção. Para isso, vamos treiná-lo com todo o dataset, e não apenas o conjunto de treino."
      ],
      "metadata": {
        "id": "z4TS4L_ofd6U"
      }
    },
    {
      "cell_type": "code",
      "source": [
        "# Preparação do modelo com TODO o dataset\n",
        "scaler = StandardScaler().fit(X) # ajuste do scaler com TODO o dataset\n",
        "rescaledX = scaler.transform(X) # aplicação da padronização com TODO o dataset\n",
        "model.fit(rescaledX, y)"
      ],
      "metadata": {
        "colab": {
          "base_uri": "https://localhost:8080/",
          "height": 74
        },
        "id": "7Qf10wu4fCxl",
        "outputId": "8972730f-6743-42ed-e5fe-a94e04d8febc"
      },
      "execution_count": 17,
      "outputs": [
        {
          "output_type": "execute_result",
          "data": {
            "text/plain": [
              "DecisionTreeClassifier()"
            ],
            "text/html": [
              "<style>#sk-container-id-1 {color: black;background-color: white;}#sk-container-id-1 pre{padding: 0;}#sk-container-id-1 div.sk-toggleable {background-color: white;}#sk-container-id-1 label.sk-toggleable__label {cursor: pointer;display: block;width: 100%;margin-bottom: 0;padding: 0.3em;box-sizing: border-box;text-align: center;}#sk-container-id-1 label.sk-toggleable__label-arrow:before {content: \"▸\";float: left;margin-right: 0.25em;color: #696969;}#sk-container-id-1 label.sk-toggleable__label-arrow:hover:before {color: black;}#sk-container-id-1 div.sk-estimator:hover label.sk-toggleable__label-arrow:before {color: black;}#sk-container-id-1 div.sk-toggleable__content {max-height: 0;max-width: 0;overflow: hidden;text-align: left;background-color: #f0f8ff;}#sk-container-id-1 div.sk-toggleable__content pre {margin: 0.2em;color: black;border-radius: 0.25em;background-color: #f0f8ff;}#sk-container-id-1 input.sk-toggleable__control:checked~div.sk-toggleable__content {max-height: 200px;max-width: 100%;overflow: auto;}#sk-container-id-1 input.sk-toggleable__control:checked~label.sk-toggleable__label-arrow:before {content: \"▾\";}#sk-container-id-1 div.sk-estimator input.sk-toggleable__control:checked~label.sk-toggleable__label {background-color: #d4ebff;}#sk-container-id-1 div.sk-label input.sk-toggleable__control:checked~label.sk-toggleable__label {background-color: #d4ebff;}#sk-container-id-1 input.sk-hidden--visually {border: 0;clip: rect(1px 1px 1px 1px);clip: rect(1px, 1px, 1px, 1px);height: 1px;margin: -1px;overflow: hidden;padding: 0;position: absolute;width: 1px;}#sk-container-id-1 div.sk-estimator {font-family: monospace;background-color: #f0f8ff;border: 1px dotted black;border-radius: 0.25em;box-sizing: border-box;margin-bottom: 0.5em;}#sk-container-id-1 div.sk-estimator:hover {background-color: #d4ebff;}#sk-container-id-1 div.sk-parallel-item::after {content: \"\";width: 100%;border-bottom: 1px solid gray;flex-grow: 1;}#sk-container-id-1 div.sk-label:hover label.sk-toggleable__label {background-color: #d4ebff;}#sk-container-id-1 div.sk-serial::before {content: \"\";position: absolute;border-left: 1px solid gray;box-sizing: border-box;top: 0;bottom: 0;left: 50%;z-index: 0;}#sk-container-id-1 div.sk-serial {display: flex;flex-direction: column;align-items: center;background-color: white;padding-right: 0.2em;padding-left: 0.2em;position: relative;}#sk-container-id-1 div.sk-item {position: relative;z-index: 1;}#sk-container-id-1 div.sk-parallel {display: flex;align-items: stretch;justify-content: center;background-color: white;position: relative;}#sk-container-id-1 div.sk-item::before, #sk-container-id-1 div.sk-parallel-item::before {content: \"\";position: absolute;border-left: 1px solid gray;box-sizing: border-box;top: 0;bottom: 0;left: 50%;z-index: -1;}#sk-container-id-1 div.sk-parallel-item {display: flex;flex-direction: column;z-index: 1;position: relative;background-color: white;}#sk-container-id-1 div.sk-parallel-item:first-child::after {align-self: flex-end;width: 50%;}#sk-container-id-1 div.sk-parallel-item:last-child::after {align-self: flex-start;width: 50%;}#sk-container-id-1 div.sk-parallel-item:only-child::after {width: 0;}#sk-container-id-1 div.sk-dashed-wrapped {border: 1px dashed gray;margin: 0 0.4em 0.5em 0.4em;box-sizing: border-box;padding-bottom: 0.4em;background-color: white;}#sk-container-id-1 div.sk-label label {font-family: monospace;font-weight: bold;display: inline-block;line-height: 1.2em;}#sk-container-id-1 div.sk-label-container {text-align: center;}#sk-container-id-1 div.sk-container {/* jupyter's `normalize.less` sets `[hidden] { display: none; }` but bootstrap.min.css set `[hidden] { display: none !important; }` so we also need the `!important` here to be able to override the default hidden behavior on the sphinx rendered scikit-learn.org. See: https://github.com/scikit-learn/scikit-learn/issues/21755 */display: inline-block !important;position: relative;}#sk-container-id-1 div.sk-text-repr-fallback {display: none;}</style><div id=\"sk-container-id-1\" class=\"sk-top-container\"><div class=\"sk-text-repr-fallback\"><pre>DecisionTreeClassifier()</pre><b>In a Jupyter environment, please rerun this cell to show the HTML representation or trust the notebook. <br />On GitHub, the HTML representation is unable to render, please try loading this page with nbviewer.org.</b></div><div class=\"sk-container\" hidden><div class=\"sk-item\"><div class=\"sk-estimator sk-toggleable\"><input class=\"sk-toggleable__control sk-hidden--visually\" id=\"sk-estimator-id-1\" type=\"checkbox\" checked><label for=\"sk-estimator-id-1\" class=\"sk-toggleable__label sk-toggleable__label-arrow\">DecisionTreeClassifier</label><div class=\"sk-toggleable__content\"><pre>DecisionTreeClassifier()</pre></div></div></div></div></div>"
            ]
          },
          "metadata": {},
          "execution_count": 17
        }
      ]
    },
    {
      "cell_type": "markdown",
      "source": [
        "###**5. Simulando a Aplicação do Modelo em Dados Não Vistos**"
      ],
      "metadata": {
        "id": "ockHVyRoYIO6"
      }
    },
    {
      "cell_type": "markdown",
      "source": [
        "#####Por fim, é realizada a simulação da aplicação do modelo em dados não vistos, considerando três novas instâncias, com classe de saída desconhecidas.\n",
        "#####Aplica-se, então, o modelo recém-treinado para fazer a predição das classes. Para tal, será necessário antes padronizar os dados utilizando a mesma escala dos dados usados no treinamento do modelo."
      ],
      "metadata": {
        "id": "OpMKfFEBficd"
      }
    },
    {
      "cell_type": "code",
      "source": [
        "# Novos dados - não sabemos a classe!\n",
        "data = {'aluminium': [1.78, 2.21, 1.44],\n",
        "        'ammonia':  [20.8, 17.3, 22.5],\n",
        "        'arsenic': [0.04, 0.05, 0.03],\n",
        "        'barium': [2.32, 1.28, 0.95],\n",
        "        'cadmium': [0.005, 0.006, 0.007],\n",
        "        'chloramine': [3.86, 5.17, 4.38],\n",
        "        'chromium': [0.52, 0.78, 0.49],\n",
        "        'copper': [0.18, 0.62, 1.10],\n",
        "        'flouride': [0.75, 0.80, 0.92],\n",
        "        'bacteria': [0.60, 0.20, 0.15],\n",
        "        'viruses': [0.05, 0.12, 0.40],\n",
        "        'lead': [0.10, 0.07, 0.13],\n",
        "        'nitrates': [4.15, 12.4, 8.10],\n",
        "        'nitrites': [1.12, 1.20, 1.04],\n",
        "        'mercury': [0.005, 0.003, 0.006],\n",
        "        'perchlorate': [34.1, 42.2, 19.7],\n",
        "        'radium': [3.15, 6.45, 2.86],\n",
        "        'selenium': [0.05, 0.08, 0.02],\n",
        "        'silver': [0.15, 0.40, 0.32],\n",
        "        'uranium': [0.05, 0.04, 0.06]}\n",
        "\n",
        "atributos = ['aluminium', 'ammonia','arsenic','barium','cadmium','chloramine','chromium','copper','flouride','bacteria','viruses','lead','nitrates','nitrites','mercury','perchlorate','radium','selenium','silver','uranium']\n",
        "entrada = pd.DataFrame(data, columns=atributos)\n",
        "\n",
        "array_entrada = entrada.values\n",
        "X_entrada = array_entrada[:,0:20].astype(float)\n",
        "\n",
        "# Padronização nos dados de entrada usando o scaler utilizado em X\n",
        "rescaledEntradaX = scaler.transform(X_entrada)\n",
        "print(rescaledEntradaX)"
      ],
      "metadata": {
        "colab": {
          "base_uri": "https://localhost:8080/"
        },
        "id": "EiSd93hLYO0C",
        "outputId": "f3596e75-7745-49b5-d31e-b1618c2bf351"
      },
      "execution_count": 18,
      "outputs": [
        {
          "output_type": "stream",
          "name": "stdout",
          "text": [
            "[[ 0.88   0.735 -0.481  0.619 -1.049  0.656  1.008 -0.958 -0.05   0.851\n",
            "  -0.737  0.009 -1.023 -0.366 -0.065  0.997  0.099  0.011  0.015  0.198]\n",
            " [ 1.22   0.341 -0.441 -0.237 -1.021  1.166  1.969 -0.284  0.065 -0.363\n",
            "  -0.552 -0.506  0.466 -0.227 -0.739  1.455  1.519  1.054  1.757 -0.174]\n",
            " [ 0.612  0.926 -0.52  -0.508 -0.993  0.858  0.897  0.45   0.341 -0.515\n",
            "   0.189  0.525 -0.31  -0.506  0.272  0.183 -0.026 -1.032  1.2    0.57 ]]\n"
          ]
        }
      ]
    },
    {
      "cell_type": "markdown",
      "source": [
        "#####Realiza-se a predição das classes para os novos dados."
      ],
      "metadata": {
        "id": "XSfW-6fBfpmj"
      }
    },
    {
      "cell_type": "code",
      "source": [
        "# Predição de classes dos dados de entrada\n",
        "saidas = model.predict(rescaledEntradaX)\n",
        "print(saidas)"
      ],
      "metadata": {
        "colab": {
          "base_uri": "https://localhost:8080/"
        },
        "id": "eVm6MZCBYQ1e",
        "outputId": "c196a5c0-2458-46d5-8695-27f198b31884"
      },
      "execution_count": 19,
      "outputs": [
        {
          "output_type": "stream",
          "name": "stdout",
          "text": [
            "[1. 0. 1.]\n"
          ]
        }
      ]
    },
    {
      "cell_type": "markdown",
      "source": [
        "#####Observa-se que, para as três novas instâncias, foram obtidos resultados de qualidade da água \"segura\", \"não segura\" e \"segura\", respectivamente."
      ],
      "metadata": {
        "id": "sttOjujI7-h4"
      }
    },
    {
      "cell_type": "markdown",
      "source": [
        "###**6. Conclusão**"
      ],
      "metadata": {
        "id": "4Pr-d6tpAHJQ"
      }
    },
    {
      "cell_type": "markdown",
      "source": [
        "#####O presente projeto consistiu em analisar uma base de dados de qualidade de água, de modo a verificar se a mesma é segura ou não segura para consumo. Ressalta-se que os dados utilizados são imaginários, assim como não foram considerados, no presente estudo, valores de referência de órgãos reguladores.\n",
        "#####Inicialmente foi realizada uma seleção de atributos, onde foram identificados quatro atributos de maior relevância para a base utilizada. Porém, ao realizar a modelagem e inferência dos dados utilizando-se apenas esses quatro atributos, foi obtida acurácia de 100% para todos os modelos analisados. Dessa forma, considerou-se que ocorreu um overfitting dos dados e decidiu-se por utilizar a base completa, com todos os atributos, para o presente projeto.\n",
        "#####Em relação à modelagem e inferência, utilizando-se a validação cruzada para treinar e avaliar os modelos com a métrica \"acurácia\", observou-se que os modelos que melhor perfomaram foram a árvore de decisão e a regressão logística.\n",
        "#####Ao avaliar os modelos através da validação cruzada com os dados padronizados e normalizados (de forma a se evitar o data leakage), observou-se que não houve variação significativa da acurácia em relação aos modelos originais.\n",
        "#####Foi realizada uma otimização dos hiperparâmetros do algoritmo KNN, visando resultados melhores para o referido modelo, porém, apesar de ter sido observada uma melhora em sua acurácia média, outros modelos apresentaram melhores resultados e, portanto, foram escolhidos para implementação.\n",
        "#####Escolheu-se para implementação o modelo que alcançou os melhores resultados, árvore de decisão. Para fins de comparação, foi treinado, também, o segundo modelo que melhor performou, regressão logística.\n",
        "#####Por meio do conjunto de teste, verificou-se a acurácia alcançada de 94,8% em dados não vistos para o modelo de árvore de decisão, resultado ligeiramente inferior à avaliação anterior da árvore de decisão, que alcançou acurácia média de 95,2%.\n",
        "#####Por fim, realizou-se a simulação da aplicação do modelo em dados não vistos, considerando três novas instâncias. Obteve-se resultados de saída satisfatórios, condizentes com os dados das novas instâncias inseridos e com as premissas dos valores considerados perigosos à saúde humana.\n"
      ],
      "metadata": {
        "id": "b6p6VjT5AM2R"
      }
    }
  ]
}