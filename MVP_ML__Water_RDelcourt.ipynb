{
  "nbformat": 4,
  "nbformat_minor": 0,
  "metadata": {
    "colab": {
      "provenance": [],
      "include_colab_link": true
    },
    "kernelspec": {
      "name": "python3",
      "display_name": "Python 3"
    },
    "language_info": {
      "name": "python"
    }
  },
  "cells": [
    {
      "cell_type": "markdown",
      "metadata": {
        "id": "view-in-github",
        "colab_type": "text"
      },
      "source": [
        "<a href=\"https://colab.research.google.com/github/ReginaDelcourt/PosDataScience/blob/main/MVP_ML__Water_RDelcourt.ipynb\" target=\"_parent\"><img src=\"https://colab.research.google.com/assets/colab-badge.svg\" alt=\"Open In Colab\"/></a>"
      ]
    },
    {
      "cell_type": "markdown",
      "source": [
        "## **Machine Learning - Regina Delcourt**\n",
        "### **MVP - Sprint II**\n",
        "\n",
        "### Problema de Classificação\n",
        "### Recursos Avançados Aplicados ao Aprendizado Supervisionado\n",
        "\n"
      ],
      "metadata": {
        "id": "XRGmOwGF5VBu"
      }
    },
    {
      "cell_type": "markdown",
      "source": [
        "###**1. Definição do Problema**"
      ],
      "metadata": {
        "id": "mN7XaPf8tn1j"
      }
    },
    {
      "cell_type": "markdown",
      "source": [
        "#####O objetivo do presente trabalho é resolver um problema de classificação, onde, por meio de dados de parâmetros de qualidade da água, seja possível indicar se o consumo da água é seguro ou não seguro.\n",
        "\n",
        "#####Um modelo de aprendizado de máquina relacionado à qualidade da água pode permitir, por exemplo, que as concessionárias de água monitorem a qualidade da água de forma a garantir que a água seja segura para consumo e outros usos, reduzindo o risco de contaminação e doenças, bem como melhorando a qualidade de vida geral daqueles que dependem da água para suas necessidades diárias.\n",
        "\n",
        "#####O conjunto de dados utilizados no presente trabalho, foi criado a partir de dados imaginários da qualidade da água em um ambiente urbano e obtido no repositório Kaggle (https://www.kaggle.com/datasets/mssmartypants/water-quality).\n",
        "\n",
        "#####A base de dados é composta por 20 atributos, relacionados à parâmetros da água, mais um atributo de classe. Todos os atributos são variáveis numéricas e considerados perigosos à saúde humana conforme indicado: alumínio (> 2,8); amônia (> 32,5); arsênico (> 0,01); bário (> 2); cádmio (> 0,005); cloramina (> 4); cromo (> 0,1); cobre (> 1,3); fluoreto (> 1,5); bactérias (> 0); vírus (> 0); chumbo (> 0,015); nitratos (> 10); nitritos (> 1); mercúrio (> 0,002); perclorato (> 56); rádio (> 5); selênio (> 0,5); prata (> 0,1); urânio (> 0,3); is_safe - atributo de classe {0 - não seguro, 1 - seguro}."
      ],
      "metadata": {
        "id": "phiDZZ5bljB9"
      }
    },
    {
      "cell_type": "markdown",
      "source": [
        "####1.1 - Configuração para que os warnings não sejam exibidos importação dos pacotes utilizados neste notebook"
      ],
      "metadata": {
        "id": "S1gb2e3AcBmq"
      }
    },
    {
      "cell_type": "code",
      "execution_count": 63,
      "metadata": {
        "id": "sDfGzJRa28iT"
      },
      "outputs": [],
      "source": [
        "# Configuração para não exibir os warnings\n",
        "import warnings\n",
        "warnings.filterwarnings(\"ignore\")\n",
        "\n",
        "# Imports necessários\n",
        "import pandas as pd\n",
        "import numpy as np\n",
        "\n",
        "import matplotlib.pyplot as plt\n",
        "from sklearn.model_selection import train_test_split # para particionar em bases de treino e teste (holdout)\n",
        "\n",
        "# Imports para problemas de classificação\n",
        "\n",
        "from sklearn.model_selection import KFold # para preparar os folds da validação cruzada\n",
        "from sklearn.model_selection import cross_val_score # para executar a validação cruzada\n",
        "from sklearn.metrics import accuracy_score # para a exibição da acurácia do modelo\n",
        "from sklearn.neighbors import KNeighborsClassifier # algoritmo KNN\n",
        "from sklearn.tree import DecisionTreeClassifier # algoritmo Árvore de Classificação\n",
        "from sklearn.naive_bayes import GaussianNB # algoritmo Naive Bayes\n",
        "from sklearn.svm import SVC # algoritmo SVM\n",
        "\n",
        "from sklearn.preprocessing import StandardScaler\n",
        "from sklearn.preprocessing import MinMaxScaler\n",
        "from sklearn.model_selection import train_test_split\n",
        "from sklearn.model_selection import KFold\n",
        "from sklearn.model_selection import StratifiedKFold\n",
        "from sklearn.model_selection import cross_val_score\n",
        "from sklearn.model_selection import GridSearchCV\n",
        "from sklearn.metrics import accuracy_score\n",
        "from sklearn.pipeline import Pipeline\n",
        "from sklearn.linear_model import LogisticRegression\n",
        "from sklearn.tree import DecisionTreeClassifier\n",
        "from sklearn.neighbors import KNeighborsClassifier\n",
        "from sklearn.naive_bayes import GaussianNB\n",
        "from sklearn.svm import SVC\n",
        "from sklearn.ensemble import BaggingClassifier\n",
        "from sklearn.ensemble import RandomForestClassifier\n",
        "from sklearn.ensemble import ExtraTreesClassifier\n",
        "from sklearn.ensemble import VotingClassifier\n",
        "from sklearn.ensemble import AdaBoostClassifier\n",
        "from sklearn.ensemble import GradientBoostingClassifier\n",
        "\n",
        "\n",
        "# Imports dos Recursos Avançados Aplicados ao Aprendizado Supervisionado\n",
        "\n",
        "from sklearn.ensemble import ExtraTreesClassifier # ExtraTrees, para a Importância de Atributos\n",
        "from sklearn.feature_selection import SelectKBest # para a Seleção Univariada\n",
        "from sklearn.feature_selection import f_classif # para o teste ANOVA da Seleção Univariada\n",
        "from sklearn.feature_selection import RFE # para a Eliminação Recursiva de Atributos\n",
        "from sklearn.linear_model import LogisticRegression # Regressão Logística, para a Eliminação Recursiva de Atributos"
      ]
    },
    {
      "cell_type": "markdown",
      "source": [
        "####1.2 - Carregamento do dataset a partir de um arquivo disponível no git-hub e exibição das primeiras linhas do dataset"
      ],
      "metadata": {
        "id": "8uQhzlSCcOxP"
      }
    },
    {
      "cell_type": "code",
      "source": [
        "# carga do dataset através de um arquivo\n",
        "# url a importar\n",
        "url_dados = 'https://raw.githubusercontent.com/ReginaDelcourt/PosDataScience/main/waterQuality1.csv'\n",
        "\n",
        "# carga do dataset através do csv\n",
        "water = pd.read_csv(url_dados)\n",
        "\n",
        "# exibe as 5 primeiras linhas\n",
        "water.head()\n"
      ],
      "metadata": {
        "colab": {
          "base_uri": "https://localhost:8080/",
          "height": 299
        },
        "id": "awghaAZH3AbE",
        "outputId": "1e08ca1a-3d89-4dd3-8163-be94e16841f8"
      },
      "execution_count": 64,
      "outputs": [
        {
          "output_type": "execute_result",
          "data": {
            "text/plain": [
              "   aluminium ammonia  arsenic  barium  cadmium  chloramine  chromium  copper  \\\n",
              "0       1.65    9.08     0.04    2.85    0.007        0.35      0.83    0.17   \n",
              "1       2.32   21.16     0.01    3.31    0.002        5.28      0.68    0.66   \n",
              "2       1.01   14.02     0.04    0.58    0.008        4.24      0.53    0.02   \n",
              "3       1.36   11.33     0.04    2.96    0.001        7.23      0.03    1.66   \n",
              "4       0.92   24.33     0.03    0.20    0.006        2.67      0.69    0.57   \n",
              "\n",
              "   flouride  bacteria  ...   lead  nitrates  nitrites  mercury  perchlorate  \\\n",
              "0      0.05      0.20  ...  0.054     16.08      1.13    0.007        37.75   \n",
              "1      0.90      0.65  ...  0.100      2.01      1.93    0.003        32.26   \n",
              "2      0.99      0.05  ...  0.078     14.16      1.11    0.006        50.28   \n",
              "3      1.08      0.71  ...  0.016      1.41      1.29    0.004         9.12   \n",
              "4      0.61      0.13  ...  0.117      6.74      1.11    0.003        16.90   \n",
              "\n",
              "   radium  selenium  silver  uranium  is_safe  \n",
              "0    6.78      0.08    0.34     0.02        1  \n",
              "1    3.21      0.08    0.27     0.05        1  \n",
              "2    7.07      0.07    0.44     0.01        0  \n",
              "3    1.72      0.02    0.45     0.05        1  \n",
              "4    2.41      0.02    0.06     0.02        1  \n",
              "\n",
              "[5 rows x 21 columns]"
            ],
            "text/html": [
              "\n",
              "\n",
              "  <div id=\"df-faf796e5-c423-4cdd-a7b0-dd7b0b6e7d81\">\n",
              "    <div class=\"colab-df-container\">\n",
              "      <div>\n",
              "<style scoped>\n",
              "    .dataframe tbody tr th:only-of-type {\n",
              "        vertical-align: middle;\n",
              "    }\n",
              "\n",
              "    .dataframe tbody tr th {\n",
              "        vertical-align: top;\n",
              "    }\n",
              "\n",
              "    .dataframe thead th {\n",
              "        text-align: right;\n",
              "    }\n",
              "</style>\n",
              "<table border=\"1\" class=\"dataframe\">\n",
              "  <thead>\n",
              "    <tr style=\"text-align: right;\">\n",
              "      <th></th>\n",
              "      <th>aluminium</th>\n",
              "      <th>ammonia</th>\n",
              "      <th>arsenic</th>\n",
              "      <th>barium</th>\n",
              "      <th>cadmium</th>\n",
              "      <th>chloramine</th>\n",
              "      <th>chromium</th>\n",
              "      <th>copper</th>\n",
              "      <th>flouride</th>\n",
              "      <th>bacteria</th>\n",
              "      <th>...</th>\n",
              "      <th>lead</th>\n",
              "      <th>nitrates</th>\n",
              "      <th>nitrites</th>\n",
              "      <th>mercury</th>\n",
              "      <th>perchlorate</th>\n",
              "      <th>radium</th>\n",
              "      <th>selenium</th>\n",
              "      <th>silver</th>\n",
              "      <th>uranium</th>\n",
              "      <th>is_safe</th>\n",
              "    </tr>\n",
              "  </thead>\n",
              "  <tbody>\n",
              "    <tr>\n",
              "      <th>0</th>\n",
              "      <td>1.65</td>\n",
              "      <td>9.08</td>\n",
              "      <td>0.04</td>\n",
              "      <td>2.85</td>\n",
              "      <td>0.007</td>\n",
              "      <td>0.35</td>\n",
              "      <td>0.83</td>\n",
              "      <td>0.17</td>\n",
              "      <td>0.05</td>\n",
              "      <td>0.20</td>\n",
              "      <td>...</td>\n",
              "      <td>0.054</td>\n",
              "      <td>16.08</td>\n",
              "      <td>1.13</td>\n",
              "      <td>0.007</td>\n",
              "      <td>37.75</td>\n",
              "      <td>6.78</td>\n",
              "      <td>0.08</td>\n",
              "      <td>0.34</td>\n",
              "      <td>0.02</td>\n",
              "      <td>1</td>\n",
              "    </tr>\n",
              "    <tr>\n",
              "      <th>1</th>\n",
              "      <td>2.32</td>\n",
              "      <td>21.16</td>\n",
              "      <td>0.01</td>\n",
              "      <td>3.31</td>\n",
              "      <td>0.002</td>\n",
              "      <td>5.28</td>\n",
              "      <td>0.68</td>\n",
              "      <td>0.66</td>\n",
              "      <td>0.90</td>\n",
              "      <td>0.65</td>\n",
              "      <td>...</td>\n",
              "      <td>0.100</td>\n",
              "      <td>2.01</td>\n",
              "      <td>1.93</td>\n",
              "      <td>0.003</td>\n",
              "      <td>32.26</td>\n",
              "      <td>3.21</td>\n",
              "      <td>0.08</td>\n",
              "      <td>0.27</td>\n",
              "      <td>0.05</td>\n",
              "      <td>1</td>\n",
              "    </tr>\n",
              "    <tr>\n",
              "      <th>2</th>\n",
              "      <td>1.01</td>\n",
              "      <td>14.02</td>\n",
              "      <td>0.04</td>\n",
              "      <td>0.58</td>\n",
              "      <td>0.008</td>\n",
              "      <td>4.24</td>\n",
              "      <td>0.53</td>\n",
              "      <td>0.02</td>\n",
              "      <td>0.99</td>\n",
              "      <td>0.05</td>\n",
              "      <td>...</td>\n",
              "      <td>0.078</td>\n",
              "      <td>14.16</td>\n",
              "      <td>1.11</td>\n",
              "      <td>0.006</td>\n",
              "      <td>50.28</td>\n",
              "      <td>7.07</td>\n",
              "      <td>0.07</td>\n",
              "      <td>0.44</td>\n",
              "      <td>0.01</td>\n",
              "      <td>0</td>\n",
              "    </tr>\n",
              "    <tr>\n",
              "      <th>3</th>\n",
              "      <td>1.36</td>\n",
              "      <td>11.33</td>\n",
              "      <td>0.04</td>\n",
              "      <td>2.96</td>\n",
              "      <td>0.001</td>\n",
              "      <td>7.23</td>\n",
              "      <td>0.03</td>\n",
              "      <td>1.66</td>\n",
              "      <td>1.08</td>\n",
              "      <td>0.71</td>\n",
              "      <td>...</td>\n",
              "      <td>0.016</td>\n",
              "      <td>1.41</td>\n",
              "      <td>1.29</td>\n",
              "      <td>0.004</td>\n",
              "      <td>9.12</td>\n",
              "      <td>1.72</td>\n",
              "      <td>0.02</td>\n",
              "      <td>0.45</td>\n",
              "      <td>0.05</td>\n",
              "      <td>1</td>\n",
              "    </tr>\n",
              "    <tr>\n",
              "      <th>4</th>\n",
              "      <td>0.92</td>\n",
              "      <td>24.33</td>\n",
              "      <td>0.03</td>\n",
              "      <td>0.20</td>\n",
              "      <td>0.006</td>\n",
              "      <td>2.67</td>\n",
              "      <td>0.69</td>\n",
              "      <td>0.57</td>\n",
              "      <td>0.61</td>\n",
              "      <td>0.13</td>\n",
              "      <td>...</td>\n",
              "      <td>0.117</td>\n",
              "      <td>6.74</td>\n",
              "      <td>1.11</td>\n",
              "      <td>0.003</td>\n",
              "      <td>16.90</td>\n",
              "      <td>2.41</td>\n",
              "      <td>0.02</td>\n",
              "      <td>0.06</td>\n",
              "      <td>0.02</td>\n",
              "      <td>1</td>\n",
              "    </tr>\n",
              "  </tbody>\n",
              "</table>\n",
              "<p>5 rows × 21 columns</p>\n",
              "</div>\n",
              "      <button class=\"colab-df-convert\" onclick=\"convertToInteractive('df-faf796e5-c423-4cdd-a7b0-dd7b0b6e7d81')\"\n",
              "              title=\"Convert this dataframe to an interactive table.\"\n",
              "              style=\"display:none;\">\n",
              "\n",
              "  <svg xmlns=\"http://www.w3.org/2000/svg\" height=\"24px\"viewBox=\"0 0 24 24\"\n",
              "       width=\"24px\">\n",
              "    <path d=\"M0 0h24v24H0V0z\" fill=\"none\"/>\n",
              "    <path d=\"M18.56 5.44l.94 2.06.94-2.06 2.06-.94-2.06-.94-.94-2.06-.94 2.06-2.06.94zm-11 1L8.5 8.5l.94-2.06 2.06-.94-2.06-.94L8.5 2.5l-.94 2.06-2.06.94zm10 10l.94 2.06.94-2.06 2.06-.94-2.06-.94-.94-2.06-.94 2.06-2.06.94z\"/><path d=\"M17.41 7.96l-1.37-1.37c-.4-.4-.92-.59-1.43-.59-.52 0-1.04.2-1.43.59L10.3 9.45l-7.72 7.72c-.78.78-.78 2.05 0 2.83L4 21.41c.39.39.9.59 1.41.59.51 0 1.02-.2 1.41-.59l7.78-7.78 2.81-2.81c.8-.78.8-2.07 0-2.86zM5.41 20L4 18.59l7.72-7.72 1.47 1.35L5.41 20z\"/>\n",
              "  </svg>\n",
              "      </button>\n",
              "\n",
              "\n",
              "\n",
              "    <div id=\"df-b73bbac6-eb76-439e-aad5-246195471791\">\n",
              "      <button class=\"colab-df-quickchart\" onclick=\"quickchart('df-b73bbac6-eb76-439e-aad5-246195471791')\"\n",
              "              title=\"Suggest charts.\"\n",
              "              style=\"display:none;\">\n",
              "\n",
              "<svg xmlns=\"http://www.w3.org/2000/svg\" height=\"24px\"viewBox=\"0 0 24 24\"\n",
              "     width=\"24px\">\n",
              "    <g>\n",
              "        <path d=\"M19 3H5c-1.1 0-2 .9-2 2v14c0 1.1.9 2 2 2h14c1.1 0 2-.9 2-2V5c0-1.1-.9-2-2-2zM9 17H7v-7h2v7zm4 0h-2V7h2v10zm4 0h-2v-4h2v4z\"/>\n",
              "    </g>\n",
              "</svg>\n",
              "      </button>\n",
              "    </div>\n",
              "\n",
              "<style>\n",
              "  .colab-df-quickchart {\n",
              "    background-color: #E8F0FE;\n",
              "    border: none;\n",
              "    border-radius: 50%;\n",
              "    cursor: pointer;\n",
              "    display: none;\n",
              "    fill: #1967D2;\n",
              "    height: 32px;\n",
              "    padding: 0 0 0 0;\n",
              "    width: 32px;\n",
              "  }\n",
              "\n",
              "  .colab-df-quickchart:hover {\n",
              "    background-color: #E2EBFA;\n",
              "    box-shadow: 0px 1px 2px rgba(60, 64, 67, 0.3), 0px 1px 3px 1px rgba(60, 64, 67, 0.15);\n",
              "    fill: #174EA6;\n",
              "  }\n",
              "\n",
              "  [theme=dark] .colab-df-quickchart {\n",
              "    background-color: #3B4455;\n",
              "    fill: #D2E3FC;\n",
              "  }\n",
              "\n",
              "  [theme=dark] .colab-df-quickchart:hover {\n",
              "    background-color: #434B5C;\n",
              "    box-shadow: 0px 1px 3px 1px rgba(0, 0, 0, 0.15);\n",
              "    filter: drop-shadow(0px 1px 2px rgba(0, 0, 0, 0.3));\n",
              "    fill: #FFFFFF;\n",
              "  }\n",
              "</style>\n",
              "\n",
              "    <script>\n",
              "      async function quickchart(key) {\n",
              "        const containerElement = document.querySelector('#' + key);\n",
              "        const charts = await google.colab.kernel.invokeFunction(\n",
              "            'suggestCharts', [key], {});\n",
              "      }\n",
              "    </script>\n",
              "\n",
              "      <script>\n",
              "\n",
              "function displayQuickchartButton(domScope) {\n",
              "  let quickchartButtonEl =\n",
              "    domScope.querySelector('#df-b73bbac6-eb76-439e-aad5-246195471791 button.colab-df-quickchart');\n",
              "  quickchartButtonEl.style.display =\n",
              "    google.colab.kernel.accessAllowed ? 'block' : 'none';\n",
              "}\n",
              "\n",
              "        displayQuickchartButton(document);\n",
              "      </script>\n",
              "      <style>\n",
              "    .colab-df-container {\n",
              "      display:flex;\n",
              "      flex-wrap:wrap;\n",
              "      gap: 12px;\n",
              "    }\n",
              "\n",
              "    .colab-df-convert {\n",
              "      background-color: #E8F0FE;\n",
              "      border: none;\n",
              "      border-radius: 50%;\n",
              "      cursor: pointer;\n",
              "      display: none;\n",
              "      fill: #1967D2;\n",
              "      height: 32px;\n",
              "      padding: 0 0 0 0;\n",
              "      width: 32px;\n",
              "    }\n",
              "\n",
              "    .colab-df-convert:hover {\n",
              "      background-color: #E2EBFA;\n",
              "      box-shadow: 0px 1px 2px rgba(60, 64, 67, 0.3), 0px 1px 3px 1px rgba(60, 64, 67, 0.15);\n",
              "      fill: #174EA6;\n",
              "    }\n",
              "\n",
              "    [theme=dark] .colab-df-convert {\n",
              "      background-color: #3B4455;\n",
              "      fill: #D2E3FC;\n",
              "    }\n",
              "\n",
              "    [theme=dark] .colab-df-convert:hover {\n",
              "      background-color: #434B5C;\n",
              "      box-shadow: 0px 1px 3px 1px rgba(0, 0, 0, 0.15);\n",
              "      filter: drop-shadow(0px 1px 2px rgba(0, 0, 0, 0.3));\n",
              "      fill: #FFFFFF;\n",
              "    }\n",
              "  </style>\n",
              "\n",
              "      <script>\n",
              "        const buttonEl =\n",
              "          document.querySelector('#df-faf796e5-c423-4cdd-a7b0-dd7b0b6e7d81 button.colab-df-convert');\n",
              "        buttonEl.style.display =\n",
              "          google.colab.kernel.accessAllowed ? 'block' : 'none';\n",
              "\n",
              "        async function convertToInteractive(key) {\n",
              "          const element = document.querySelector('#df-faf796e5-c423-4cdd-a7b0-dd7b0b6e7d81');\n",
              "          const dataTable =\n",
              "            await google.colab.kernel.invokeFunction('convertToInteractive',\n",
              "                                                     [key], {});\n",
              "          if (!dataTable) return;\n",
              "\n",
              "          const docLinkHtml = 'Like what you see? Visit the ' +\n",
              "            '<a target=\"_blank\" href=https://colab.research.google.com/notebooks/data_table.ipynb>data table notebook</a>'\n",
              "            + ' to learn more about interactive tables.';\n",
              "          element.innerHTML = '';\n",
              "          dataTable['output_type'] = 'display_data';\n",
              "          await google.colab.output.renderOutput(dataTable, element);\n",
              "          const docLink = document.createElement('div');\n",
              "          docLink.innerHTML = docLinkHtml;\n",
              "          element.appendChild(docLink);\n",
              "        }\n",
              "      </script>\n",
              "    </div>\n",
              "  </div>\n"
            ]
          },
          "metadata": {},
          "execution_count": 64
        }
      ]
    },
    {
      "cell_type": "markdown",
      "source": [
        "###**2. Preparação dos Dados**"
      ],
      "metadata": {
        "id": "dmM2XaBnvDks"
      }
    },
    {
      "cell_type": "markdown",
      "source": [
        "####2.1 - Fazendo um pré-tratamento dos dados: verificando presença de objetos, eliminando linhas que tenham algum valor missing, com erro, e convertendo objetos em números inteiros."
      ],
      "metadata": {
        "id": "Ldnxxvm-cju9"
      }
    },
    {
      "cell_type": "code",
      "source": [
        "#verificando a presença de objetos\n",
        "water.info()\n",
        "\n",
        "# Imprimindo Alteração no Console\n",
        "print(water)\n",
        "\n",
        "#verificando a presença de dados vazios\n",
        "print(f'Number of NaNs values: {water.isna().sum().sum()}')"
      ],
      "metadata": {
        "colab": {
          "base_uri": "https://localhost:8080/"
        },
        "id": "4eJpioP5PtvS",
        "outputId": "26df0d8d-76f5-44a4-a682-3ed46ceaa0f7"
      },
      "execution_count": 65,
      "outputs": [
        {
          "output_type": "stream",
          "name": "stdout",
          "text": [
            "<class 'pandas.core.frame.DataFrame'>\n",
            "RangeIndex: 7999 entries, 0 to 7998\n",
            "Data columns (total 21 columns):\n",
            " #   Column       Non-Null Count  Dtype  \n",
            "---  ------       --------------  -----  \n",
            " 0   aluminium    7999 non-null   float64\n",
            " 1   ammonia      7999 non-null   object \n",
            " 2   arsenic      7999 non-null   float64\n",
            " 3   barium       7999 non-null   float64\n",
            " 4   cadmium      7999 non-null   float64\n",
            " 5   chloramine   7999 non-null   float64\n",
            " 6   chromium     7999 non-null   float64\n",
            " 7   copper       7999 non-null   float64\n",
            " 8   flouride     7999 non-null   float64\n",
            " 9   bacteria     7999 non-null   float64\n",
            " 10  viruses      7999 non-null   float64\n",
            " 11  lead         7999 non-null   float64\n",
            " 12  nitrates     7999 non-null   float64\n",
            " 13  nitrites     7999 non-null   float64\n",
            " 14  mercury      7999 non-null   float64\n",
            " 15  perchlorate  7999 non-null   float64\n",
            " 16  radium       7999 non-null   float64\n",
            " 17  selenium     7999 non-null   float64\n",
            " 18  silver       7999 non-null   float64\n",
            " 19  uranium      7999 non-null   float64\n",
            " 20  is_safe      7999 non-null   object \n",
            "dtypes: float64(19), object(2)\n",
            "memory usage: 1.3+ MB\n",
            "      aluminium ammonia  arsenic  barium  cadmium  chloramine  chromium  \\\n",
            "0          1.65    9.08     0.04    2.85    0.007        0.35      0.83   \n",
            "1          2.32   21.16     0.01    3.31    0.002        5.28      0.68   \n",
            "2          1.01   14.02     0.04    0.58    0.008        4.24      0.53   \n",
            "3          1.36   11.33     0.04    2.96    0.001        7.23      0.03   \n",
            "4          0.92   24.33     0.03    0.20    0.006        2.67      0.69   \n",
            "...         ...     ...      ...     ...      ...         ...       ...   \n",
            "7994       0.05    7.78     0.00    1.95    0.040        0.10      0.03   \n",
            "7995       0.05   24.22     0.02    0.59    0.010        0.45      0.02   \n",
            "7996       0.09    6.85     0.00    0.61    0.030        0.05      0.05   \n",
            "7997       0.01      10     0.01    2.00    0.000        2.00      0.00   \n",
            "7998       0.04    6.85     0.01    0.70    0.030        0.05      0.01   \n",
            "\n",
            "      copper  flouride  bacteria  ...   lead  nitrates  nitrites  mercury  \\\n",
            "0       0.17      0.05      0.20  ...  0.054     16.08      1.13    0.007   \n",
            "1       0.66      0.90      0.65  ...  0.100      2.01      1.93    0.003   \n",
            "2       0.02      0.99      0.05  ...  0.078     14.16      1.11    0.006   \n",
            "3       1.66      1.08      0.71  ...  0.016      1.41      1.29    0.004   \n",
            "4       0.57      0.61      0.13  ...  0.117      6.74      1.11    0.003   \n",
            "...      ...       ...       ...  ...    ...       ...       ...      ...   \n",
            "7994    0.03      1.37      0.00  ...  0.197     14.29      1.00    0.005   \n",
            "7995    0.02      1.48      0.00  ...  0.031     10.27      1.00    0.001   \n",
            "7996    0.02      0.91      0.00  ...  0.182     15.92      1.00    0.000   \n",
            "7997    0.09      0.00      0.00  ...  0.000      0.00      0.00    0.000   \n",
            "7998    0.03      1.00      0.00  ...  0.182     15.92      1.00    0.000   \n",
            "\n",
            "      perchlorate  radium  selenium  silver  uranium  is_safe  \n",
            "0           37.75    6.78      0.08    0.34     0.02        1  \n",
            "1           32.26    3.21      0.08    0.27     0.05        1  \n",
            "2           50.28    7.07      0.07    0.44     0.01        0  \n",
            "3            9.12    1.72      0.02    0.45     0.05        1  \n",
            "4           16.90    2.41      0.02    0.06     0.02        1  \n",
            "...           ...     ...       ...     ...      ...      ...  \n",
            "7994         3.57    2.13      0.09    0.06     0.03        1  \n",
            "7995         1.48    1.11      0.09    0.10     0.08        1  \n",
            "7996         1.35    4.84      0.00    0.04     0.05        1  \n",
            "7997         0.00    0.00      0.00    0.00     0.00        1  \n",
            "7998         1.35    4.84      0.00    0.04     0.05        1  \n",
            "\n",
            "[7999 rows x 21 columns]\n",
            "Number of NaNs values: 0\n"
          ]
        }
      ]
    },
    {
      "cell_type": "code",
      "source": [
        "# eliminando linhas que tenham algum valor missing, com erro, e convertendo objetos em int\n",
        "water = water.replace(['#NUM!'], 0)\n",
        "water['ammonia'] = water['ammonia'].astype(float)\n",
        "water['is_safe'] = water['is_safe'].astype(int)\n",
        "water = water.dropna(how='any')\n",
        "water = water.replace(np.nan, 0)"
      ],
      "metadata": {
        "id": "s3nddlFnRf54"
      },
      "execution_count": 66,
      "outputs": []
    },
    {
      "cell_type": "markdown",
      "source": [
        "###2.2 - Seleção de Atributos (Feature Selection)"
      ],
      "metadata": {
        "id": "QJDB0QAme95Q"
      }
    },
    {
      "cell_type": "code",
      "source": [
        "# Importância de Atributos com ExtraTrees\n",
        "\n",
        "# Criação do modelo para seleção de atributos\n",
        "modelo = ExtraTreesClassifier(n_estimators=100)\n",
        "modelo.fit(X,y)\n",
        "\n",
        "# Exibe os atributos orginais\n",
        "print(\"\\nAtributos Originais:\", water.columns[0:20])\n",
        "\n",
        "# Exibe a pontuação de importância para cada atributo (quanto maior a pontuação, mais importante é o atributo).\n",
        "print(modelo.feature_importances_)"
      ],
      "metadata": {
        "id": "LWVd7qCXfQSg",
        "colab": {
          "base_uri": "https://localhost:8080/"
        },
        "outputId": "8ffc100f-0508-40d4-f89f-4cbab1c1ffc7"
      },
      "execution_count": 67,
      "outputs": [
        {
          "output_type": "stream",
          "name": "stdout",
          "text": [
            "\n",
            "Atributos Originais: Index(['aluminium', 'ammonia', 'arsenic', 'barium', 'cadmium', 'chloramine',\n",
            "       'chromium', 'copper', 'flouride', 'bacteria', 'viruses', 'lead',\n",
            "       'nitrates', 'nitrites', 'mercury', 'perchlorate', 'radium', 'selenium',\n",
            "       'silver', 'uranium'],\n",
            "      dtype='object')\n",
            "[0.238 0.038 0.074 0.029 0.092 0.046 0.039 0.025 0.023 0.037 0.038 0.025\n",
            " 0.034 0.03  0.025 0.078 0.029 0.024 0.044 0.033]\n"
          ]
        }
      ]
    },
    {
      "cell_type": "markdown",
      "source": [
        "####Realizando-se a seleção de atributos com o método ExtraTrees, observou-se 4 atributos com maior pontuação. Dessa forma, para os outros métodos de seleção de atributos (SelectKBest e Eliminação Recursiva) serão considerados apenas 4 atributos."
      ],
      "metadata": {
        "id": "P-U4qyHMnybI"
      }
    },
    {
      "cell_type": "code",
      "source": [
        "# SelectKBest\n",
        "\n",
        "# Seleção de atributos com SelectKBest\n",
        "best_var = SelectKBest(score_func=f_classif, k=4)\n",
        "\n",
        "# Executa a função de pontuação em (X, y) e obtém os atributos selecionados\n",
        "fit = best_var.fit(X, y)\n",
        "\n",
        "# Reduz X para os atributos selecionados\n",
        "features = fit.transform(X)\n",
        "\n",
        "# Resultados\n",
        "print('\\nNúmero original de atributos:', X.shape[1])\n",
        "print('\\nNúmero reduzido de atributos:', features.shape[1])\n",
        "\n",
        "# Exibe os atributos orginais\n",
        "print(\"\\nAtributos Originais:\", water.columns[0:20])\n",
        "\n",
        "# Exibe as pontuações de cada atributos e os 4 escolhidas (com as pontuações mais altas)\n",
        "np.set_printoptions(precision=3) # 3 casas decimais\n",
        "print(\"\\nScores dos Atributos Originais:\", fit.scores_)\n",
        "print(\"\\nAtributos Selecionados:\", best_var.get_feature_names_out(input_features = water.columns[0:20]))"
      ],
      "metadata": {
        "id": "zKp6W1aLfEa8",
        "colab": {
          "base_uri": "https://localhost:8080/"
        },
        "outputId": "5930c2b7-05e7-4323-9f83-a3e203df4701"
      },
      "execution_count": 68,
      "outputs": [
        {
          "output_type": "stream",
          "name": "stdout",
          "text": [
            "\n",
            "Número original de atributos: 20\n",
            "\n",
            "Número reduzido de atributos: 4\n",
            "\n",
            "Atributos Originais: Index(['aluminium', 'ammonia', 'arsenic', 'barium', 'cadmium', 'chloramine',\n",
            "       'chromium', 'copper', 'flouride', 'bacteria', 'viruses', 'lead',\n",
            "       'nitrates', 'nitrites', 'mercury', 'perchlorate', 'radium', 'selenium',\n",
            "       'silver', 'uranium'],\n",
            "      dtype='object')\n",
            "\n",
            "Scores dos Atributos Originais: [1.004e+03 4.120e+00 1.235e+02 6.665e+01 5.609e+02 2.891e+02 2.752e+02\n",
            " 6.985e+00 3.501e-01 3.880e+00 7.581e+01 8.131e-01 4.175e+01 1.764e+01\n",
            " 1.093e+01 4.625e+01 3.357e+01 7.661e+00 8.555e+01 4.599e+01]\n",
            "\n",
            "Atributos Selecionados: ['aluminium' 'cadmium' 'chloramine' 'chromium']\n"
          ]
        }
      ]
    },
    {
      "cell_type": "code",
      "source": [
        "# Eliminação Recursiva de Atributos\n",
        "\n",
        "# Criação do modelo\n",
        "modelo = LogisticRegression(max_iter=200)\n",
        "\n",
        "# Eliminação Recursiva de Atributos\n",
        "rfe = RFE(modelo, n_features_to_select=4)\n",
        "fit = rfe.fit(X, y)\n",
        "\n",
        "# Print dos resultados\n",
        "print(\"Atributos Originais:\", water.columns[0:20])\n",
        "\n",
        "# Exibe os atributos selecionados (marcados como True em \"Atributos Selecionados\"\n",
        "# e com valor 1 em \"Ranking dos Atributos\")\n",
        "print(\"\\nAtributos Selecionados: %s\" % fit.support_)\n",
        "print(\"\\nRanking de atributos: %s\" % fit.ranking_)\n",
        "print(\"\\nQtd de melhores Atributos: %d\" % fit.n_features_)\n",
        "print(\"\\nNomes dos Atributos Selecionados: %s\" % fit.get_feature_names_out(input_features=water.columns[0:20]))"
      ],
      "metadata": {
        "id": "93G4ulT_fKeI",
        "colab": {
          "base_uri": "https://localhost:8080/"
        },
        "outputId": "1c608761-c877-49c2-b6ec-b3eefb092096"
      },
      "execution_count": 69,
      "outputs": [
        {
          "output_type": "stream",
          "name": "stdout",
          "text": [
            "Atributos Originais: Index(['aluminium', 'ammonia', 'arsenic', 'barium', 'cadmium', 'chloramine',\n",
            "       'chromium', 'copper', 'flouride', 'bacteria', 'viruses', 'lead',\n",
            "       'nitrates', 'nitrites', 'mercury', 'perchlorate', 'radium', 'selenium',\n",
            "       'silver', 'uranium'],\n",
            "      dtype='object')\n",
            "\n",
            "Atributos Selecionados: [False False  True False  True False  True False False False False False\n",
            " False False False False False False False  True]\n",
            "\n",
            "Ranking de atributos: [ 5 15  1 12  1 11  1  8 17  7  3  4 14 10  9 16 13  2  6  1]\n",
            "\n",
            "Qtd de melhores Atributos: 4\n",
            "\n",
            "Nomes dos Atributos Selecionados: ['arsenic' 'cadmium' 'chromium' 'uranium']\n"
          ]
        }
      ]
    },
    {
      "cell_type": "markdown",
      "source": [
        "####Considerando-se os três métodos utilizados de Feature Selection, foram considerados os seguintes atributos como mais relevantes: aluminium, arsenic, cadmium e chromium. Dessa forma, removeremos todos os outros atributos de nossa base."
      ],
      "metadata": {
        "id": "rlKAnTVnoT_6"
      }
    },
    {
      "cell_type": "code",
      "source": [
        "water_fs = water.drop(columns=['ammonia', 'barium','chloramine',\n",
        "       'copper', 'flouride', 'bacteria', 'viruses', 'lead',\n",
        "       'nitrates', 'nitrites', 'mercury', 'perchlorate', 'radium', 'selenium',\n",
        "       'silver', 'uranium'])\n",
        "\n",
        "water_fs.head()"
      ],
      "metadata": {
        "colab": {
          "base_uri": "https://localhost:8080/",
          "height": 206
        },
        "id": "LaDwgNgpglAW",
        "outputId": "bd0ff261-a095-48c6-d320-c83ca77e090b"
      },
      "execution_count": 70,
      "outputs": [
        {
          "output_type": "execute_result",
          "data": {
            "text/plain": [
              "   aluminium  arsenic  cadmium  chromium  is_safe\n",
              "0       1.65     0.04    0.007      0.83        1\n",
              "1       2.32     0.01    0.002      0.68        1\n",
              "2       1.01     0.04    0.008      0.53        0\n",
              "3       1.36     0.04    0.001      0.03        1\n",
              "4       0.92     0.03    0.006      0.69        1"
            ],
            "text/html": [
              "\n",
              "\n",
              "  <div id=\"df-701f5a93-9b99-4601-8a71-ab1807d1391f\">\n",
              "    <div class=\"colab-df-container\">\n",
              "      <div>\n",
              "<style scoped>\n",
              "    .dataframe tbody tr th:only-of-type {\n",
              "        vertical-align: middle;\n",
              "    }\n",
              "\n",
              "    .dataframe tbody tr th {\n",
              "        vertical-align: top;\n",
              "    }\n",
              "\n",
              "    .dataframe thead th {\n",
              "        text-align: right;\n",
              "    }\n",
              "</style>\n",
              "<table border=\"1\" class=\"dataframe\">\n",
              "  <thead>\n",
              "    <tr style=\"text-align: right;\">\n",
              "      <th></th>\n",
              "      <th>aluminium</th>\n",
              "      <th>arsenic</th>\n",
              "      <th>cadmium</th>\n",
              "      <th>chromium</th>\n",
              "      <th>is_safe</th>\n",
              "    </tr>\n",
              "  </thead>\n",
              "  <tbody>\n",
              "    <tr>\n",
              "      <th>0</th>\n",
              "      <td>1.65</td>\n",
              "      <td>0.04</td>\n",
              "      <td>0.007</td>\n",
              "      <td>0.83</td>\n",
              "      <td>1</td>\n",
              "    </tr>\n",
              "    <tr>\n",
              "      <th>1</th>\n",
              "      <td>2.32</td>\n",
              "      <td>0.01</td>\n",
              "      <td>0.002</td>\n",
              "      <td>0.68</td>\n",
              "      <td>1</td>\n",
              "    </tr>\n",
              "    <tr>\n",
              "      <th>2</th>\n",
              "      <td>1.01</td>\n",
              "      <td>0.04</td>\n",
              "      <td>0.008</td>\n",
              "      <td>0.53</td>\n",
              "      <td>0</td>\n",
              "    </tr>\n",
              "    <tr>\n",
              "      <th>3</th>\n",
              "      <td>1.36</td>\n",
              "      <td>0.04</td>\n",
              "      <td>0.001</td>\n",
              "      <td>0.03</td>\n",
              "      <td>1</td>\n",
              "    </tr>\n",
              "    <tr>\n",
              "      <th>4</th>\n",
              "      <td>0.92</td>\n",
              "      <td>0.03</td>\n",
              "      <td>0.006</td>\n",
              "      <td>0.69</td>\n",
              "      <td>1</td>\n",
              "    </tr>\n",
              "  </tbody>\n",
              "</table>\n",
              "</div>\n",
              "      <button class=\"colab-df-convert\" onclick=\"convertToInteractive('df-701f5a93-9b99-4601-8a71-ab1807d1391f')\"\n",
              "              title=\"Convert this dataframe to an interactive table.\"\n",
              "              style=\"display:none;\">\n",
              "\n",
              "  <svg xmlns=\"http://www.w3.org/2000/svg\" height=\"24px\"viewBox=\"0 0 24 24\"\n",
              "       width=\"24px\">\n",
              "    <path d=\"M0 0h24v24H0V0z\" fill=\"none\"/>\n",
              "    <path d=\"M18.56 5.44l.94 2.06.94-2.06 2.06-.94-2.06-.94-.94-2.06-.94 2.06-2.06.94zm-11 1L8.5 8.5l.94-2.06 2.06-.94-2.06-.94L8.5 2.5l-.94 2.06-2.06.94zm10 10l.94 2.06.94-2.06 2.06-.94-2.06-.94-.94-2.06-.94 2.06-2.06.94z\"/><path d=\"M17.41 7.96l-1.37-1.37c-.4-.4-.92-.59-1.43-.59-.52 0-1.04.2-1.43.59L10.3 9.45l-7.72 7.72c-.78.78-.78 2.05 0 2.83L4 21.41c.39.39.9.59 1.41.59.51 0 1.02-.2 1.41-.59l7.78-7.78 2.81-2.81c.8-.78.8-2.07 0-2.86zM5.41 20L4 18.59l7.72-7.72 1.47 1.35L5.41 20z\"/>\n",
              "  </svg>\n",
              "      </button>\n",
              "\n",
              "\n",
              "\n",
              "    <div id=\"df-77b8e975-cc38-41d6-ad89-d8cf0489a189\">\n",
              "      <button class=\"colab-df-quickchart\" onclick=\"quickchart('df-77b8e975-cc38-41d6-ad89-d8cf0489a189')\"\n",
              "              title=\"Suggest charts.\"\n",
              "              style=\"display:none;\">\n",
              "\n",
              "<svg xmlns=\"http://www.w3.org/2000/svg\" height=\"24px\"viewBox=\"0 0 24 24\"\n",
              "     width=\"24px\">\n",
              "    <g>\n",
              "        <path d=\"M19 3H5c-1.1 0-2 .9-2 2v14c0 1.1.9 2 2 2h14c1.1 0 2-.9 2-2V5c0-1.1-.9-2-2-2zM9 17H7v-7h2v7zm4 0h-2V7h2v10zm4 0h-2v-4h2v4z\"/>\n",
              "    </g>\n",
              "</svg>\n",
              "      </button>\n",
              "    </div>\n",
              "\n",
              "<style>\n",
              "  .colab-df-quickchart {\n",
              "    background-color: #E8F0FE;\n",
              "    border: none;\n",
              "    border-radius: 50%;\n",
              "    cursor: pointer;\n",
              "    display: none;\n",
              "    fill: #1967D2;\n",
              "    height: 32px;\n",
              "    padding: 0 0 0 0;\n",
              "    width: 32px;\n",
              "  }\n",
              "\n",
              "  .colab-df-quickchart:hover {\n",
              "    background-color: #E2EBFA;\n",
              "    box-shadow: 0px 1px 2px rgba(60, 64, 67, 0.3), 0px 1px 3px 1px rgba(60, 64, 67, 0.15);\n",
              "    fill: #174EA6;\n",
              "  }\n",
              "\n",
              "  [theme=dark] .colab-df-quickchart {\n",
              "    background-color: #3B4455;\n",
              "    fill: #D2E3FC;\n",
              "  }\n",
              "\n",
              "  [theme=dark] .colab-df-quickchart:hover {\n",
              "    background-color: #434B5C;\n",
              "    box-shadow: 0px 1px 3px 1px rgba(0, 0, 0, 0.15);\n",
              "    filter: drop-shadow(0px 1px 2px rgba(0, 0, 0, 0.3));\n",
              "    fill: #FFFFFF;\n",
              "  }\n",
              "</style>\n",
              "\n",
              "    <script>\n",
              "      async function quickchart(key) {\n",
              "        const containerElement = document.querySelector('#' + key);\n",
              "        const charts = await google.colab.kernel.invokeFunction(\n",
              "            'suggestCharts', [key], {});\n",
              "      }\n",
              "    </script>\n",
              "\n",
              "      <script>\n",
              "\n",
              "function displayQuickchartButton(domScope) {\n",
              "  let quickchartButtonEl =\n",
              "    domScope.querySelector('#df-77b8e975-cc38-41d6-ad89-d8cf0489a189 button.colab-df-quickchart');\n",
              "  quickchartButtonEl.style.display =\n",
              "    google.colab.kernel.accessAllowed ? 'block' : 'none';\n",
              "}\n",
              "\n",
              "        displayQuickchartButton(document);\n",
              "      </script>\n",
              "      <style>\n",
              "    .colab-df-container {\n",
              "      display:flex;\n",
              "      flex-wrap:wrap;\n",
              "      gap: 12px;\n",
              "    }\n",
              "\n",
              "    .colab-df-convert {\n",
              "      background-color: #E8F0FE;\n",
              "      border: none;\n",
              "      border-radius: 50%;\n",
              "      cursor: pointer;\n",
              "      display: none;\n",
              "      fill: #1967D2;\n",
              "      height: 32px;\n",
              "      padding: 0 0 0 0;\n",
              "      width: 32px;\n",
              "    }\n",
              "\n",
              "    .colab-df-convert:hover {\n",
              "      background-color: #E2EBFA;\n",
              "      box-shadow: 0px 1px 2px rgba(60, 64, 67, 0.3), 0px 1px 3px 1px rgba(60, 64, 67, 0.15);\n",
              "      fill: #174EA6;\n",
              "    }\n",
              "\n",
              "    [theme=dark] .colab-df-convert {\n",
              "      background-color: #3B4455;\n",
              "      fill: #D2E3FC;\n",
              "    }\n",
              "\n",
              "    [theme=dark] .colab-df-convert:hover {\n",
              "      background-color: #434B5C;\n",
              "      box-shadow: 0px 1px 3px 1px rgba(0, 0, 0, 0.15);\n",
              "      filter: drop-shadow(0px 1px 2px rgba(0, 0, 0, 0.3));\n",
              "      fill: #FFFFFF;\n",
              "    }\n",
              "  </style>\n",
              "\n",
              "      <script>\n",
              "        const buttonEl =\n",
              "          document.querySelector('#df-701f5a93-9b99-4601-8a71-ab1807d1391f button.colab-df-convert');\n",
              "        buttonEl.style.display =\n",
              "          google.colab.kernel.accessAllowed ? 'block' : 'none';\n",
              "\n",
              "        async function convertToInteractive(key) {\n",
              "          const element = document.querySelector('#df-701f5a93-9b99-4601-8a71-ab1807d1391f');\n",
              "          const dataTable =\n",
              "            await google.colab.kernel.invokeFunction('convertToInteractive',\n",
              "                                                     [key], {});\n",
              "          if (!dataTable) return;\n",
              "\n",
              "          const docLinkHtml = 'Like what you see? Visit the ' +\n",
              "            '<a target=\"_blank\" href=https://colab.research.google.com/notebooks/data_table.ipynb>data table notebook</a>'\n",
              "            + ' to learn more about interactive tables.';\n",
              "          element.innerHTML = '';\n",
              "          dataTable['output_type'] = 'display_data';\n",
              "          await google.colab.output.renderOutput(dataTable, element);\n",
              "          const docLink = document.createElement('div');\n",
              "          docLink.innerHTML = docLinkHtml;\n",
              "          element.appendChild(docLink);\n",
              "        }\n",
              "      </script>\n",
              "    </div>\n",
              "  </div>\n"
            ]
          },
          "metadata": {},
          "execution_count": 70
        }
      ]
    },
    {
      "cell_type": "markdown",
      "source": [
        "####Ressalta-se, aqui, que foi realizada a modelagem considerando apenas os 4 atributos selecionados. Porém, conforme demonstrado abaixo, foi obtida uma acurácia de 100%, possivelmente relacionada a um overfitting. Dessa forma, para efeito do presente trabalho, foram mantidos todos os atributos originais de nossa base, para a etapa de modelagem e inferência dos modelos.\n",
        "###![image.png](data:image/png;base64,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)"
      ],
      "metadata": {
        "id": "Tyv2HWX0iVHv"
      }
    },
    {
      "cell_type": "markdown",
      "source": [
        "###2.3 - Separação em conjunto de treino e conjunto de teste com o método holdout"
      ],
      "metadata": {
        "id": "wEMOVvyPnoNG"
      }
    },
    {
      "cell_type": "code",
      "source": [
        "# tamanho do conjunto de teste\n",
        "test_size = 0.30\n",
        "seed = 7 # semente aleatória\n",
        "\n",
        "# Separação em bases de treino e teste (holdout)\n",
        "array = water.values\n",
        "X = array[:,0:20] # atributos\n",
        "y = array[:,20] # classe (is_safe)\n",
        "\n",
        "# fazendo a divisão em base de treino e teste\n",
        "X_train, X_test, y_train, y_test = train_test_split(X, y,\n",
        "    test_size=test_size, shuffle=True, random_state=seed, stratify=y) # faz a divisão # holdout com estratificação\n",
        "\n",
        "# Parâmetros e partições da validação cruzada\n",
        "scoring = 'accuracy'\n",
        "\n",
        "# Criando os folds para a validação cruzada\n",
        "# número de folds da validação cruzada\n",
        "num_particoes = 10\n",
        "kfold = StratifiedKFold(n_splits=num_particoes, shuffle=True, random_state=seed) # validação cruzada com estratificação"
      ],
      "metadata": {
        "id": "TspyLizOnsxM"
      },
      "execution_count": 71,
      "outputs": []
    },
    {
      "cell_type": "markdown",
      "source": [
        "###**3. Modelagem e Inferência**"
      ],
      "metadata": {
        "id": "_0kfq1h4StE9"
      }
    },
    {
      "cell_type": "markdown",
      "source": [
        "####Iniciamos a etapa de modelagem e inferência, porém não sabemos previamente quais algoritmos performarão bem nesse conjunto de dados. Assim, usaremos a validação cruzada para treinar e avaliar os modelos usando a métrica \"acurácia\".\n",
        "####Primeiramente, iremos avaliar os algoritmos com a configuração padrão de hiperparâmetros da scikit-Learn."
      ],
      "metadata": {
        "id": "DSZlm8nbdDws"
      }
    },
    {
      "cell_type": "markdown",
      "source": [
        "####3.1 - Criação e avaliação de modelos: linha base"
      ],
      "metadata": {
        "id": "X5eCAzGnSv3A"
      }
    },
    {
      "cell_type": "code",
      "source": [
        "# Modelagem\n",
        "# Definindo uma seed global para esta célula de código\n",
        "np.random.seed(7)\n",
        "\n",
        "# Listas para armazenar os modelos, os resultados e os nomes dos modelos\n",
        "models = []\n",
        "results = []\n",
        "names = []\n",
        "\n",
        "# Preparando os modelos e adicionando-os na lista de modelos\n",
        "models.append(('LR', LogisticRegression(max_iter=200)))\n",
        "models.append(('KNN', KNeighborsClassifier()))\n",
        "models.append(('CART', DecisionTreeClassifier()))\n",
        "models.append(('NB', GaussianNB()))\n",
        "models.append(('SVM', SVC()))\n",
        "\n",
        "# Definindo os parâmetros do classificador base para o BaggingClassifier\n",
        "base = DecisionTreeClassifier()\n",
        "num_trees = 100\n",
        "max_features = 3\n",
        "\n",
        "# Criando os modelos para o VotingClassifier\n",
        "bases = []\n",
        "model1 = LogisticRegression(max_iter=200)\n",
        "bases.append(('logistic', model1))\n",
        "model2 = DecisionTreeClassifier()\n",
        "bases.append(('cart', model2))\n",
        "model3 = SVC()\n",
        "bases.append(('svm', model3))\n",
        "\n",
        "# Criando os ensembles e adicionando-os na lista de modelos\n",
        "models.append(('Bagging', BaggingClassifier(base_estimator=base, n_estimators=num_trees)))\n",
        "models.append(('RF', RandomForestClassifier(n_estimators=num_trees, max_features=max_features)))\n",
        "models.append(('ET', ExtraTreesClassifier(n_estimators=num_trees, max_features=max_features)))\n",
        "models.append(('Ada', AdaBoostClassifier(n_estimators=num_trees)))\n",
        "models.append(('GB', GradientBoostingClassifier(n_estimators=num_trees)))\n",
        "models.append(('Voting', VotingClassifier(bases)))\n",
        "\n",
        "# Avaliando um modelo por vez\n",
        "for name, model in models:\n",
        "  cv_results = cross_val_score(model, X_train, y_train, cv=kfold, scoring='accuracy')\n",
        "  results.append(cv_results)\n",
        "  names.append(name)\n",
        "  msg = \"%s: %f (%f)\" % (name, cv_results.mean(), cv_results.std()) # média e desvio padrão dos 10 resultados da validação cruzada\n",
        "  print(msg)\n",
        "\n",
        "# Boxplot de comparação dos modelos\n",
        "fig = plt.figure(figsize=(15,10))\n",
        "fig.suptitle('Comparação da Acurácia dos Modelos')\n",
        "ax = fig.add_subplot(111)\n",
        "plt.boxplot(results)\n",
        "ax.set_xticklabels(names)\n",
        "plt.show()"
      ],
      "metadata": {
        "colab": {
          "base_uri": "https://localhost:8080/",
          "height": 1000
        },
        "id": "UeUNgc4TQhaS",
        "outputId": "3e09ae26-b12b-46a2-cc25-0f4f2a6bbb90"
      },
      "execution_count": 72,
      "outputs": [
        {
          "output_type": "stream",
          "name": "stdout",
          "text": [
            "LR: 0.902481 (0.005331)\n",
            "KNN: 0.877658 (0.008208)\n",
            "CART: 0.952136 (0.006946)\n",
            "NB: 0.847468 (0.016580)\n",
            "SVM: 0.886051 (0.000676)\n",
            "Bagging: 0.966066 (0.007862)\n",
            "RF: 0.949278 (0.007365)\n",
            "ET: 0.913736 (0.007133)\n",
            "Ada: 0.932667 (0.006183)\n",
            "GB: 0.958030 (0.007620)\n",
            "Voting: 0.915164 (0.005825)\n"
          ]
        },
        {
          "output_type": "display_data",
          "data": {
            "text/plain": [
              "<Figure size 1500x1000 with 1 Axes>"
            ],
            "image/png": "[encoded data removed]"
          },
          "metadata": {}
        }
      ]
    },
    {
      "cell_type": "markdown",
      "source": [
        "####Etapa de modelagem e inferência, utilizando a biblioteca Pipeline para criar e avaliar os modelos através da validação cruzada com os dados padronizados e normalizados (evitando o data leakage) e comparar o seu resultado com os modelos treinados com o dataset original."
      ],
      "metadata": {
        "id": "P43RIeL3das1"
      }
    },
    {
      "cell_type": "markdown",
      "source": [
        "####3.2 - Criação e avaliação de modelos: dados padronizados e normalizados\n"
      ],
      "metadata": {
        "id": "spD66mg-dp36"
      }
    },
    {
      "cell_type": "code",
      "source": [
        "np.random.seed(7) # definindo uma semente global\n",
        "\n",
        "# Listas para armazenar os armazenar os pipelines e os resultados para todas as visões do dataset\n",
        "pipelines = []\n",
        "results = []\n",
        "names = []\n",
        "\n",
        "\n",
        "# Criando os elementos do pipeline\n",
        "\n",
        "# Algoritmos que serão utilizados\n",
        "reg_log = ('LR', LogisticRegression(max_iter=200))\n",
        "knn = ('KNN', KNeighborsClassifier())\n",
        "cart = ('CART', DecisionTreeClassifier())\n",
        "naive_bayes = ('NB', GaussianNB())\n",
        "svm = ('SVM', SVC())\n",
        "bagging = ('Bag', BaggingClassifier(base_estimator=base, n_estimators=num_trees))\n",
        "random_forest = ('RF', RandomForestClassifier(n_estimators=num_trees, max_features=max_features))\n",
        "extra_trees = ('ET', ExtraTreesClassifier(n_estimators=num_trees, max_features=max_features))\n",
        "adaboost = ('Ada', AdaBoostClassifier(n_estimators=num_trees))\n",
        "gradient_boosting = ('GB', GradientBoostingClassifier(n_estimators=num_trees))\n",
        "voting = ('Voting', VotingClassifier(bases))\n",
        "\n",
        "# Transformações que serão utilizadas\n",
        "standard_scaler = ('StandardScaler', StandardScaler())\n",
        "min_max_scaler = ('MinMaxScaler', MinMaxScaler())\n",
        "\n",
        "\n",
        "# Montando os pipelines\n",
        "\n",
        "# Dataset original\n",
        "pipelines.append(('LR-orig', Pipeline([reg_log])))\n",
        "pipelines.append(('KNN-orig', Pipeline([knn])))\n",
        "pipelines.append(('CART-orig', Pipeline([cart])))\n",
        "pipelines.append(('NB-orig', Pipeline([naive_bayes])))\n",
        "pipelines.append(('SVM-orig', Pipeline([svm])))\n",
        "pipelines.append(('Bag-orig', Pipeline([bagging])))\n",
        "pipelines.append(('RF-orig', Pipeline([random_forest])))\n",
        "pipelines.append(('ET-orig', Pipeline([extra_trees])))\n",
        "pipelines.append(('Ada-orig', Pipeline([adaboost])))\n",
        "pipelines.append(('GB-orig', Pipeline([gradient_boosting])))\n",
        "pipelines.append(('Vot-orig', Pipeline([voting])))\n",
        "\n",
        "# Dataset Padronizado\n",
        "pipelines.append(('LR-padr', Pipeline([standard_scaler, reg_log])))\n",
        "pipelines.append(('KNN-padr', Pipeline([standard_scaler, knn])))\n",
        "pipelines.append(('CART-padr', Pipeline([standard_scaler, cart])))\n",
        "pipelines.append(('NB-padr', Pipeline([standard_scaler, naive_bayes])))\n",
        "pipelines.append(('SVM-padr', Pipeline([standard_scaler, svm])))\n",
        "pipelines.append(('Bag-padr', Pipeline([standard_scaler, bagging])))\n",
        "pipelines.append(('RF-padr', Pipeline([standard_scaler, random_forest])))\n",
        "pipelines.append(('ET-padr', Pipeline([standard_scaler, extra_trees])))\n",
        "pipelines.append(('Ada-padr', Pipeline([standard_scaler, adaboost])))\n",
        "pipelines.append(('GB-padr', Pipeline([standard_scaler, gradient_boosting])))\n",
        "pipelines.append(('Vot-padr', Pipeline([standard_scaler, voting])))\n",
        "\n",
        "# Dataset Normalizado\n",
        "pipelines.append(('LR-norm', Pipeline([min_max_scaler, reg_log])))\n",
        "pipelines.append(('KNN-norm', Pipeline([min_max_scaler, knn])))\n",
        "pipelines.append(('CART-norm', Pipeline([min_max_scaler, cart])))\n",
        "pipelines.append(('NB-norm', Pipeline([min_max_scaler, naive_bayes])))\n",
        "pipelines.append(('SVM-norm', Pipeline([min_max_scaler, svm])))\n",
        "pipelines.append(('Bag-norm', Pipeline([min_max_scaler, bagging])))\n",
        "pipelines.append(('RF-norm', Pipeline([min_max_scaler, random_forest])))\n",
        "pipelines.append(('ET-norm', Pipeline([min_max_scaler, extra_trees])))\n",
        "pipelines.append(('Ada-norm', Pipeline([min_max_scaler, adaboost])))\n",
        "pipelines.append(('GB-norm', Pipeline([min_max_scaler, gradient_boosting])))\n",
        "pipelines.append(('Vot-norm', Pipeline([min_max_scaler, voting])))\n",
        "\n",
        "# Executando os pipelines\n",
        "for name, model in pipelines:\n",
        "    cv_results = cross_val_score(model, X_train, y_train, cv=kfold, scoring=scoring)\n",
        "    results.append(cv_results)\n",
        "    names.append(name)\n",
        "    msg = \"%s: %.3f (%.3f)\" % (name, cv_results.mean(), cv_results.std()) # formatando para 3 casas decimais\n",
        "    print(msg)\n",
        "\n",
        "# Boxplot de comparação dos modelos\n",
        "fig = plt.figure(figsize=(25,6))\n",
        "fig.suptitle('Comparação dos Modelos - Dataset orginal, padronizado e normalizado')\n",
        "ax = fig.add_subplot(111)\n",
        "plt.boxplot(results)\n",
        "ax.set_xticklabels(names, rotation=90)\n",
        "plt.show()"
      ],
      "metadata": {
        "colab": {
          "base_uri": "https://localhost:8080/",
          "height": 953
        },
        "id": "sRslPh96TeCx",
        "outputId": "e0d2ab2a-b6c8-4a58-aa3e-338b20fc1eee"
      },
      "execution_count": 73,
      "outputs": [
        {
          "output_type": "stream",
          "name": "stdout",
          "text": [
            "LR-orig: 0.902 (0.005)\n",
            "KNN-orig: 0.878 (0.008)\n",
            "CART-orig: 0.952 (0.007)\n",
            "NB-orig: 0.847 (0.017)\n",
            "SVM-orig: 0.886 (0.001)\n",
            "Bag-orig: 0.966 (0.008)\n",
            "RF-orig: 0.949 (0.007)\n",
            "ET-orig: 0.914 (0.007)\n",
            "Ada-orig: 0.933 (0.006)\n",
            "GB-orig: 0.958 (0.008)\n",
            "Vot-orig: 0.915 (0.006)\n",
            "LR-padr: 0.908 (0.005)\n",
            "KNN-padr: 0.907 (0.011)\n",
            "CART-padr: 0.952 (0.007)\n",
            "NB-padr: 0.847 (0.017)\n",
            "SVM-padr: 0.938 (0.009)\n",
            "Bag-padr: 0.967 (0.008)\n",
            "RF-padr: 0.948 (0.007)\n",
            "ET-padr: 0.911 (0.008)\n",
            "Ada-padr: 0.933 (0.006)\n",
            "GB-padr: 0.958 (0.008)\n",
            "Vot-padr: 0.940 (0.007)\n",
            "LR-norm: 0.906 (0.005)\n",
            "KNN-norm: 0.902 (0.013)\n",
            "CART-norm: 0.951 (0.009)\n",
            "NB-norm: 0.847 (0.017)\n",
            "SVM-norm: 0.935 (0.009)\n",
            "Bag-norm: 0.967 (0.007)\n",
            "RF-norm: 0.949 (0.007)\n",
            "ET-norm: 0.911 (0.007)\n",
            "Ada-norm: 0.933 (0.006)\n",
            "GB-norm: 0.958 (0.008)\n",
            "Vot-norm: 0.936 (0.006)\n"
          ]
        },
        {
          "output_type": "display_data",
          "data": {
            "text/plain": [
              "<Figure size 2500x600 with 1 Axes>"
            ],
            "image/png": "[encoded data removed]"
          },
          "metadata": {}
        }
      ]
    },
    {
      "cell_type": "markdown",
      "source": [
        "####Utilizando-se a biblioteca Grid Search para executar a otimização dos hiperparâmetros do algoritmo KNN, buscando melhores resultados. Para tal, serão utilizados todos os valores ímpares de k entre 1 e 21 e diferentes métricas de distância (euclidean, manhattan e minkowski)."
      ],
      "metadata": {
        "id": "TzGWvAQ1dyPA"
      }
    },
    {
      "cell_type": "markdown",
      "source": [
        "####3.3 - Otimização dos hiperparâmetros"
      ],
      "metadata": {
        "id": "ivpNoWGDX4rQ"
      }
    },
    {
      "cell_type": "code",
      "source": [
        "# Tuning do KNN\n",
        "\n",
        "np.random.seed(7) # definindo uma semente global para este bloco\n",
        "\n",
        "pipelines = []\n",
        "\n",
        "# Definindo os componentes do pipeline\n",
        "knn = ('KNN', KNeighborsClassifier())\n",
        "standard_scaler = ('StandardScaler', StandardScaler())\n",
        "min_max_scaler = ('MinMaxScaler', MinMaxScaler())\n",
        "\n",
        "pipelines.append(('knn-orig', Pipeline(steps=[knn])))\n",
        "pipelines.append(('knn-padr', Pipeline(steps=[standard_scaler, knn])))\n",
        "pipelines.append(('knn-norm', Pipeline(steps=[min_max_scaler, knn])))\n",
        "\n",
        "param_grid = {\n",
        "    'KNN__n_neighbors': [1,3,5,7,9,11,13,15,17,19,21],\n",
        "    'KNN__metric': [\"euclidean\", \"manhattan\", \"minkowski\"],\n",
        "}\n",
        "\n",
        "# Prepara e executa o GridSearchCV\n",
        "for name, model in pipelines:\n",
        "    grid = GridSearchCV(estimator=model, param_grid=param_grid, scoring=scoring, cv=kfold)\n",
        "    grid.fit(X_train, y_train)\n",
        "    # imprime a melhor configuração\n",
        "    print(\"Sem tratamento de missings: %s - Melhor: %f usando %s\" % (name, grid.best_score_, grid.best_params_))"
      ],
      "metadata": {
        "colab": {
          "base_uri": "https://localhost:8080/"
        },
        "id": "6Fe3vV_XX8Rm",
        "outputId": "68d69ea0-11e6-47e8-e43c-0de3fa3d3e43"
      },
      "execution_count": 74,
      "outputs": [
        {
          "output_type": "stream",
          "name": "stdout",
          "text": [
            "Sem tratamento de missings: knn-orig - Melhor: 0.887660 usando {'KNN__metric': 'manhattan', 'KNN__n_neighbors': 17}\n",
            "Sem tratamento de missings: knn-padr - Melhor: 0.915878 usando {'KNN__metric': 'euclidean', 'KNN__n_neighbors': 17}\n",
            "Sem tratamento de missings: knn-norm - Melhor: 0.909807 usando {'KNN__metric': 'euclidean', 'KNN__n_neighbors': 11}\n"
          ]
        }
      ]
    },
    {
      "cell_type": "markdown",
      "source": [
        "####Após a otimização dos hiperparâmetros do algoritmo KNN, observou-se uma melhora em sua acurácia média, porém, outros modelos apresentaram melhores resultados e, portanto, serão escolhidos para implementação."
      ],
      "metadata": {
        "id": "mPO0QNuy81eN"
      }
    },
    {
      "cell_type": "markdown",
      "source": [
        "###**4. Finalização do Modelo**"
      ],
      "metadata": {
        "id": "rtS0mgDee3t0"
      }
    },
    {
      "cell_type": "markdown",
      "source": [
        "####Considerou-se o modelo que alcançou os melhores resultados e, portanto, foi o escolhido para implementação: **árvore de decisão**.\n",
        "####Em seguida, o modelo é finalizado, treinando-o em todo o conjunto de dados de treinamento (sem validação cruzada), e são feitas predições para o conjunto de dados de teste que foi separado no início, a fim de confirmar os resultados.\n",
        "####Primeiro, será realizada a padronização dos dados de entrada, em seguida o modelo será treinado e a acurácia de teste será exibida.\n"
      ],
      "metadata": {
        "id": "OPjM1K_peKxq"
      }
    },
    {
      "cell_type": "markdown",
      "source": [
        "####Para fins de comparação, será treinado o segundo modelo que melhor performou: **regressão logística**"
      ],
      "metadata": {
        "id": "ORTon4lU-4PW"
      }
    },
    {
      "cell_type": "code",
      "source": [
        "# Avaliação do modelo com o conjunto de testes\n",
        "\n",
        "# Preparação do modelo\n",
        "scaler = StandardScaler().fit(X_train) # ajuste do scaler com o conjunto de treino\n",
        "rescaledX = scaler.transform(X_train) # aplicação da padronização no conjunto de treino\n",
        "model_LR = LogisticRegression(max_iter=200)\n",
        "model = DecisionTreeClassifier()\n",
        "model_LR.fit(rescaledX, y_train)\n",
        "model.fit(rescaledX, y_train)\n",
        "\n",
        "# Estimativa da acurácia no conjunto de teste\n",
        "rescaledTestX = scaler.transform(X_test) # aplicação da padronização no conjunto de teste\n",
        "predictions_LR = model_LR.predict(rescaledTestX)\n",
        "predictions = model.predict(rescaledTestX)\n",
        "print(accuracy_score(y_test, predictions_LR))\n",
        "print(accuracy_score(y_test, predictions))"
      ],
      "metadata": {
        "colab": {
          "base_uri": "https://localhost:8080/"
        },
        "id": "e6wW1iL4e_1O",
        "outputId": "c57b6993-703d-4cc7-df8d-c4b34d043d2b"
      },
      "execution_count": 75,
      "outputs": [
        {
          "output_type": "stream",
          "name": "stdout",
          "text": [
            "0.9083333333333333\n",
            "0.94875\n"
          ]
        }
      ]
    },
    {
      "cell_type": "markdown",
      "source": [
        "####Por meio do conjunto de teste, verificou-se a acurácia alcançada de **94,8%** em dados não vistos para o modelo de árvore de decisão.\n",
        "####Esse resultado foi ligeiramente inferior à avaliação anterior da árvore de decisão, que alcançou acurácia média de **95,2%**.\n",
        "\n",
        "####Já para o modelo de regressão logística verificou-se a acurácia de **90,8%** no conjunto de teste.\n",
        "####Valor semelhante ao encontrado na avaliação de dados normalizados, para o mesmo modelo.\n",
        "\n",
        "####Valores semelhantes à acurácia de teste são esperados quando esse modelo estiver executando em produção e fazendo predições para novos dados."
      ],
      "metadata": {
        "id": "-quHvGAWfKrM"
      }
    },
    {
      "cell_type": "markdown",
      "source": [
        "####Vamos agora preparar o modelo para utilização em produção. Para isso, vamos treiná-lo com todo o dataset, e não apenas o conjunto de treino."
      ],
      "metadata": {
        "id": "z4TS4L_ofd6U"
      }
    },
    {
      "cell_type": "code",
      "source": [
        "# Preparação do modelo com TODO o dataset\n",
        "scaler = StandardScaler().fit(X) # ajuste do scaler com TODO o dataset\n",
        "rescaledX = scaler.transform(X) # aplicação da padronização com TODO o dataset\n",
        "model.fit(rescaledX, y)"
      ],
      "metadata": {
        "colab": {
          "base_uri": "https://localhost:8080/",
          "height": 74
        },
        "id": "7Qf10wu4fCxl",
        "outputId": "c0417c05-74f1-4e9b-f826-740dcf03be94"
      },
      "execution_count": 76,
      "outputs": [
        {
          "output_type": "execute_result",
          "data": {
            "text/plain": [
              "DecisionTreeClassifier()"
            ],
            "text/html": [
              "<style>#sk-container-id-4 {color: black;background-color: white;}#sk-container-id-4 pre{padding: 0;}#sk-container-id-4 div.sk-toggleable {background-color: white;}#sk-container-id-4 label.sk-toggleable__label {cursor: pointer;display: block;width: 100%;margin-bottom: 0;padding: 0.3em;box-sizing: border-box;text-align: center;}#sk-container-id-4 label.sk-toggleable__label-arrow:before {content: \"▸\";float: left;margin-right: 0.25em;color: #696969;}#sk-container-id-4 label.sk-toggleable__label-arrow:hover:before {color: black;}#sk-container-id-4 div.sk-estimator:hover label.sk-toggleable__label-arrow:before {color: black;}#sk-container-id-4 div.sk-toggleable__content {max-height: 0;max-width: 0;overflow: hidden;text-align: left;background-color: #f0f8ff;}#sk-container-id-4 div.sk-toggleable__content pre {margin: 0.2em;color: black;border-radius: 0.25em;background-color: #f0f8ff;}#sk-container-id-4 input.sk-toggleable__control:checked~div.sk-toggleable__content {max-height: 200px;max-width: 100%;overflow: auto;}#sk-container-id-4 input.sk-toggleable__control:checked~label.sk-toggleable__label-arrow:before {content: \"▾\";}#sk-container-id-4 div.sk-estimator input.sk-toggleable__control:checked~label.sk-toggleable__label {background-color: #d4ebff;}#sk-container-id-4 div.sk-label input.sk-toggleable__control:checked~label.sk-toggleable__label {background-color: #d4ebff;}#sk-container-id-4 input.sk-hidden--visually {border: 0;clip: rect(1px 1px 1px 1px);clip: rect(1px, 1px, 1px, 1px);height: 1px;margin: -1px;overflow: hidden;padding: 0;position: absolute;width: 1px;}#sk-container-id-4 div.sk-estimator {font-family: monospace;background-color: #f0f8ff;border: 1px dotted black;border-radius: 0.25em;box-sizing: border-box;margin-bottom: 0.5em;}#sk-container-id-4 div.sk-estimator:hover {background-color: #d4ebff;}#sk-container-id-4 div.sk-parallel-item::after {content: \"\";width: 100%;border-bottom: 1px solid gray;flex-grow: 1;}#sk-container-id-4 div.sk-label:hover label.sk-toggleable__label {background-color: #d4ebff;}#sk-container-id-4 div.sk-serial::before {content: \"\";position: absolute;border-left: 1px solid gray;box-sizing: border-box;top: 0;bottom: 0;left: 50%;z-index: 0;}#sk-container-id-4 div.sk-serial {display: flex;flex-direction: column;align-items: center;background-color: white;padding-right: 0.2em;padding-left: 0.2em;position: relative;}#sk-container-id-4 div.sk-item {position: relative;z-index: 1;}#sk-container-id-4 div.sk-parallel {display: flex;align-items: stretch;justify-content: center;background-color: white;position: relative;}#sk-container-id-4 div.sk-item::before, #sk-container-id-4 div.sk-parallel-item::before {content: \"\";position: absolute;border-left: 1px solid gray;box-sizing: border-box;top: 0;bottom: 0;left: 50%;z-index: -1;}#sk-container-id-4 div.sk-parallel-item {display: flex;flex-direction: column;z-index: 1;position: relative;background-color: white;}#sk-container-id-4 div.sk-parallel-item:first-child::after {align-self: flex-end;width: 50%;}#sk-container-id-4 div.sk-parallel-item:last-child::after {align-self: flex-start;width: 50%;}#sk-container-id-4 div.sk-parallel-item:only-child::after {width: 0;}#sk-container-id-4 div.sk-dashed-wrapped {border: 1px dashed gray;margin: 0 0.4em 0.5em 0.4em;box-sizing: border-box;padding-bottom: 0.4em;background-color: white;}#sk-container-id-4 div.sk-label label {font-family: monospace;font-weight: bold;display: inline-block;line-height: 1.2em;}#sk-container-id-4 div.sk-label-container {text-align: center;}#sk-container-id-4 div.sk-container {/* jupyter's `normalize.less` sets `[hidden] { display: none; }` but bootstrap.min.css set `[hidden] { display: none !important; }` so we also need the `!important` here to be able to override the default hidden behavior on the sphinx rendered scikit-learn.org. See: https://github.com/scikit-learn/scikit-learn/issues/21755 */display: inline-block !important;position: relative;}#sk-container-id-4 div.sk-text-repr-fallback {display: none;}</style><div id=\"sk-container-id-4\" class=\"sk-top-container\"><div class=\"sk-text-repr-fallback\"><pre>DecisionTreeClassifier()</pre><b>In a Jupyter environment, please rerun this cell to show the HTML representation or trust the notebook. <br />On GitHub, the HTML representation is unable to render, please try loading this page with nbviewer.org.</b></div><div class=\"sk-container\" hidden><div class=\"sk-item\"><div class=\"sk-estimator sk-toggleable\"><input class=\"sk-toggleable__control sk-hidden--visually\" id=\"sk-estimator-id-4\" type=\"checkbox\" checked><label for=\"sk-estimator-id-4\" class=\"sk-toggleable__label sk-toggleable__label-arrow\">DecisionTreeClassifier</label><div class=\"sk-toggleable__content\"><pre>DecisionTreeClassifier()</pre></div></div></div></div></div>"
            ]
          },
          "metadata": {},
          "execution_count": 76
        }
      ]
    },
    {
      "cell_type": "markdown",
      "source": [
        "###**5. Simulando a aplicação do modelo em dados não vistos**"
      ],
      "metadata": {
        "id": "ockHVyRoYIO6"
      }
    },
    {
      "cell_type": "markdown",
      "source": [
        "####Por fim, é realizada a simulação da aplicação do modelo em dados não vistos, considerando três novas instâncias, com classe de saída desconhecidas.\n",
        "####Aplica-se, então, o modelo recém-treinado para fazer a predição das classes. Para tal, será necessário antes padronizar os dados utilizando a mesma escala dos dados usados no treinamento do modelo."
      ],
      "metadata": {
        "id": "OpMKfFEBficd"
      }
    },
    {
      "cell_type": "code",
      "source": [
        "# Novos dados - não sabemos a classe!\n",
        "data = {'aluminium': [1.78, 2.21, 1.44],\n",
        "        'ammonia':  [20.8, 17.3, 22.5],\n",
        "        'arsenic': [0.04, 0.05, 0.03],\n",
        "        'barium': [2.32, 1.28, 0.95],\n",
        "        'cadmium': [0.005, 0.006, 0.007],\n",
        "        'chloramine': [3.86, 5.17, 4.38],\n",
        "        'chromium': [0.52, 0.78, 0.49],\n",
        "        'copper': [0.18, 0.62, 1.10],\n",
        "        'flouride': [0.75, 0.80, 0.92],\n",
        "        'bacteria': [0.60, 0.20, 0.15],\n",
        "        'viruses': [0.05, 0.12, 0.40],\n",
        "        'lead': [0.10, 0.07, 0.13],\n",
        "        'nitrates': [4.15, 12.4, 8.10],\n",
        "        'nitrites': [1.12, 1.20, 1.04],\n",
        "        'mercury': [0.005, 0.003, 0.006],\n",
        "        'perchlorate': [34.1, 42.2, 19.7],\n",
        "        'radium': [3.15, 6.45, 2.86],\n",
        "        'selenium': [0.05, 0.08, 0.02],\n",
        "        'silver': [0.15, 0.40, 0.32],\n",
        "        'uranium': [0.05, 0.04, 0.06]}\n",
        "\n",
        "atributos = ['aluminium', 'ammonia','arsenic','barium','cadmium','chloramine','chromium','copper','flouride','bacteria','viruses','lead','nitrates','nitrites','mercury','perchlorate','radium','selenium','silver','uranium']\n",
        "entrada = pd.DataFrame(data, columns=atributos)\n",
        "\n",
        "array_entrada = entrada.values\n",
        "X_entrada = array_entrada[:,0:20].astype(float)\n",
        "\n",
        "# Padronização nos dados de entrada usando o scaler utilizado em X\n",
        "rescaledEntradaX = scaler.transform(X_entrada)\n",
        "print(rescaledEntradaX)"
      ],
      "metadata": {
        "colab": {
          "base_uri": "https://localhost:8080/"
        },
        "id": "EiSd93hLYO0C",
        "outputId": "e3c7ea02-6d7b-4bc9-8712-29d07868fe78"
      },
      "execution_count": 77,
      "outputs": [
        {
          "output_type": "stream",
          "name": "stdout",
          "text": [
            "[[ 0.88   0.735 -0.481  0.619 -1.049  0.656  1.008 -0.958 -0.05   0.851\n",
            "  -0.737  0.009 -1.023 -0.366 -0.065  0.997  0.099  0.011  0.015  0.198]\n",
            " [ 1.22   0.341 -0.441 -0.237 -1.021  1.166  1.969 -0.284  0.065 -0.363\n",
            "  -0.552 -0.506  0.466 -0.227 -0.739  1.455  1.519  1.054  1.757 -0.174]\n",
            " [ 0.612  0.926 -0.52  -0.508 -0.993  0.858  0.897  0.45   0.341 -0.515\n",
            "   0.189  0.525 -0.31  -0.506  0.272  0.183 -0.026 -1.032  1.2    0.57 ]]\n"
          ]
        }
      ]
    },
    {
      "cell_type": "markdown",
      "source": [
        "####Realiza-se a predição das classes para os novos dados."
      ],
      "metadata": {
        "id": "XSfW-6fBfpmj"
      }
    },
    {
      "cell_type": "code",
      "source": [
        "# Predição de classes dos dados de entrada\n",
        "saidas = model.predict(rescaledEntradaX)\n",
        "print(saidas)"
      ],
      "metadata": {
        "colab": {
          "base_uri": "https://localhost:8080/"
        },
        "id": "eVm6MZCBYQ1e",
        "outputId": "675c0d24-0fdc-47ca-f052-9fb8591075dd"
      },
      "execution_count": 78,
      "outputs": [
        {
          "output_type": "stream",
          "name": "stdout",
          "text": [
            "[1. 0. 1.]\n"
          ]
        }
      ]
    },
    {
      "cell_type": "markdown",
      "source": [
        "####Observa-se que, para as três novas instâncias, foram obtidos resultados de qualidade da água \"segura\", \"não segura\" e \"segura\", respectivamente."
      ],
      "metadata": {
        "id": "sttOjujI7-h4"
      }
    },
    {
      "cell_type": "markdown",
      "source": [
        "###**6. Conclusão**"
      ],
      "metadata": {
        "id": "4Pr-d6tpAHJQ"
      }
    },
    {
      "cell_type": "markdown",
      "source": [
        "####O presente projeto consistiu em analisar uma base de dados de qualidade de água, de modo a verificar se a mesma é segura ou não segura para consumo. Ressalta-se que os dados utilizados são imaginários, assim como não foram considerados, no presente estudo, valores de referência de órgãos reguladores.\n",
        "####Inicialmente foi realizada uma seleção de atributos, onde foram identificados quatro atributos de maior relevância para a base utilizada. Porém, ao realizar a modelagem e inferência dos dados utilizando-se apenas esses quatro atributos, foi obtida acurácia de 100% para todos os modelos analisados. Dessa forma, considerou-se que ocorreu um overfitting dos dados e decidiu-se por utilizar a base completa, com todos os atributos, para o presente projeto.\n",
        "####Em relação à modelagem e inferência, utilizando-se a validação cruzada para treinar e avaliar os modelos com a métrica \"acurácia\", observou-se que os modelos que melhor perfomaram foram a árvore de decisão e a regressão logística.\n",
        "####Ao avaliar os modelos através da validação cruzada com os dados padronizados e normalizados (de forma a se evitar o data leakage), observou-se que não houve variação significativa da acurácia em relação aos modelos originais.\n",
        "####Foi realizada uma otimização dos hiperparâmetros do algoritmo KNN, visando resultados melhores para o referido modelo, porém, apesar de ter sido observada uma melhora em sua acurácia média, outros modelos apresentaram melhores resultados e, portanto, foram escolhidos para implementação.\n",
        "####Escolheu-se para implementação o modelo que alcançou os melhores resultados, árvore de decisão. Para fins de comparação, foi treinado, também, o segundo modelo que melhor performou, regressão logística.\n",
        "####Por meio do conjunto de teste, verificou-se a acurácia alcançada de 94,8% em dados não vistos para o modelo de árvore de decisão, resultado ligeiramente inferior à avaliação anterior da árvore de decisão, que alcançou acurácia média de 95,2%.\n",
        "####Por fim, realizou-se a simulação da aplicação do modelo em dados não vistos, considerando três novas instâncias. Obteve-se resultados de saída satisfatórios, condizentes com os dados das novas instâncias inseridos e com as premissas dos valores considerados perigosos à saúde humana.\n"
      ],
      "metadata": {
        "id": "b6p6VjT5AM2R"
      }
    }
  ]
}